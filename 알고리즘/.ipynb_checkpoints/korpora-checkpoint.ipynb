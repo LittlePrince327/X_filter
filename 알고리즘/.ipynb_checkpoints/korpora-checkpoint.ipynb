{
 "cells": [
  {
   "cell_type": "code",
   "execution_count": null,
   "metadata": {},
   "outputs": [],
   "source": [
    "!git clone https://github.com/songys/Chatbot_data.git"
   ]
  },
  {
   "cell_type": "code",
   "execution_count": 1,
   "metadata": {},
   "outputs": [],
   "source": [
    "import pandas as pd\n",
    "chatdata=pd.read_csv(\"Chatbot_data/ChatbotData.csv\")"
   ]
  },
  {
   "cell_type": "code",
   "execution_count": 2,
   "metadata": {},
   "outputs": [
    {
     "data": {
      "text/plain": [
       "'1지망 학교 떨어졌어'"
      ]
     },
     "execution_count": 2,
     "metadata": {},
     "output_type": "execute_result"
    }
   ],
   "source": [
    "chatdata['Q'][1]"
   ]
  },
  {
   "cell_type": "code",
   "execution_count": 5,
   "metadata": {},
   "outputs": [
    {
     "name": "stdout",
     "output_type": "stream",
     "text": [
      "Note: you may need to restart the kernel to use updated packages.\n"
     ]
    },
    {
     "name": "stderr",
     "output_type": "stream",
     "text": [
      "ERROR: Could not find a version that satisfies the requirement kobart (from versions: none)\n",
      "ERROR: No matching distribution found for kobart\n"
     ]
    }
   ],
   "source": [
    "pip install kobart"
   ]
  },
  {
   "cell_type": "code",
   "execution_count": 4,
   "metadata": {},
   "outputs": [
    {
     "ename": "ModuleNotFoundError",
     "evalue": "No module named 'kobart'",
     "output_type": "error",
     "traceback": [
      "\u001b[1;31m---------------------------------------------------------------------------\u001b[0m",
      "\u001b[1;31mModuleNotFoundError\u001b[0m                       Traceback (most recent call last)",
      "Cell \u001b[1;32mIn[4], line 1\u001b[0m\n\u001b[1;32m----> 1\u001b[0m \u001b[38;5;28;01mfrom\u001b[39;00m \u001b[38;5;21;01mkobart\u001b[39;00m \u001b[38;5;28;01mimport\u001b[39;00m get_kobart_tokenizer\n\u001b[0;32m      3\u001b[0m \u001b[38;5;66;03m# KoBART 토크나이저를 가져옵니다.\u001b[39;00m\n\u001b[0;32m      4\u001b[0m kobart_tokenizer \u001b[38;5;241m=\u001b[39m get_kobart_tokenizer()\n",
      "\u001b[1;31mModuleNotFoundError\u001b[0m: No module named 'kobart'"
     ]
    }
   ],
   "source": [
    "from kobart import get_kobart_tokenizer\n",
    "\n",
    "# KoBART 토크나이저를 가져옵니다.\n",
    "kobart_tokenizer = get_kobart_tokenizer()\n",
    "\n",
    "# 토큰화하고자 하는 한국어 문장을 입력합니다.\n",
    "sentence = \"안녕하세요. 한국어 BART 입니다.🤣:)l^o\"\n",
    "\n",
    "# KoBART 토크나이저를 사용하여 문장을 토큰화합니다.\n",
    "tokens = kobart_tokenizer.tokenize(sentence)\n",
    "\n",
    "# 토큰화된 결과를 출력합니다.\n",
    "print(tokens)\n"
   ]
  },
  {
   "cell_type": "code",
   "execution_count": null,
   "metadata": {},
   "outputs": [],
   "source": [
    "worddata = []\n",
    "for i in range(len(chatdata['Q'])):\n",
    "    worddata.append(kobart_tokenizer.tokenize(chatdata['Q'][i]))\n",
    "print(worddata)\n"
   ]
  },
  {
   "cell_type": "code",
   "execution_count": null,
   "metadata": {},
   "outputs": [],
   "source": [
    "worddata[0]"
   ]
  },
  {
   "cell_type": "code",
   "execution_count": null,
   "metadata": {},
   "outputs": [],
   "source": [
    "badword=pd.read_excel(r\"C:\\Users\\user\\xfilter\\X_filter\\Algorithm\\dataset\\word_list.xlsx\")\n",
    "badword.head()"
   ]
  },
  {
   "cell_type": "code",
   "execution_count": null,
   "metadata": {},
   "outputs": [],
   "source": [
    "badword['WORD']"
   ]
  },
  {
   "cell_type": "code",
   "execution_count": null,
   "metadata": {},
   "outputs": [],
   "source": [
    "if worddata in badword['WORD']:\n",
    "    "
   ]
  }
 ],
 "metadata": {
  "kernelspec": {
   "display_name": "Python 3 (ipykernel)",
   "language": "python",
   "name": "python3"
  },
  "language_info": {
   "codemirror_mode": {
    "name": "ipython",
    "version": 3
   },
   "file_extension": ".py",
   "mimetype": "text/x-python",
   "name": "python",
   "nbconvert_exporter": "python",
   "pygments_lexer": "ipython3",
   "version": "3.10.9"
  }
 },
 "nbformat": 4,
 "nbformat_minor": 2
}
