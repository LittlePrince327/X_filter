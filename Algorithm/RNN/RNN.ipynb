{
 "cells": [
  {
   "cell_type": "markdown",
   "metadata": {},
   "source": [
    "# RNN"
   ]
  },
  {
   "cell_type": "code",
   "execution_count": null,
   "metadata": {},
   "outputs": [],
   "source": []
  },
  {
   "cell_type": "code",
   "execution_count": 1,
   "metadata": {},
   "outputs": [],
   "source": [
    "import numpy as np\n",
    "from tensorflow.keras.utils import to_categorical\n",
    "from tensorflow.keras.preprocessing.text import Tokenizer\n",
    "from tensorflow.keras.preprocessing.sequence import pad_sequences"
   ]
  },
  {
   "cell_type": "code",
   "execution_count": 2,
   "metadata": {},
   "outputs": [],
   "source": [
    "text = \"\"\"곱다\n",
    "경마장에 있는 말이 뛰고 있다\\n\n",
    "그의 말이 법이다.\\n\n",
    "가는 말이 고와야 오는 말이 \\n\"\"\""
   ]
  },
  {
   "cell_type": "code",
   "execution_count": 3,
   "metadata": {},
   "outputs": [
    {
     "name": "stdout",
     "output_type": "stream",
     "text": [
      "단어 집합의 크기 : 12\n"
     ]
    }
   ],
   "source": [
    "tokenizer = Tokenizer()\n",
    "tokenizer.fit_on_texts([text])\n",
    "vocab_size = len(tokenizer.word_index) + 1\n",
    "print('단어 집합의 크기 : %d' % vocab_size)"
   ]
  },
  {
   "cell_type": "code",
   "execution_count": 4,
   "metadata": {},
   "outputs": [
    {
     "name": "stdout",
     "output_type": "stream",
     "text": [
      "{'말이': 1, '경마장에': 2, '있는': 3, '뛰고': 4, '있다': 5, '그의': 6, '법이다': 7, '가는': 8, '고와야': 9, '오는': 10, '곱다': 11}\n"
     ]
    }
   ],
   "source": [
    "print(tokenizer.word_index)"
   ]
  },
  {
   "cell_type": "code",
   "execution_count": 5,
   "metadata": {},
   "outputs": [
    {
     "name": "stdout",
     "output_type": "stream",
     "text": [
      "학습에 사용할 샘플의 개수: 11\n"
     ]
    }
   ],
   "source": [
    "sequences = list()\n",
    "for line in text.split('\\n'): # 줄 바꿈 문자를 기준으로 문장 토큰화\n",
    "    encoded = tokenizer.texts_to_sequences([line])[0]\n",
    "    for i in range(1, len(encoded)):\n",
    "        sequence = encoded[: i+1]\n",
    "        sequences.append(sequence)\n",
    "\n",
    "print('학습에 사용할 샘플의 개수: %d' % len(sequences))"
   ]
  },
  {
   "cell_type": "code",
   "execution_count": 6,
   "metadata": {},
   "outputs": [
    {
     "name": "stdout",
     "output_type": "stream",
     "text": [
      "[[2, 3], [2, 3, 1], [2, 3, 1, 4], [2, 3, 1, 4, 5], [6, 1], [6, 1, 7], [8, 1], [8, 1, 9], [8, 1, 9, 10], [8, 1, 9, 10, 1], [8, 1, 9, 10, 1, 11]]\n"
     ]
    }
   ],
   "source": [
    "print(sequences)"
   ]
  },
  {
   "cell_type": "code",
   "execution_count": 7,
   "metadata": {},
   "outputs": [
    {
     "name": "stdout",
     "output_type": "stream",
     "text": [
      "샘플의 최대 길이 : 6\n"
     ]
    }
   ],
   "source": [
    "max_len = max(len(l) for l in sequences) # 모든 샘플에서 길이가 가장 긴 샘플의 길이 출력\n",
    "print('샘플의 최대 길이 : {}'.format(max_len))"
   ]
  },
  {
   "cell_type": "code",
   "execution_count": 8,
   "metadata": {},
   "outputs": [],
   "source": [
    "sequences = pad_sequences(sequences, maxlen=max_len, padding='pre')"
   ]
  },
  {
   "cell_type": "code",
   "execution_count": 9,
   "metadata": {},
   "outputs": [
    {
     "name": "stdout",
     "output_type": "stream",
     "text": [
      "[[ 0  0  0  0  2  3]\n",
      " [ 0  0  0  2  3  1]\n",
      " [ 0  0  2  3  1  4]\n",
      " [ 0  2  3  1  4  5]\n",
      " [ 0  0  0  0  6  1]\n",
      " [ 0  0  0  6  1  7]\n",
      " [ 0  0  0  0  8  1]\n",
      " [ 0  0  0  8  1  9]\n",
      " [ 0  0  8  1  9 10]\n",
      " [ 0  8  1  9 10  1]\n",
      " [ 8  1  9 10  1 11]]\n"
     ]
    }
   ],
   "source": [
    "print(sequences)"
   ]
  },
  {
   "cell_type": "code",
   "execution_count": 10,
   "metadata": {},
   "outputs": [],
   "source": [
    "sequences = np.array(sequences)\n",
    "X = sequences[:, :-1]\n",
    "y = sequences[:, -1]"
   ]
  },
  {
   "cell_type": "code",
   "execution_count": 11,
   "metadata": {},
   "outputs": [
    {
     "name": "stdout",
     "output_type": "stream",
     "text": [
      "[[ 0  0  0  0  2]\n",
      " [ 0  0  0  2  3]\n",
      " [ 0  0  2  3  1]\n",
      " [ 0  2  3  1  4]\n",
      " [ 0  0  0  0  6]\n",
      " [ 0  0  0  6  1]\n",
      " [ 0  0  0  0  8]\n",
      " [ 0  0  0  8  1]\n",
      " [ 0  0  8  1  9]\n",
      " [ 0  8  1  9 10]\n",
      " [ 8  1  9 10  1]]\n"
     ]
    }
   ],
   "source": [
    "print(X)"
   ]
  },
  {
   "cell_type": "code",
   "execution_count": 12,
   "metadata": {},
   "outputs": [
    {
     "name": "stdout",
     "output_type": "stream",
     "text": [
      "[ 3  1  4  5  1  7  1  9 10  1 11]\n"
     ]
    }
   ],
   "source": [
    "print(y)"
   ]
  },
  {
   "cell_type": "code",
   "execution_count": 13,
   "metadata": {},
   "outputs": [],
   "source": [
    "y = to_categorical(y, num_classes=vocab_size)"
   ]
  },
  {
   "cell_type": "code",
   "execution_count": 14,
   "metadata": {},
   "outputs": [
    {
     "name": "stdout",
     "output_type": "stream",
     "text": [
      "[[0. 0. 0. 1. 0. 0. 0. 0. 0. 0. 0. 0.]\n",
      " [0. 1. 0. 0. 0. 0. 0. 0. 0. 0. 0. 0.]\n",
      " [0. 0. 0. 0. 1. 0. 0. 0. 0. 0. 0. 0.]\n",
      " [0. 0. 0. 0. 0. 1. 0. 0. 0. 0. 0. 0.]\n",
      " [0. 1. 0. 0. 0. 0. 0. 0. 0. 0. 0. 0.]\n",
      " [0. 0. 0. 0. 0. 0. 0. 1. 0. 0. 0. 0.]\n",
      " [0. 1. 0. 0. 0. 0. 0. 0. 0. 0. 0. 0.]\n",
      " [0. 0. 0. 0. 0. 0. 0. 0. 0. 1. 0. 0.]\n",
      " [0. 0. 0. 0. 0. 0. 0. 0. 0. 0. 1. 0.]\n",
      " [0. 1. 0. 0. 0. 0. 0. 0. 0. 0. 0. 0.]\n",
      " [0. 0. 0. 0. 0. 0. 0. 0. 0. 0. 0. 1.]]\n"
     ]
    }
   ],
   "source": [
    "print(y)"
   ]
  },
  {
   "cell_type": "markdown",
   "metadata": {},
   "source": [
    "## 2) 모델 설계하기\n",
    "RNN 모델에 데이터를 훈련시키기"
   ]
  },
  {
   "cell_type": "code",
   "execution_count": 15,
   "metadata": {},
   "outputs": [],
   "source": [
    "from tensorflow.keras.models import Sequential\n",
    "from tensorflow.keras.layers import Embedding, Dense, SimpleRNN"
   ]
  },
  {
   "cell_type": "code",
   "execution_count": 16,
   "metadata": {},
   "outputs": [
    {
     "name": "stdout",
     "output_type": "stream",
     "text": [
      "Epoch 1/200\n",
      "1/1 - 1s - loss: 2.4882 - accuracy: 0.1818 - 1s/epoch - 1s/step\n",
      "Epoch 2/200\n",
      "1/1 - 0s - loss: 2.4762 - accuracy: 0.1818 - 14ms/epoch - 14ms/step\n",
      "Epoch 3/200\n",
      "1/1 - 0s - loss: 2.4643 - accuracy: 0.2727 - 13ms/epoch - 13ms/step\n",
      "Epoch 4/200\n",
      "1/1 - 0s - loss: 2.4522 - accuracy: 0.1818 - 13ms/epoch - 13ms/step\n",
      "Epoch 5/200\n",
      "1/1 - 0s - loss: 2.4400 - accuracy: 0.2727 - 14ms/epoch - 14ms/step\n",
      "Epoch 6/200\n",
      "1/1 - 0s - loss: 2.4276 - accuracy: 0.3636 - 13ms/epoch - 13ms/step\n",
      "Epoch 7/200\n",
      "1/1 - 0s - loss: 2.4150 - accuracy: 0.2727 - 15ms/epoch - 15ms/step\n",
      "Epoch 8/200\n",
      "1/1 - 0s - loss: 2.4019 - accuracy: 0.2727 - 15ms/epoch - 15ms/step\n",
      "Epoch 9/200\n",
      "1/1 - 0s - loss: 2.3884 - accuracy: 0.2727 - 14ms/epoch - 14ms/step\n",
      "Epoch 10/200\n",
      "1/1 - 0s - loss: 2.3744 - accuracy: 0.3636 - 14ms/epoch - 14ms/step\n",
      "Epoch 11/200\n",
      "1/1 - 0s - loss: 2.3598 - accuracy: 0.3636 - 13ms/epoch - 13ms/step\n",
      "Epoch 12/200\n",
      "1/1 - 0s - loss: 2.3445 - accuracy: 0.3636 - 13ms/epoch - 13ms/step\n",
      "Epoch 13/200\n",
      "1/1 - 0s - loss: 2.3285 - accuracy: 0.3636 - 14ms/epoch - 14ms/step\n",
      "Epoch 14/200\n",
      "1/1 - 0s - loss: 2.3116 - accuracy: 0.3636 - 13ms/epoch - 13ms/step\n",
      "Epoch 15/200\n",
      "1/1 - 0s - loss: 2.2939 - accuracy: 0.3636 - 13ms/epoch - 13ms/step\n",
      "Epoch 16/200\n",
      "1/1 - 0s - loss: 2.2752 - accuracy: 0.3636 - 13ms/epoch - 13ms/step\n",
      "Epoch 17/200\n",
      "1/1 - 0s - loss: 2.2555 - accuracy: 0.3636 - 11ms/epoch - 11ms/step\n",
      "Epoch 18/200\n",
      "1/1 - 0s - loss: 2.2348 - accuracy: 0.3636 - 11ms/epoch - 11ms/step\n",
      "Epoch 19/200\n",
      "1/1 - 0s - loss: 2.2131 - accuracy: 0.3636 - 12ms/epoch - 12ms/step\n",
      "Epoch 20/200\n",
      "1/1 - 0s - loss: 2.1903 - accuracy: 0.3636 - 13ms/epoch - 13ms/step\n",
      "Epoch 21/200\n",
      "1/1 - 0s - loss: 2.1665 - accuracy: 0.3636 - 13ms/epoch - 13ms/step\n",
      "Epoch 22/200\n",
      "1/1 - 0s - loss: 2.1417 - accuracy: 0.3636 - 13ms/epoch - 13ms/step\n",
      "Epoch 23/200\n",
      "1/1 - 0s - loss: 2.1160 - accuracy: 0.3636 - 14ms/epoch - 14ms/step\n",
      "Epoch 24/200\n",
      "1/1 - 0s - loss: 2.0896 - accuracy: 0.3636 - 15ms/epoch - 15ms/step\n",
      "Epoch 25/200\n",
      "1/1 - 0s - loss: 2.0625 - accuracy: 0.3636 - 14ms/epoch - 14ms/step\n",
      "Epoch 26/200\n",
      "1/1 - 0s - loss: 2.0351 - accuracy: 0.3636 - 15ms/epoch - 15ms/step\n",
      "Epoch 27/200\n",
      "1/1 - 0s - loss: 2.0075 - accuracy: 0.3636 - 12ms/epoch - 12ms/step\n",
      "Epoch 28/200\n",
      "1/1 - 0s - loss: 1.9802 - accuracy: 0.3636 - 13ms/epoch - 13ms/step\n",
      "Epoch 29/200\n",
      "1/1 - 0s - loss: 1.9534 - accuracy: 0.3636 - 13ms/epoch - 13ms/step\n",
      "Epoch 30/200\n",
      "1/1 - 0s - loss: 1.9275 - accuracy: 0.3636 - 14ms/epoch - 14ms/step\n",
      "Epoch 31/200\n",
      "1/1 - 0s - loss: 1.9028 - accuracy: 0.3636 - 14ms/epoch - 14ms/step\n",
      "Epoch 32/200\n",
      "1/1 - 0s - loss: 1.8797 - accuracy: 0.3636 - 13ms/epoch - 13ms/step\n",
      "Epoch 33/200\n",
      "1/1 - 0s - loss: 1.8582 - accuracy: 0.3636 - 13ms/epoch - 13ms/step\n",
      "Epoch 34/200\n",
      "1/1 - 0s - loss: 1.8386 - accuracy: 0.3636 - 14ms/epoch - 14ms/step\n",
      "Epoch 35/200\n",
      "1/1 - 0s - loss: 1.8206 - accuracy: 0.3636 - 15ms/epoch - 15ms/step\n",
      "Epoch 36/200\n",
      "1/1 - 0s - loss: 1.8040 - accuracy: 0.3636 - 14ms/epoch - 14ms/step\n",
      "Epoch 37/200\n",
      "1/1 - 0s - loss: 1.7885 - accuracy: 0.3636 - 13ms/epoch - 13ms/step\n",
      "Epoch 38/200\n",
      "1/1 - 0s - loss: 1.7736 - accuracy: 0.3636 - 14ms/epoch - 14ms/step\n",
      "Epoch 39/200\n",
      "1/1 - 0s - loss: 1.7589 - accuracy: 0.3636 - 13ms/epoch - 13ms/step\n",
      "Epoch 40/200\n",
      "1/1 - 0s - loss: 1.7441 - accuracy: 0.3636 - 14ms/epoch - 14ms/step\n",
      "Epoch 41/200\n",
      "1/1 - 0s - loss: 1.7288 - accuracy: 0.3636 - 14ms/epoch - 14ms/step\n",
      "Epoch 42/200\n",
      "1/1 - 0s - loss: 1.7130 - accuracy: 0.3636 - 14ms/epoch - 14ms/step\n",
      "Epoch 43/200\n",
      "1/1 - 0s - loss: 1.6966 - accuracy: 0.3636 - 13ms/epoch - 13ms/step\n",
      "Epoch 44/200\n",
      "1/1 - 0s - loss: 1.6797 - accuracy: 0.3636 - 13ms/epoch - 13ms/step\n",
      "Epoch 45/200\n",
      "1/1 - 0s - loss: 1.6624 - accuracy: 0.3636 - 13ms/epoch - 13ms/step\n",
      "Epoch 46/200\n",
      "1/1 - 0s - loss: 1.6448 - accuracy: 0.3636 - 13ms/epoch - 13ms/step\n",
      "Epoch 47/200\n",
      "1/1 - 0s - loss: 1.6271 - accuracy: 0.3636 - 13ms/epoch - 13ms/step\n",
      "Epoch 48/200\n",
      "1/1 - 0s - loss: 1.6091 - accuracy: 0.3636 - 13ms/epoch - 13ms/step\n",
      "Epoch 49/200\n",
      "1/1 - 0s - loss: 1.5910 - accuracy: 0.3636 - 17ms/epoch - 17ms/step\n",
      "Epoch 50/200\n",
      "1/1 - 0s - loss: 1.5727 - accuracy: 0.3636 - 15ms/epoch - 15ms/step\n",
      "Epoch 51/200\n",
      "1/1 - 0s - loss: 1.5541 - accuracy: 0.4545 - 14ms/epoch - 14ms/step\n",
      "Epoch 52/200\n",
      "1/1 - 0s - loss: 1.5352 - accuracy: 0.4545 - 14ms/epoch - 14ms/step\n",
      "Epoch 53/200\n",
      "1/1 - 0s - loss: 1.5158 - accuracy: 0.5455 - 14ms/epoch - 14ms/step\n",
      "Epoch 54/200\n",
      "1/1 - 0s - loss: 1.4960 - accuracy: 0.5455 - 14ms/epoch - 14ms/step\n",
      "Epoch 55/200\n",
      "1/1 - 0s - loss: 1.4758 - accuracy: 0.5455 - 14ms/epoch - 14ms/step\n",
      "Epoch 56/200\n",
      "1/1 - 0s - loss: 1.4551 - accuracy: 0.5455 - 15ms/epoch - 15ms/step\n",
      "Epoch 57/200\n",
      "1/1 - 0s - loss: 1.4340 - accuracy: 0.5455 - 17ms/epoch - 17ms/step\n",
      "Epoch 58/200\n",
      "1/1 - 0s - loss: 1.4127 - accuracy: 0.5455 - 18ms/epoch - 18ms/step\n",
      "Epoch 59/200\n",
      "1/1 - 0s - loss: 1.3912 - accuracy: 0.5455 - 16ms/epoch - 16ms/step\n",
      "Epoch 60/200\n",
      "1/1 - 0s - loss: 1.3697 - accuracy: 0.5455 - 13ms/epoch - 13ms/step\n",
      "Epoch 61/200\n",
      "1/1 - 0s - loss: 1.3481 - accuracy: 0.5455 - 13ms/epoch - 13ms/step\n",
      "Epoch 62/200\n",
      "1/1 - 0s - loss: 1.3265 - accuracy: 0.6364 - 12ms/epoch - 12ms/step\n",
      "Epoch 63/200\n",
      "1/1 - 0s - loss: 1.3051 - accuracy: 0.6364 - 15ms/epoch - 15ms/step\n",
      "Epoch 64/200\n",
      "1/1 - 0s - loss: 1.2838 - accuracy: 0.6364 - 12ms/epoch - 12ms/step\n",
      "Epoch 65/200\n",
      "1/1 - 0s - loss: 1.2627 - accuracy: 0.6364 - 11ms/epoch - 11ms/step\n",
      "Epoch 66/200\n",
      "1/1 - 0s - loss: 1.2418 - accuracy: 0.6364 - 12ms/epoch - 12ms/step\n",
      "Epoch 67/200\n",
      "1/1 - 0s - loss: 1.2211 - accuracy: 0.6364 - 14ms/epoch - 14ms/step\n",
      "Epoch 68/200\n",
      "1/1 - 0s - loss: 1.2006 - accuracy: 0.6364 - 13ms/epoch - 13ms/step\n",
      "Epoch 69/200\n",
      "1/1 - 0s - loss: 1.1804 - accuracy: 0.6364 - 12ms/epoch - 12ms/step\n",
      "Epoch 70/200\n",
      "1/1 - 0s - loss: 1.1604 - accuracy: 0.6364 - 12ms/epoch - 12ms/step\n",
      "Epoch 71/200\n",
      "1/1 - 0s - loss: 1.1407 - accuracy: 0.6364 - 13ms/epoch - 13ms/step\n",
      "Epoch 72/200\n",
      "1/1 - 0s - loss: 1.1212 - accuracy: 0.6364 - 12ms/epoch - 12ms/step\n",
      "Epoch 73/200\n",
      "1/1 - 0s - loss: 1.1020 - accuracy: 0.6364 - 13ms/epoch - 13ms/step\n",
      "Epoch 74/200\n",
      "1/1 - 0s - loss: 1.0831 - accuracy: 0.6364 - 14ms/epoch - 14ms/step\n",
      "Epoch 75/200\n",
      "1/1 - 0s - loss: 1.0645 - accuracy: 0.6364 - 13ms/epoch - 13ms/step\n",
      "Epoch 76/200\n",
      "1/1 - 0s - loss: 1.0461 - accuracy: 0.6364 - 12ms/epoch - 12ms/step\n",
      "Epoch 77/200\n",
      "1/1 - 0s - loss: 1.0280 - accuracy: 0.6364 - 12ms/epoch - 12ms/step\n",
      "Epoch 78/200\n",
      "1/1 - 0s - loss: 1.0102 - accuracy: 0.6364 - 10ms/epoch - 10ms/step\n",
      "Epoch 79/200\n",
      "1/1 - 0s - loss: 0.9926 - accuracy: 0.6364 - 13ms/epoch - 13ms/step\n",
      "Epoch 80/200\n",
      "1/1 - 0s - loss: 0.9753 - accuracy: 0.6364 - 14ms/epoch - 14ms/step\n",
      "Epoch 81/200\n",
      "1/1 - 0s - loss: 0.9581 - accuracy: 0.6364 - 14ms/epoch - 14ms/step\n",
      "Epoch 82/200\n",
      "1/1 - 0s - loss: 0.9412 - accuracy: 0.7273 - 14ms/epoch - 14ms/step\n",
      "Epoch 83/200\n",
      "1/1 - 0s - loss: 0.9245 - accuracy: 0.7273 - 14ms/epoch - 14ms/step\n",
      "Epoch 84/200\n",
      "1/1 - 0s - loss: 0.9080 - accuracy: 0.7273 - 13ms/epoch - 13ms/step\n",
      "Epoch 85/200\n",
      "1/1 - 0s - loss: 0.8918 - accuracy: 0.7273 - 16ms/epoch - 16ms/step\n",
      "Epoch 86/200\n",
      "1/1 - 0s - loss: 0.8757 - accuracy: 0.7273 - 16ms/epoch - 16ms/step\n",
      "Epoch 87/200\n",
      "1/1 - 0s - loss: 0.8598 - accuracy: 0.7273 - 15ms/epoch - 15ms/step\n",
      "Epoch 88/200\n",
      "1/1 - 0s - loss: 0.8441 - accuracy: 0.7273 - 13ms/epoch - 13ms/step\n",
      "Epoch 89/200\n",
      "1/1 - 0s - loss: 0.8286 - accuracy: 0.7273 - 14ms/epoch - 14ms/step\n",
      "Epoch 90/200\n",
      "1/1 - 0s - loss: 0.8132 - accuracy: 0.7273 - 15ms/epoch - 15ms/step\n",
      "Epoch 91/200\n",
      "1/1 - 0s - loss: 0.7980 - accuracy: 0.7273 - 14ms/epoch - 14ms/step\n",
      "Epoch 92/200\n",
      "1/1 - 0s - loss: 0.7830 - accuracy: 0.7273 - 15ms/epoch - 15ms/step\n",
      "Epoch 93/200\n",
      "1/1 - 0s - loss: 0.7682 - accuracy: 0.7273 - 14ms/epoch - 14ms/step\n",
      "Epoch 94/200\n",
      "1/1 - 0s - loss: 0.7535 - accuracy: 0.7273 - 13ms/epoch - 13ms/step\n",
      "Epoch 95/200\n",
      "1/1 - 0s - loss: 0.7389 - accuracy: 0.7273 - 14ms/epoch - 14ms/step\n",
      "Epoch 96/200\n",
      "1/1 - 0s - loss: 0.7245 - accuracy: 0.7273 - 15ms/epoch - 15ms/step\n",
      "Epoch 97/200\n",
      "1/1 - 0s - loss: 0.7103 - accuracy: 0.7273 - 15ms/epoch - 15ms/step\n",
      "Epoch 98/200\n",
      "1/1 - 0s - loss: 0.6962 - accuracy: 0.7273 - 14ms/epoch - 14ms/step\n",
      "Epoch 99/200\n",
      "1/1 - 0s - loss: 0.6823 - accuracy: 0.7273 - 14ms/epoch - 14ms/step\n",
      "Epoch 100/200\n",
      "1/1 - 0s - loss: 0.6686 - accuracy: 0.8182 - 14ms/epoch - 14ms/step\n",
      "Epoch 101/200\n",
      "1/1 - 0s - loss: 0.6550 - accuracy: 0.8182 - 14ms/epoch - 14ms/step\n",
      "Epoch 102/200\n",
      "1/1 - 0s - loss: 0.6416 - accuracy: 0.8182 - 14ms/epoch - 14ms/step\n",
      "Epoch 103/200\n",
      "1/1 - 0s - loss: 0.6283 - accuracy: 0.8182 - 14ms/epoch - 14ms/step\n",
      "Epoch 104/200\n",
      "1/1 - 0s - loss: 0.6153 - accuracy: 0.8182 - 12ms/epoch - 12ms/step\n",
      "Epoch 105/200\n",
      "1/1 - 0s - loss: 0.6024 - accuracy: 0.9091 - 12ms/epoch - 12ms/step\n",
      "Epoch 106/200\n",
      "1/1 - 0s - loss: 0.5897 - accuracy: 0.9091 - 12ms/epoch - 12ms/step\n",
      "Epoch 107/200\n",
      "1/1 - 0s - loss: 0.5772 - accuracy: 0.9091 - 13ms/epoch - 13ms/step\n",
      "Epoch 108/200\n",
      "1/1 - 0s - loss: 0.5649 - accuracy: 0.9091 - 13ms/epoch - 13ms/step\n",
      "Epoch 109/200\n",
      "1/1 - 0s - loss: 0.5528 - accuracy: 0.9091 - 13ms/epoch - 13ms/step\n",
      "Epoch 110/200\n",
      "1/1 - 0s - loss: 0.5409 - accuracy: 0.9091 - 13ms/epoch - 13ms/step\n",
      "Epoch 111/200\n",
      "1/1 - 0s - loss: 0.5292 - accuracy: 0.9091 - 13ms/epoch - 13ms/step\n",
      "Epoch 112/200\n",
      "1/1 - 0s - loss: 0.5177 - accuracy: 0.9091 - 12ms/epoch - 12ms/step\n",
      "Epoch 113/200\n",
      "1/1 - 0s - loss: 0.5064 - accuracy: 0.9091 - 12ms/epoch - 12ms/step\n",
      "Epoch 114/200\n",
      "1/1 - 0s - loss: 0.4953 - accuracy: 0.9091 - 13ms/epoch - 13ms/step\n",
      "Epoch 115/200\n",
      "1/1 - 0s - loss: 0.4844 - accuracy: 0.9091 - 13ms/epoch - 13ms/step\n",
      "Epoch 116/200\n",
      "1/1 - 0s - loss: 0.4738 - accuracy: 0.9091 - 13ms/epoch - 13ms/step\n",
      "Epoch 117/200\n",
      "1/1 - 0s - loss: 0.4634 - accuracy: 0.9091 - 14ms/epoch - 14ms/step\n",
      "Epoch 118/200\n",
      "1/1 - 0s - loss: 0.4532 - accuracy: 0.9091 - 13ms/epoch - 13ms/step\n",
      "Epoch 119/200\n",
      "1/1 - 0s - loss: 0.4432 - accuracy: 0.9091 - 15ms/epoch - 15ms/step\n",
      "Epoch 120/200\n",
      "1/1 - 0s - loss: 0.4334 - accuracy: 0.9091 - 15ms/epoch - 15ms/step\n",
      "Epoch 121/200\n",
      "1/1 - 0s - loss: 0.4239 - accuracy: 0.9091 - 16ms/epoch - 16ms/step\n",
      "Epoch 122/200\n",
      "1/1 - 0s - loss: 0.4145 - accuracy: 0.9091 - 18ms/epoch - 18ms/step\n",
      "Epoch 123/200\n",
      "1/1 - 0s - loss: 0.4054 - accuracy: 0.9091 - 15ms/epoch - 15ms/step\n",
      "Epoch 124/200\n",
      "1/1 - 0s - loss: 0.3965 - accuracy: 0.9091 - 15ms/epoch - 15ms/step\n",
      "Epoch 125/200\n",
      "1/1 - 0s - loss: 0.3877 - accuracy: 0.9091 - 14ms/epoch - 14ms/step\n",
      "Epoch 126/200\n",
      "1/1 - 0s - loss: 0.3792 - accuracy: 0.9091 - 14ms/epoch - 14ms/step\n",
      "Epoch 127/200\n",
      "1/1 - 0s - loss: 0.3709 - accuracy: 0.9091 - 15ms/epoch - 15ms/step\n",
      "Epoch 128/200\n",
      "1/1 - 0s - loss: 0.3628 - accuracy: 0.9091 - 13ms/epoch - 13ms/step\n",
      "Epoch 129/200\n",
      "1/1 - 0s - loss: 0.3549 - accuracy: 0.9091 - 14ms/epoch - 14ms/step\n",
      "Epoch 130/200\n",
      "1/1 - 0s - loss: 0.3472 - accuracy: 1.0000 - 14ms/epoch - 14ms/step\n",
      "Epoch 131/200\n",
      "1/1 - 0s - loss: 0.3396 - accuracy: 1.0000 - 15ms/epoch - 15ms/step\n",
      "Epoch 132/200\n",
      "1/1 - 0s - loss: 0.3323 - accuracy: 1.0000 - 14ms/epoch - 14ms/step\n",
      "Epoch 133/200\n",
      "1/1 - 0s - loss: 0.3251 - accuracy: 1.0000 - 13ms/epoch - 13ms/step\n",
      "Epoch 134/200\n",
      "1/1 - 0s - loss: 0.3181 - accuracy: 1.0000 - 15ms/epoch - 15ms/step\n",
      "Epoch 135/200\n",
      "1/1 - 0s - loss: 0.3113 - accuracy: 1.0000 - 14ms/epoch - 14ms/step\n",
      "Epoch 136/200\n",
      "1/1 - 0s - loss: 0.3046 - accuracy: 1.0000 - 16ms/epoch - 16ms/step\n",
      "Epoch 137/200\n",
      "1/1 - 0s - loss: 0.2981 - accuracy: 1.0000 - 34ms/epoch - 34ms/step\n",
      "Epoch 138/200\n",
      "1/1 - 0s - loss: 0.2917 - accuracy: 1.0000 - 21ms/epoch - 21ms/step\n",
      "Epoch 139/200\n",
      "1/1 - 0s - loss: 0.2855 - accuracy: 1.0000 - 17ms/epoch - 17ms/step\n",
      "Epoch 140/200\n",
      "1/1 - 0s - loss: 0.2795 - accuracy: 1.0000 - 14ms/epoch - 14ms/step\n",
      "Epoch 141/200\n",
      "1/1 - 0s - loss: 0.2736 - accuracy: 1.0000 - 13ms/epoch - 13ms/step\n",
      "Epoch 142/200\n",
      "1/1 - 0s - loss: 0.2678 - accuracy: 1.0000 - 16ms/epoch - 16ms/step\n",
      "Epoch 143/200\n",
      "1/1 - 0s - loss: 0.2622 - accuracy: 1.0000 - 14ms/epoch - 14ms/step\n",
      "Epoch 144/200\n",
      "1/1 - 0s - loss: 0.2567 - accuracy: 1.0000 - 13ms/epoch - 13ms/step\n",
      "Epoch 145/200\n",
      "1/1 - 0s - loss: 0.2513 - accuracy: 1.0000 - 12ms/epoch - 12ms/step\n",
      "Epoch 146/200\n",
      "1/1 - 0s - loss: 0.2461 - accuracy: 1.0000 - 12ms/epoch - 12ms/step\n",
      "Epoch 147/200\n",
      "1/1 - 0s - loss: 0.2410 - accuracy: 1.0000 - 17ms/epoch - 17ms/step\n",
      "Epoch 148/200\n",
      "1/1 - 0s - loss: 0.2360 - accuracy: 1.0000 - 16ms/epoch - 16ms/step\n",
      "Epoch 149/200\n",
      "1/1 - 0s - loss: 0.2312 - accuracy: 1.0000 - 15ms/epoch - 15ms/step\n",
      "Epoch 150/200\n",
      "1/1 - 0s - loss: 0.2264 - accuracy: 1.0000 - 18ms/epoch - 18ms/step\n",
      "Epoch 151/200\n",
      "1/1 - 0s - loss: 0.2218 - accuracy: 1.0000 - 16ms/epoch - 16ms/step\n",
      "Epoch 152/200\n",
      "1/1 - 0s - loss: 0.2172 - accuracy: 1.0000 - 16ms/epoch - 16ms/step\n",
      "Epoch 153/200\n",
      "1/1 - 0s - loss: 0.2128 - accuracy: 1.0000 - 16ms/epoch - 16ms/step\n",
      "Epoch 154/200\n",
      "1/1 - 0s - loss: 0.2085 - accuracy: 1.0000 - 17ms/epoch - 17ms/step\n",
      "Epoch 155/200\n",
      "1/1 - 0s - loss: 0.2043 - accuracy: 1.0000 - 17ms/epoch - 17ms/step\n",
      "Epoch 156/200\n",
      "1/1 - 0s - loss: 0.2002 - accuracy: 1.0000 - 27ms/epoch - 27ms/step\n",
      "Epoch 157/200\n",
      "1/1 - 0s - loss: 0.1962 - accuracy: 1.0000 - 19ms/epoch - 19ms/step\n",
      "Epoch 158/200\n",
      "1/1 - 0s - loss: 0.1922 - accuracy: 1.0000 - 14ms/epoch - 14ms/step\n",
      "Epoch 159/200\n",
      "1/1 - 0s - loss: 0.1884 - accuracy: 1.0000 - 13ms/epoch - 13ms/step\n",
      "Epoch 160/200\n",
      "1/1 - 0s - loss: 0.1847 - accuracy: 1.0000 - 13ms/epoch - 13ms/step\n",
      "Epoch 161/200\n",
      "1/1 - 0s - loss: 0.1810 - accuracy: 1.0000 - 14ms/epoch - 14ms/step\n",
      "Epoch 162/200\n",
      "1/1 - 0s - loss: 0.1775 - accuracy: 1.0000 - 13ms/epoch - 13ms/step\n",
      "Epoch 163/200\n",
      "1/1 - 0s - loss: 0.1740 - accuracy: 1.0000 - 14ms/epoch - 14ms/step\n",
      "Epoch 164/200\n",
      "1/1 - 0s - loss: 0.1706 - accuracy: 1.0000 - 15ms/epoch - 15ms/step\n",
      "Epoch 165/200\n",
      "1/1 - 0s - loss: 0.1673 - accuracy: 1.0000 - 14ms/epoch - 14ms/step\n",
      "Epoch 166/200\n",
      "1/1 - 0s - loss: 0.1640 - accuracy: 1.0000 - 16ms/epoch - 16ms/step\n",
      "Epoch 167/200\n",
      "1/1 - 0s - loss: 0.1609 - accuracy: 1.0000 - 16ms/epoch - 16ms/step\n",
      "Epoch 168/200\n",
      "1/1 - 0s - loss: 0.1578 - accuracy: 1.0000 - 15ms/epoch - 15ms/step\n",
      "Epoch 169/200\n",
      "1/1 - 0s - loss: 0.1548 - accuracy: 1.0000 - 19ms/epoch - 19ms/step\n",
      "Epoch 170/200\n",
      "1/1 - 0s - loss: 0.1518 - accuracy: 1.0000 - 24ms/epoch - 24ms/step\n",
      "Epoch 171/200\n",
      "1/1 - 0s - loss: 0.1490 - accuracy: 1.0000 - 18ms/epoch - 18ms/step\n",
      "Epoch 172/200\n",
      "1/1 - 0s - loss: 0.1462 - accuracy: 1.0000 - 14ms/epoch - 14ms/step\n",
      "Epoch 173/200\n",
      "1/1 - 0s - loss: 0.1434 - accuracy: 1.0000 - 14ms/epoch - 14ms/step\n",
      "Epoch 174/200\n",
      "1/1 - 0s - loss: 0.1407 - accuracy: 1.0000 - 14ms/epoch - 14ms/step\n",
      "Epoch 175/200\n",
      "1/1 - 0s - loss: 0.1381 - accuracy: 1.0000 - 15ms/epoch - 15ms/step\n",
      "Epoch 176/200\n",
      "1/1 - 0s - loss: 0.1356 - accuracy: 1.0000 - 14ms/epoch - 14ms/step\n",
      "Epoch 177/200\n",
      "1/1 - 0s - loss: 0.1331 - accuracy: 1.0000 - 14ms/epoch - 14ms/step\n",
      "Epoch 178/200\n",
      "1/1 - 0s - loss: 0.1307 - accuracy: 1.0000 - 15ms/epoch - 15ms/step\n",
      "Epoch 179/200\n",
      "1/1 - 0s - loss: 0.1283 - accuracy: 1.0000 - 16ms/epoch - 16ms/step\n",
      "Epoch 180/200\n",
      "1/1 - 0s - loss: 0.1260 - accuracy: 1.0000 - 16ms/epoch - 16ms/step\n",
      "Epoch 181/200\n",
      "1/1 - 0s - loss: 0.1238 - accuracy: 1.0000 - 19ms/epoch - 19ms/step\n",
      "Epoch 182/200\n",
      "1/1 - 0s - loss: 0.1216 - accuracy: 1.0000 - 17ms/epoch - 17ms/step\n",
      "Epoch 183/200\n",
      "1/1 - 0s - loss: 0.1194 - accuracy: 1.0000 - 16ms/epoch - 16ms/step\n",
      "Epoch 184/200\n",
      "1/1 - 0s - loss: 0.1173 - accuracy: 1.0000 - 16ms/epoch - 16ms/step\n",
      "Epoch 185/200\n",
      "1/1 - 0s - loss: 0.1153 - accuracy: 1.0000 - 16ms/epoch - 16ms/step\n",
      "Epoch 186/200\n",
      "1/1 - 0s - loss: 0.1133 - accuracy: 1.0000 - 15ms/epoch - 15ms/step\n",
      "Epoch 187/200\n",
      "1/1 - 0s - loss: 0.1113 - accuracy: 1.0000 - 16ms/epoch - 16ms/step\n",
      "Epoch 188/200\n",
      "1/1 - 0s - loss: 0.1094 - accuracy: 1.0000 - 16ms/epoch - 16ms/step\n",
      "Epoch 189/200\n",
      "1/1 - 0s - loss: 0.1075 - accuracy: 1.0000 - 15ms/epoch - 15ms/step\n",
      "Epoch 190/200\n",
      "1/1 - 0s - loss: 0.1057 - accuracy: 1.0000 - 19ms/epoch - 19ms/step\n",
      "Epoch 191/200\n",
      "1/1 - 0s - loss: 0.1039 - accuracy: 1.0000 - 17ms/epoch - 17ms/step\n",
      "Epoch 192/200\n",
      "1/1 - 0s - loss: 0.1022 - accuracy: 1.0000 - 21ms/epoch - 21ms/step\n",
      "Epoch 193/200\n",
      "1/1 - 0s - loss: 0.1005 - accuracy: 1.0000 - 19ms/epoch - 19ms/step\n",
      "Epoch 194/200\n",
      "1/1 - 0s - loss: 0.0989 - accuracy: 1.0000 - 16ms/epoch - 16ms/step\n",
      "Epoch 195/200\n",
      "1/1 - 0s - loss: 0.0972 - accuracy: 1.0000 - 14ms/epoch - 14ms/step\n",
      "Epoch 196/200\n",
      "1/1 - 0s - loss: 0.0957 - accuracy: 1.0000 - 14ms/epoch - 14ms/step\n",
      "Epoch 197/200\n",
      "1/1 - 0s - loss: 0.0941 - accuracy: 1.0000 - 14ms/epoch - 14ms/step\n",
      "Epoch 198/200\n",
      "1/1 - 0s - loss: 0.0926 - accuracy: 1.0000 - 14ms/epoch - 14ms/step\n",
      "Epoch 199/200\n",
      "1/1 - 0s - loss: 0.0911 - accuracy: 1.0000 - 17ms/epoch - 17ms/step\n",
      "Epoch 200/200\n",
      "1/1 - 0s - loss: 0.0897 - accuracy: 1.0000 - 13ms/epoch - 13ms/step\n"
     ]
    },
    {
     "data": {
      "text/plain": [
       "<keras.callbacks.History at 0x2bc8e4dd6d0>"
      ]
     },
     "execution_count": 16,
     "metadata": {},
     "output_type": "execute_result"
    }
   ],
   "source": [
    "embedding_dim = 10\n",
    "hidden_units = 32\n",
    "\n",
    "model = Sequential()\n",
    "model.add(Embedding(vocab_size, embedding_dim))\n",
    "model.add(SimpleRNN(hidden_units))\n",
    "model.add(Dense(vocab_size, activation='softmax'))\n",
    "model.compile(loss='categorical_crossentropy', optimizer='adam', metrics=['accuracy'])\n",
    "model.fit(X, y, epochs=200, verbose=2)"
   ]
  },
  {
   "cell_type": "code",
   "execution_count": 17,
   "metadata": {},
   "outputs": [],
   "source": [
    "def sentence_generation(model, tokenizer, current_word, n): # 모델, 토크나이저, 현재 단어, 반복할 횟수\n",
    "    init_word = current_word\n",
    "    sentence = ''\n",
    "\n",
    "    # n번 반복\n",
    "    for _ in range(n):\n",
    "        # 현재 단어에 대한 정수 인코딩과 패딩\n",
    "        encoded = tokenizer.texts_to_sequences([current_word])[0]\n",
    "        encoded = pad_sequences([encoded], maxlen=5, padding='pre')\n",
    "        # 입력한 X(현재 단어)에 대해서 Y를 예측하고 Y(예측한 단어)를 result에 저장.\n",
    "        result = model.predict(encoded, verbose=0)\n",
    "        result = np.argmax(result, axis=1)\n",
    "\n",
    "        for word, index in tokenizer.word_index.items(): \n",
    "            # 만약 예측한 단어와 인덱스와 동일한 단어가 있다면 break\n",
    "            if index == result:\n",
    "                break\n",
    "\n",
    "        # 현재 단어 + ' ' + 예측 단어를 현재 단어로 변경\n",
    "        current_word = current_word + ' '  + word\n",
    "\n",
    "        # 예측 단어를 문장에 저장\n",
    "        sentence = sentence + ' ' + word\n",
    "\n",
    "    sentence = init_word + sentence\n",
    "    return sentence"
   ]
  },
  {
   "cell_type": "code",
   "execution_count": 18,
   "metadata": {},
   "outputs": [
    {
     "name": "stdout",
     "output_type": "stream",
     "text": [
      "경마장에 있는 말이 뛰고 있다\n"
     ]
    }
   ],
   "source": [
    "print(sentence_generation(model, tokenizer, '경마장에', 4))"
   ]
  },
  {
   "cell_type": "code",
   "execution_count": 19,
   "metadata": {},
   "outputs": [
    {
     "name": "stdout",
     "output_type": "stream",
     "text": [
      "가는 말이 고와야 오는 말이 곱다\n"
     ]
    }
   ],
   "source": [
    "print(sentence_generation(model, tokenizer, '가는', 5))"
   ]
  },
  {
   "cell_type": "markdown",
   "metadata": {},
   "source": [
    "# LSTM을 이용하여 텍스트 생성하기"
   ]
  },
  {
   "cell_type": "code",
   "execution_count": 20,
   "metadata": {},
   "outputs": [],
   "source": [
    "import numpy as np\n",
    "import pandas as pd\n",
    "import pandas as pad_sequences\n",
    "from string import punctuation\n",
    "\n",
    "from tensorflow.keras.utils import to_categorical\n",
    "from tensorflow.keras.preprocessing.text import Tokenizer\n",
    "from tensorflow.keras.preprocessing.sequence import pad_sequences"
   ]
  },
  {
   "cell_type": "code",
   "execution_count": 21,
   "metadata": {},
   "outputs": [
    {
     "data": {
      "text/html": [
       "<div>\n",
       "<style scoped>\n",
       "    .dataframe tbody tr th:only-of-type {\n",
       "        vertical-align: middle;\n",
       "    }\n",
       "\n",
       "    .dataframe tbody tr th {\n",
       "        vertical-align: top;\n",
       "    }\n",
       "\n",
       "    .dataframe thead th {\n",
       "        text-align: right;\n",
       "    }\n",
       "</style>\n",
       "<table border=\"1\" class=\"dataframe\">\n",
       "  <thead>\n",
       "    <tr style=\"text-align: right;\">\n",
       "      <th></th>\n",
       "      <th>abstract</th>\n",
       "      <th>articleID</th>\n",
       "      <th>articleWordCount</th>\n",
       "      <th>byline</th>\n",
       "      <th>documentType</th>\n",
       "      <th>headline</th>\n",
       "      <th>keywords</th>\n",
       "      <th>multimedia</th>\n",
       "      <th>newDesk</th>\n",
       "      <th>printPage</th>\n",
       "      <th>pubDate</th>\n",
       "      <th>sectionName</th>\n",
       "      <th>snippet</th>\n",
       "      <th>source</th>\n",
       "      <th>typeOfMaterial</th>\n",
       "      <th>webURL</th>\n",
       "    </tr>\n",
       "  </thead>\n",
       "  <tbody>\n",
       "    <tr>\n",
       "      <th>0</th>\n",
       "      <td>NaN</td>\n",
       "      <td>5a7101c110f40f00018be961</td>\n",
       "      <td>1322</td>\n",
       "      <td>By SHANNON SIMS</td>\n",
       "      <td>article</td>\n",
       "      <td>Rhythm of the Streets: ‘We’re Warrior Women, a...</td>\n",
       "      <td>['Bahia (Brazil)', 'Music', 'Women and Girls',...</td>\n",
       "      <td>68</td>\n",
       "      <td>Travel</td>\n",
       "      <td>5</td>\n",
       "      <td>2018-01-30 23:37:31</td>\n",
       "      <td>Unknown</td>\n",
       "      <td>Meet the all-female Brazilian drum group that ...</td>\n",
       "      <td>The New York Times</td>\n",
       "      <td>News</td>\n",
       "      <td>https://www.nytimes.com/2018/01/30/travel/braz...</td>\n",
       "    </tr>\n",
       "    <tr>\n",
       "      <th>1</th>\n",
       "      <td>NaN</td>\n",
       "      <td>5a70fc1210f40f00018be950</td>\n",
       "      <td>1308</td>\n",
       "      <td>By ALAN RAPPEPORT and THOMAS KAPLAN</td>\n",
       "      <td>article</td>\n",
       "      <td>As Deficit Grows, Congress Keeps Spending</td>\n",
       "      <td>['United States Politics and Government', 'Fed...</td>\n",
       "      <td>68</td>\n",
       "      <td>Washington</td>\n",
       "      <td>17</td>\n",
       "      <td>2018-01-30 23:13:14</td>\n",
       "      <td>Politics</td>\n",
       "      <td>Treasury Secretary Steven Mnuchin urged Congre...</td>\n",
       "      <td>The New York Times</td>\n",
       "      <td>News</td>\n",
       "      <td>https://www.nytimes.com/2018/01/30/us/politics...</td>\n",
       "    </tr>\n",
       "    <tr>\n",
       "      <th>2</th>\n",
       "      <td>NaN</td>\n",
       "      <td>5a70f8f810f40f00018be943</td>\n",
       "      <td>228</td>\n",
       "      <td>By JANE LANG</td>\n",
       "      <td>article</td>\n",
       "      <td>Lesson in Select Bus Service</td>\n",
       "      <td>['Buses', 'Pennsylvania Station (Manhattan, NY...</td>\n",
       "      <td>0</td>\n",
       "      <td>Metro</td>\n",
       "      <td>16</td>\n",
       "      <td>2018-01-30 23:00:01</td>\n",
       "      <td>Unknown</td>\n",
       "      <td>A woman finds out what happens when you don’t ...</td>\n",
       "      <td>The New York Times</td>\n",
       "      <td>News</td>\n",
       "      <td>https://www.nytimes.com/2018/01/30/nyregion/me...</td>\n",
       "    </tr>\n",
       "    <tr>\n",
       "      <th>3</th>\n",
       "      <td>NaN</td>\n",
       "      <td>5a70eb8110f40f00018be925</td>\n",
       "      <td>1114</td>\n",
       "      <td>By THE EDITORIAL BOARD</td>\n",
       "      <td>article</td>\n",
       "      <td>Here’s the Real State of the Union</td>\n",
       "      <td>['State of the Union Message (US)', 'Trump, Do...</td>\n",
       "      <td>61</td>\n",
       "      <td>Editorial</td>\n",
       "      <td>24</td>\n",
       "      <td>2018-01-30 22:02:36</td>\n",
       "      <td>Editorials</td>\n",
       "      <td>The reaction against his authoritarian impulse...</td>\n",
       "      <td>The New York Times</td>\n",
       "      <td>Editorial</td>\n",
       "      <td>https://www.nytimes.com/2018/01/30/opinion/edi...</td>\n",
       "    </tr>\n",
       "    <tr>\n",
       "      <th>4</th>\n",
       "      <td>NaN</td>\n",
       "      <td>5a70d1d210f40f00018be8d9</td>\n",
       "      <td>777</td>\n",
       "      <td>By BERT STRATTON</td>\n",
       "      <td>article</td>\n",
       "      <td>Good Riddance to Chief Wahoo</td>\n",
       "      <td>['Baseball', 'Cleveland Indians', 'Western Res...</td>\n",
       "      <td>68</td>\n",
       "      <td>OpEd</td>\n",
       "      <td>0</td>\n",
       "      <td>2018-01-30 20:13:01</td>\n",
       "      <td>Unknown</td>\n",
       "      <td>I’ve lived in Cleveland all my life, and I’m g...</td>\n",
       "      <td>The New York Times</td>\n",
       "      <td>Op-Ed</td>\n",
       "      <td>https://www.nytimes.com/2018/01/30/opinion/chi...</td>\n",
       "    </tr>\n",
       "  </tbody>\n",
       "</table>\n",
       "</div>"
      ],
      "text/plain": [
       "  abstract                 articleID  articleWordCount  \\\n",
       "0      NaN  5a7101c110f40f00018be961              1322   \n",
       "1      NaN  5a70fc1210f40f00018be950              1308   \n",
       "2      NaN  5a70f8f810f40f00018be943               228   \n",
       "3      NaN  5a70eb8110f40f00018be925              1114   \n",
       "4      NaN  5a70d1d210f40f00018be8d9               777   \n",
       "\n",
       "                                byline documentType  \\\n",
       "0                      By SHANNON SIMS      article   \n",
       "1  By ALAN RAPPEPORT and THOMAS KAPLAN      article   \n",
       "2                         By JANE LANG      article   \n",
       "3               By THE EDITORIAL BOARD      article   \n",
       "4                     By BERT STRATTON      article   \n",
       "\n",
       "                                            headline  \\\n",
       "0  Rhythm of the Streets: ‘We’re Warrior Women, a...   \n",
       "1          As Deficit Grows, Congress Keeps Spending   \n",
       "2                       Lesson in Select Bus Service   \n",
       "3                 Here’s the Real State of the Union   \n",
       "4                       Good Riddance to Chief Wahoo   \n",
       "\n",
       "                                            keywords  multimedia     newDesk  \\\n",
       "0  ['Bahia (Brazil)', 'Music', 'Women and Girls',...          68      Travel   \n",
       "1  ['United States Politics and Government', 'Fed...          68  Washington   \n",
       "2  ['Buses', 'Pennsylvania Station (Manhattan, NY...           0       Metro   \n",
       "3  ['State of the Union Message (US)', 'Trump, Do...          61   Editorial   \n",
       "4  ['Baseball', 'Cleveland Indians', 'Western Res...          68        OpEd   \n",
       "\n",
       "   printPage              pubDate sectionName  \\\n",
       "0          5  2018-01-30 23:37:31     Unknown   \n",
       "1         17  2018-01-30 23:13:14    Politics   \n",
       "2         16  2018-01-30 23:00:01     Unknown   \n",
       "3         24  2018-01-30 22:02:36  Editorials   \n",
       "4          0  2018-01-30 20:13:01     Unknown   \n",
       "\n",
       "                                             snippet              source  \\\n",
       "0  Meet the all-female Brazilian drum group that ...  The New York Times   \n",
       "1  Treasury Secretary Steven Mnuchin urged Congre...  The New York Times   \n",
       "2  A woman finds out what happens when you don’t ...  The New York Times   \n",
       "3  The reaction against his authoritarian impulse...  The New York Times   \n",
       "4  I’ve lived in Cleveland all my life, and I’m g...  The New York Times   \n",
       "\n",
       "  typeOfMaterial                                             webURL  \n",
       "0           News  https://www.nytimes.com/2018/01/30/travel/braz...  \n",
       "1           News  https://www.nytimes.com/2018/01/30/us/politics...  \n",
       "2           News  https://www.nytimes.com/2018/01/30/nyregion/me...  \n",
       "3      Editorial  https://www.nytimes.com/2018/01/30/opinion/edi...  \n",
       "4          Op-Ed  https://www.nytimes.com/2018/01/30/opinion/chi...  "
      ]
     },
     "execution_count": 21,
     "metadata": {},
     "output_type": "execute_result"
    }
   ],
   "source": [
    "df = pd.read_csv(r'C:/Users/GJAISCHOOL/Desktop/X_filter/Algorithm/dataset/ArticlesJan2018.csv')\n",
    "df.head()"
   ]
  },
  {
   "cell_type": "code",
   "execution_count": 22,
   "metadata": {},
   "outputs": [
    {
     "name": "stdout",
     "output_type": "stream",
     "text": [
      "열의 개수 :  16\n",
      "Index(['abstract', 'articleID', 'articleWordCount', 'byline', 'documentType',\n",
      "       'headline', 'keywords', 'multimedia', 'newDesk', 'printPage', 'pubDate',\n",
      "       'sectionName', 'snippet', 'source', 'typeOfMaterial', 'webURL'],\n",
      "      dtype='object')\n"
     ]
    }
   ],
   "source": [
    "print('열의 개수 : ', len(df.columns))\n",
    "print(df.columns)"
   ]
  },
  {
   "cell_type": "code",
   "execution_count": 23,
   "metadata": {},
   "outputs": [
    {
     "name": "stdout",
     "output_type": "stream",
     "text": [
      "False\n"
     ]
    }
   ],
   "source": [
    "print(df['headline'].isnull().values.any())"
   ]
  },
  {
   "cell_type": "code",
   "execution_count": 24,
   "metadata": {},
   "outputs": [
    {
     "data": {
      "text/plain": [
       "['Rhythm of the Streets: ‘We’re Warrior Women, and Yes, We Can Play’',\n",
       " 'As Deficit Grows, Congress Keeps Spending',\n",
       " 'Lesson in Select Bus Service',\n",
       " 'Here’s the Real State of the Union',\n",
       " 'Good Riddance to Chief Wahoo']"
      ]
     },
     "execution_count": 24,
     "metadata": {},
     "output_type": "execute_result"
    }
   ],
   "source": [
    "headline = []\n",
    "# 헤드라인의 값들을 리스트로 저장\n",
    "headline.extend(list(df.headline.values))\n",
    "headline[:5]"
   ]
  },
  {
   "cell_type": "code",
   "execution_count": 25,
   "metadata": {},
   "outputs": [
    {
     "name": "stdout",
     "output_type": "stream",
     "text": [
      "총 샘플의 개수 : 905\n"
     ]
    }
   ],
   "source": [
    "print('총 샘플의 개수 : {}'.format(len(headline)))"
   ]
  },
  {
   "cell_type": "code",
   "execution_count": 26,
   "metadata": {},
   "outputs": [
    {
     "name": "stdout",
     "output_type": "stream",
     "text": [
      "노이즈값 제거 후 샘플의 개수 : 905\n"
     ]
    }
   ],
   "source": [
    "headline = [word for word in headline if word != \"Unkown\"]\n",
    "print('노이즈값 제거 후 샘플의 개수 : {}'.format(len(headline)))"
   ]
  },
  {
   "cell_type": "code",
   "execution_count": 27,
   "metadata": {},
   "outputs": [
    {
     "data": {
      "text/plain": [
       "['Rhythm of the Streets: ‘We’re Warrior Women, and Yes, We Can Play’',\n",
       " 'As Deficit Grows, Congress Keeps Spending',\n",
       " 'Lesson in Select Bus Service',\n",
       " 'Here’s the Real State of the Union',\n",
       " 'Good Riddance to Chief Wahoo']"
      ]
     },
     "execution_count": 27,
     "metadata": {},
     "output_type": "execute_result"
    }
   ],
   "source": [
    "headline[:5]"
   ]
  },
  {
   "cell_type": "code",
   "execution_count": 28,
   "metadata": {},
   "outputs": [
    {
     "data": {
      "text/plain": [
       "['rhythm of the streets were warrior women and yes we can play',\n",
       " 'as deficit grows congress keeps spending',\n",
       " 'lesson in select bus service',\n",
       " 'heres the real state of the union',\n",
       " 'good riddance to chief wahoo']"
      ]
     },
     "execution_count": 28,
     "metadata": {},
     "output_type": "execute_result"
    }
   ],
   "source": [
    "def repreprocessing(raw_sentence):\n",
    "    preproceseed_sentence = raw_sentence.encode(\"utf8\").decode(\"ascii\",'ignore')\n",
    "    # 구두점 제거와 동시에 소문자화\n",
    "    return ''.join(word for word in preproceseed_sentence if word not in punctuation).lower()\n",
    "\n",
    "preprocessed_headline = [repreprocessing(x) for x in headline]\n",
    "preprocessed_headline[:5]"
   ]
  },
  {
   "cell_type": "code",
   "execution_count": 29,
   "metadata": {},
   "outputs": [
    {
     "name": "stdout",
     "output_type": "stream",
     "text": [
      "단어 집합의 크기 : 2513\n"
     ]
    }
   ],
   "source": [
    "tokenizer = Tokenizer()\n",
    "tokenizer.fit_on_texts(preprocessed_headline)\n",
    "vocab_size = len(tokenizer.word_index) + 1\n",
    "print('단어 집합의 크기 : %d' % vocab_size)"
   ]
  },
  {
   "cell_type": "code",
   "execution_count": 30,
   "metadata": {},
   "outputs": [
    {
     "data": {
      "text/plain": [
       "[[754, 4],\n",
       " [754, 4, 1],\n",
       " [754, 4, 1, 229],\n",
       " [754, 4, 1, 229, 162],\n",
       " [754, 4, 1, 229, 162, 755],\n",
       " [754, 4, 1, 229, 162, 755, 85],\n",
       " [754, 4, 1, 229, 162, 755, 85, 7],\n",
       " [754, 4, 1, 229, 162, 755, 85, 7, 163],\n",
       " [754, 4, 1, 229, 162, 755, 85, 7, 163, 39],\n",
       " [754, 4, 1, 229, 162, 755, 85, 7, 163, 39, 49],\n",
       " [754, 4, 1, 229, 162, 755, 85, 7, 163, 39, 49, 86]]"
      ]
     },
     "execution_count": 30,
     "metadata": {},
     "output_type": "execute_result"
    }
   ],
   "source": [
    "sequences = list()\n",
    "\n",
    "for sentence in preprocessed_headline:\n",
    "    # 각 샘플에 대한 정수 인코딩\n",
    "    encoded = tokenizer.texts_to_sequences([sentence])[0]\n",
    "    for i in range(1, len(encoded)):\n",
    "        sequence = encoded[:i+1]\n",
    "        sequences.append(sequence)\n",
    "\n",
    "sequences[:11]"
   ]
  },
  {
   "cell_type": "code",
   "execution_count": 31,
   "metadata": {},
   "outputs": [
    {
     "name": "stdout",
     "output_type": "stream",
     "text": [
      "빈도수 상위 582번 단어 : drug\n"
     ]
    }
   ],
   "source": [
    "index_to_word = {}\n",
    "for key, value in tokenizer.word_index.items(): # 인덱스를 단어로 바꾸기 위해 index_to_word를 생성\n",
    "    index_to_word[value] = key\n",
    "\n",
    "print('빈도수 상위 582번 단어 : {}'.format(index_to_word[582]))"
   ]
  },
  {
   "cell_type": "code",
   "execution_count": 32,
   "metadata": {},
   "outputs": [
    {
     "name": "stdout",
     "output_type": "stream",
     "text": [
      "샘플의 최대 길이 : 17\n"
     ]
    }
   ],
   "source": [
    "max_len = max(len(l) for l in sequences)\n",
    "print('샘플의 최대 길이 : {}'.format(max_len))"
   ]
  },
  {
   "cell_type": "code",
   "execution_count": 33,
   "metadata": {},
   "outputs": [
    {
     "name": "stdout",
     "output_type": "stream",
     "text": [
      "[[  0   0   0   0   0   0   0   0   0   0   0   0   0   0   0 754   4]\n",
      " [  0   0   0   0   0   0   0   0   0   0   0   0   0   0 754   4   1]\n",
      " [  0   0   0   0   0   0   0   0   0   0   0   0   0 754   4   1 229]]\n"
     ]
    }
   ],
   "source": [
    "sequences = pad_sequences(sequences, maxlen=max_len, padding='pre')\n",
    "print(sequences[:3])"
   ]
  },
  {
   "cell_type": "code",
   "execution_count": 34,
   "metadata": {},
   "outputs": [],
   "source": [
    "sequences = np.array(sequences)\n",
    "X = sequences[:,:-1]\n",
    "y = sequences[:,-1]"
   ]
  },
  {
   "cell_type": "code",
   "execution_count": 35,
   "metadata": {},
   "outputs": [
    {
     "name": "stdout",
     "output_type": "stream",
     "text": [
      "[[  0   0   0   0   0   0   0   0   0   0   0   0   0   0   0 754]\n",
      " [  0   0   0   0   0   0   0   0   0   0   0   0   0   0 754   4]\n",
      " [  0   0   0   0   0   0   0   0   0   0   0   0   0 754   4   1]]\n"
     ]
    }
   ],
   "source": [
    "print(X[: 3])"
   ]
  },
  {
   "cell_type": "code",
   "execution_count": 36,
   "metadata": {},
   "outputs": [
    {
     "name": "stdout",
     "output_type": "stream",
     "text": [
      "[  4   1 229]\n"
     ]
    }
   ],
   "source": [
    "print(y[:3])"
   ]
  },
  {
   "cell_type": "code",
   "execution_count": 37,
   "metadata": {},
   "outputs": [],
   "source": [
    "y = to_categorical(y, num_classes=vocab_size)"
   ]
  },
  {
   "cell_type": "code",
   "execution_count": 38,
   "metadata": {},
   "outputs": [],
   "source": [
    "from tensorflow.keras.models import Sequential\n",
    "from tensorflow.keras.layers import Embedding, Dense, LSTM\n"
   ]
  },
  {
   "cell_type": "code",
   "execution_count": 39,
   "metadata": {},
   "outputs": [
    {
     "name": "stdout",
     "output_type": "stream",
     "text": [
      "Epoch 1/200\n",
      "156/156 - 4s - loss: 7.4739 - accuracy: 0.0306 - 4s/epoch - 28ms/step\n",
      "Epoch 2/200\n",
      "156/156 - 1s - loss: 6.9622 - accuracy: 0.0347 - 996ms/epoch - 6ms/step\n",
      "Epoch 3/200\n",
      "156/156 - 1s - loss: 6.8366 - accuracy: 0.0298 - 1s/epoch - 6ms/step\n",
      "Epoch 4/200\n",
      "156/156 - 1s - loss: 6.7416 - accuracy: 0.0314 - 1s/epoch - 6ms/step\n",
      "Epoch 5/200\n",
      "156/156 - 1s - loss: 6.6402 - accuracy: 0.0472 - 1s/epoch - 8ms/step\n",
      "Epoch 6/200\n",
      "156/156 - 1s - loss: 6.5269 - accuracy: 0.0544 - 998ms/epoch - 6ms/step\n",
      "Epoch 7/200\n",
      "156/156 - 1s - loss: 6.3854 - accuracy: 0.0560 - 948ms/epoch - 6ms/step\n",
      "Epoch 8/200\n",
      "156/156 - 1s - loss: 6.2280 - accuracy: 0.0609 - 1s/epoch - 7ms/step\n",
      "Epoch 9/200\n",
      "156/156 - 1s - loss: 6.0564 - accuracy: 0.0708 - 967ms/epoch - 6ms/step\n",
      "Epoch 10/200\n",
      "156/156 - 1s - loss: 5.8942 - accuracy: 0.0671 - 1s/epoch - 7ms/step\n",
      "Epoch 11/200\n",
      "156/156 - 1s - loss: 5.7441 - accuracy: 0.0708 - 1s/epoch - 7ms/step\n",
      "Epoch 12/200\n",
      "156/156 - 1s - loss: 5.6041 - accuracy: 0.0736 - 1s/epoch - 6ms/step\n",
      "Epoch 13/200\n",
      "156/156 - 1s - loss: 5.4717 - accuracy: 0.0754 - 974ms/epoch - 6ms/step\n",
      "Epoch 14/200\n",
      "156/156 - 1s - loss: 5.3419 - accuracy: 0.0792 - 1s/epoch - 7ms/step\n",
      "Epoch 15/200\n",
      "156/156 - 1s - loss: 5.2235 - accuracy: 0.0818 - 919ms/epoch - 6ms/step\n",
      "Epoch 16/200\n",
      "156/156 - 1s - loss: 5.1076 - accuracy: 0.0857 - 1s/epoch - 7ms/step\n",
      "Epoch 17/200\n",
      "156/156 - 1s - loss: 4.9961 - accuracy: 0.0913 - 1s/epoch - 6ms/step\n",
      "Epoch 18/200\n",
      "156/156 - 1s - loss: 4.8827 - accuracy: 0.1020 - 989ms/epoch - 6ms/step\n",
      "Epoch 19/200\n",
      "156/156 - 1s - loss: 4.7797 - accuracy: 0.1107 - 1s/epoch - 7ms/step\n",
      "Epoch 20/200\n",
      "156/156 - 1s - loss: 4.6758 - accuracy: 0.1171 - 1s/epoch - 7ms/step\n",
      "Epoch 21/200\n",
      "156/156 - 1s - loss: 4.5692 - accuracy: 0.1276 - 1s/epoch - 6ms/step\n",
      "Epoch 22/200\n",
      "156/156 - 1s - loss: 4.4709 - accuracy: 0.1375 - 1s/epoch - 7ms/step\n",
      "Epoch 23/200\n",
      "156/156 - 1s - loss: 4.3750 - accuracy: 0.1528 - 1s/epoch - 7ms/step\n",
      "Epoch 24/200\n",
      "156/156 - 1s - loss: 4.2783 - accuracy: 0.1667 - 1s/epoch - 7ms/step\n",
      "Epoch 25/200\n",
      "156/156 - 1s - loss: 4.1848 - accuracy: 0.1822 - 1s/epoch - 7ms/step\n",
      "Epoch 26/200\n",
      "156/156 - 1s - loss: 4.0948 - accuracy: 0.1933 - 1s/epoch - 6ms/step\n",
      "Epoch 27/200\n",
      "156/156 - 1s - loss: 4.0030 - accuracy: 0.2064 - 1s/epoch - 7ms/step\n",
      "Epoch 28/200\n",
      "156/156 - 1s - loss: 3.9158 - accuracy: 0.2262 - 1s/epoch - 7ms/step\n",
      "Epoch 29/200\n",
      "156/156 - 1s - loss: 3.8333 - accuracy: 0.2346 - 1s/epoch - 6ms/step\n",
      "Epoch 30/200\n",
      "156/156 - 1s - loss: 3.7440 - accuracy: 0.2568 - 957ms/epoch - 6ms/step\n",
      "Epoch 31/200\n",
      "156/156 - 1s - loss: 3.6647 - accuracy: 0.2699 - 949ms/epoch - 6ms/step\n",
      "Epoch 32/200\n",
      "156/156 - 1s - loss: 3.5868 - accuracy: 0.2790 - 946ms/epoch - 6ms/step\n",
      "Epoch 33/200\n",
      "156/156 - 1s - loss: 3.5058 - accuracy: 0.2919 - 940ms/epoch - 6ms/step\n",
      "Epoch 34/200\n",
      "156/156 - 1s - loss: 3.4309 - accuracy: 0.3110 - 940ms/epoch - 6ms/step\n",
      "Epoch 35/200\n",
      "156/156 - 1s - loss: 3.3578 - accuracy: 0.3177 - 943ms/epoch - 6ms/step\n",
      "Epoch 36/200\n",
      "156/156 - 1s - loss: 3.2854 - accuracy: 0.3312 - 986ms/epoch - 6ms/step\n",
      "Epoch 37/200\n",
      "156/156 - 1s - loss: 3.2183 - accuracy: 0.3441 - 976ms/epoch - 6ms/step\n",
      "Epoch 38/200\n",
      "156/156 - 1s - loss: 3.1485 - accuracy: 0.3515 - 1s/epoch - 7ms/step\n",
      "Epoch 39/200\n",
      "156/156 - 1s - loss: 3.0883 - accuracy: 0.3667 - 998ms/epoch - 6ms/step\n",
      "Epoch 40/200\n",
      "156/156 - 1s - loss: 3.0221 - accuracy: 0.3826 - 1s/epoch - 6ms/step\n",
      "Epoch 41/200\n",
      "156/156 - 1s - loss: 2.9594 - accuracy: 0.3904 - 1s/epoch - 7ms/step\n",
      "Epoch 42/200\n",
      "156/156 - 1s - loss: 2.9018 - accuracy: 0.4037 - 1s/epoch - 7ms/step\n",
      "Epoch 43/200\n",
      "156/156 - 1s - loss: 2.8367 - accuracy: 0.4160 - 1s/epoch - 7ms/step\n",
      "Epoch 44/200\n",
      "156/156 - 1s - loss: 2.7822 - accuracy: 0.4257 - 1s/epoch - 7ms/step\n",
      "Epoch 45/200\n",
      "156/156 - 1s - loss: 2.7249 - accuracy: 0.4340 - 1s/epoch - 7ms/step\n",
      "Epoch 46/200\n",
      "156/156 - 1s - loss: 2.6718 - accuracy: 0.4493 - 1s/epoch - 7ms/step\n",
      "Epoch 47/200\n",
      "156/156 - 1s - loss: 2.6202 - accuracy: 0.4584 - 1s/epoch - 7ms/step\n",
      "Epoch 48/200\n",
      "156/156 - 1s - loss: 2.5701 - accuracy: 0.4654 - 1s/epoch - 7ms/step\n",
      "Epoch 49/200\n",
      "156/156 - 1s - loss: 2.5208 - accuracy: 0.4775 - 1s/epoch - 6ms/step\n",
      "Epoch 50/200\n",
      "156/156 - 1s - loss: 2.4717 - accuracy: 0.4908 - 948ms/epoch - 6ms/step\n",
      "Epoch 51/200\n",
      "156/156 - 1s - loss: 2.4240 - accuracy: 0.4963 - 982ms/epoch - 6ms/step\n",
      "Epoch 52/200\n",
      "156/156 - 1s - loss: 2.3821 - accuracy: 0.5063 - 1s/epoch - 8ms/step\n",
      "Epoch 53/200\n",
      "156/156 - 1s - loss: 2.3356 - accuracy: 0.5146 - 1s/epoch - 9ms/step\n",
      "Epoch 54/200\n",
      "156/156 - 1s - loss: 2.2932 - accuracy: 0.5251 - 1s/epoch - 8ms/step\n",
      "Epoch 55/200\n",
      "156/156 - 1s - loss: 2.2513 - accuracy: 0.5273 - 1s/epoch - 8ms/step\n",
      "Epoch 56/200\n",
      "156/156 - 1s - loss: 2.2095 - accuracy: 0.5406 - 1s/epoch - 8ms/step\n",
      "Epoch 57/200\n",
      "156/156 - 1s - loss: 2.1747 - accuracy: 0.5471 - 1s/epoch - 7ms/step\n",
      "Epoch 58/200\n",
      "156/156 - 1s - loss: 2.1316 - accuracy: 0.5553 - 958ms/epoch - 6ms/step\n",
      "Epoch 59/200\n",
      "156/156 - 1s - loss: 2.0974 - accuracy: 0.5616 - 943ms/epoch - 6ms/step\n",
      "Epoch 60/200\n",
      "156/156 - 1s - loss: 2.0563 - accuracy: 0.5731 - 966ms/epoch - 6ms/step\n",
      "Epoch 61/200\n",
      "156/156 - 1s - loss: 2.0177 - accuracy: 0.5775 - 946ms/epoch - 6ms/step\n",
      "Epoch 62/200\n",
      "156/156 - 1s - loss: 1.9834 - accuracy: 0.5886 - 961ms/epoch - 6ms/step\n",
      "Epoch 63/200\n",
      "156/156 - 1s - loss: 1.9477 - accuracy: 0.5946 - 961ms/epoch - 6ms/step\n",
      "Epoch 64/200\n",
      "156/156 - 1s - loss: 1.9219 - accuracy: 0.6025 - 957ms/epoch - 6ms/step\n",
      "Epoch 65/200\n",
      "156/156 - 1s - loss: 1.8841 - accuracy: 0.6094 - 947ms/epoch - 6ms/step\n",
      "Epoch 66/200\n",
      "156/156 - 1s - loss: 1.8471 - accuracy: 0.6156 - 950ms/epoch - 6ms/step\n",
      "Epoch 67/200\n",
      "156/156 - 1s - loss: 1.8263 - accuracy: 0.6188 - 953ms/epoch - 6ms/step\n",
      "Epoch 68/200\n",
      "156/156 - 1s - loss: 1.7903 - accuracy: 0.6245 - 942ms/epoch - 6ms/step\n",
      "Epoch 69/200\n",
      "156/156 - 1s - loss: 1.7613 - accuracy: 0.6352 - 945ms/epoch - 6ms/step\n",
      "Epoch 70/200\n",
      "156/156 - 1s - loss: 1.7240 - accuracy: 0.6382 - 943ms/epoch - 6ms/step\n",
      "Epoch 71/200\n",
      "156/156 - 1s - loss: 1.7004 - accuracy: 0.6454 - 938ms/epoch - 6ms/step\n",
      "Epoch 72/200\n",
      "156/156 - 1s - loss: 1.6666 - accuracy: 0.6591 - 948ms/epoch - 6ms/step\n",
      "Epoch 73/200\n",
      "156/156 - 1s - loss: 1.6431 - accuracy: 0.6585 - 944ms/epoch - 6ms/step\n",
      "Epoch 74/200\n",
      "156/156 - 1s - loss: 1.6121 - accuracy: 0.6642 - 958ms/epoch - 6ms/step\n",
      "Epoch 75/200\n",
      "156/156 - 1s - loss: 1.6073 - accuracy: 0.6634 - 972ms/epoch - 6ms/step\n",
      "Epoch 76/200\n",
      "156/156 - 1s - loss: 1.5619 - accuracy: 0.6771 - 921ms/epoch - 6ms/step\n",
      "Epoch 77/200\n",
      "156/156 - 1s - loss: 1.5343 - accuracy: 0.6853 - 925ms/epoch - 6ms/step\n",
      "Epoch 78/200\n",
      "156/156 - 1s - loss: 1.5063 - accuracy: 0.6874 - 999ms/epoch - 6ms/step\n",
      "Epoch 79/200\n",
      "156/156 - 1s - loss: 1.4841 - accuracy: 0.6926 - 925ms/epoch - 6ms/step\n",
      "Epoch 80/200\n",
      "156/156 - 1s - loss: 1.4580 - accuracy: 0.7043 - 936ms/epoch - 6ms/step\n",
      "Epoch 81/200\n",
      "156/156 - 1s - loss: 1.4314 - accuracy: 0.7071 - 928ms/epoch - 6ms/step\n",
      "Epoch 82/200\n",
      "156/156 - 1s - loss: 1.4121 - accuracy: 0.7095 - 925ms/epoch - 6ms/step\n",
      "Epoch 83/200\n",
      "156/156 - 1s - loss: 1.3942 - accuracy: 0.7101 - 933ms/epoch - 6ms/step\n",
      "Epoch 84/200\n",
      "156/156 - 1s - loss: 1.3695 - accuracy: 0.7222 - 924ms/epoch - 6ms/step\n",
      "Epoch 85/200\n",
      "156/156 - 1s - loss: 1.3391 - accuracy: 0.7277 - 930ms/epoch - 6ms/step\n",
      "Epoch 86/200\n",
      "156/156 - 1s - loss: 1.3168 - accuracy: 0.7321 - 941ms/epoch - 6ms/step\n",
      "Epoch 87/200\n",
      "156/156 - 1s - loss: 1.2946 - accuracy: 0.7359 - 934ms/epoch - 6ms/step\n",
      "Epoch 88/200\n",
      "156/156 - 1s - loss: 1.2735 - accuracy: 0.7428 - 947ms/epoch - 6ms/step\n",
      "Epoch 89/200\n",
      "156/156 - 1s - loss: 1.2537 - accuracy: 0.7434 - 940ms/epoch - 6ms/step\n",
      "Epoch 90/200\n",
      "156/156 - 1s - loss: 1.2329 - accuracy: 0.7517 - 925ms/epoch - 6ms/step\n",
      "Epoch 91/200\n",
      "156/156 - 1s - loss: 1.2144 - accuracy: 0.7537 - 930ms/epoch - 6ms/step\n",
      "Epoch 92/200\n",
      "156/156 - 1s - loss: 1.1939 - accuracy: 0.7581 - 930ms/epoch - 6ms/step\n",
      "Epoch 93/200\n",
      "156/156 - 1s - loss: 1.1719 - accuracy: 0.7646 - 928ms/epoch - 6ms/step\n",
      "Epoch 94/200\n",
      "156/156 - 1s - loss: 1.1577 - accuracy: 0.7672 - 931ms/epoch - 6ms/step\n",
      "Epoch 95/200\n",
      "156/156 - 1s - loss: 1.1343 - accuracy: 0.7730 - 932ms/epoch - 6ms/step\n",
      "Epoch 96/200\n",
      "156/156 - 1s - loss: 1.1143 - accuracy: 0.7759 - 1s/epoch - 6ms/step\n",
      "Epoch 97/200\n",
      "156/156 - 1s - loss: 1.0969 - accuracy: 0.7799 - 1s/epoch - 7ms/step\n",
      "Epoch 98/200\n",
      "156/156 - 1s - loss: 1.0785 - accuracy: 0.7821 - 1s/epoch - 7ms/step\n",
      "Epoch 99/200\n",
      "156/156 - 1s - loss: 1.0601 - accuracy: 0.7821 - 1s/epoch - 7ms/step\n",
      "Epoch 100/200\n",
      "156/156 - 1s - loss: 1.0452 - accuracy: 0.7898 - 971ms/epoch - 6ms/step\n",
      "Epoch 101/200\n",
      "156/156 - 1s - loss: 1.0290 - accuracy: 0.7904 - 933ms/epoch - 6ms/step\n",
      "Epoch 102/200\n",
      "156/156 - 1s - loss: 1.0126 - accuracy: 0.7974 - 938ms/epoch - 6ms/step\n",
      "Epoch 103/200\n",
      "156/156 - 1s - loss: 0.9932 - accuracy: 0.7946 - 942ms/epoch - 6ms/step\n",
      "Epoch 104/200\n",
      "156/156 - 1s - loss: 0.9744 - accuracy: 0.8047 - 940ms/epoch - 6ms/step\n",
      "Epoch 105/200\n",
      "156/156 - 1s - loss: 0.9580 - accuracy: 0.8021 - 932ms/epoch - 6ms/step\n",
      "Epoch 106/200\n",
      "156/156 - 1s - loss: 0.9460 - accuracy: 0.8077 - 937ms/epoch - 6ms/step\n",
      "Epoch 107/200\n",
      "156/156 - 1s - loss: 0.9278 - accuracy: 0.8119 - 941ms/epoch - 6ms/step\n",
      "Epoch 108/200\n",
      "156/156 - 1s - loss: 0.9131 - accuracy: 0.8123 - 954ms/epoch - 6ms/step\n",
      "Epoch 109/200\n",
      "156/156 - 1s - loss: 0.8982 - accuracy: 0.8168 - 951ms/epoch - 6ms/step\n",
      "Epoch 110/200\n",
      "156/156 - 1s - loss: 0.8871 - accuracy: 0.8166 - 1s/epoch - 7ms/step\n",
      "Epoch 111/200\n",
      "156/156 - 1s - loss: 0.8710 - accuracy: 0.8206 - 1s/epoch - 7ms/step\n",
      "Epoch 112/200\n",
      "156/156 - 1s - loss: 0.8658 - accuracy: 0.8208 - 990ms/epoch - 6ms/step\n",
      "Epoch 113/200\n",
      "156/156 - 1s - loss: 0.8572 - accuracy: 0.8244 - 1s/epoch - 7ms/step\n",
      "Epoch 114/200\n",
      "156/156 - 1s - loss: 0.8336 - accuracy: 0.8248 - 1s/epoch - 6ms/step\n",
      "Epoch 115/200\n",
      "156/156 - 1s - loss: 0.8158 - accuracy: 0.8291 - 997ms/epoch - 6ms/step\n",
      "Epoch 116/200\n",
      "156/156 - 1s - loss: 0.8073 - accuracy: 0.8301 - 993ms/epoch - 6ms/step\n",
      "Epoch 117/200\n",
      "156/156 - 1s - loss: 0.7927 - accuracy: 0.8355 - 1s/epoch - 9ms/step\n",
      "Epoch 118/200\n",
      "156/156 - 1s - loss: 0.7785 - accuracy: 0.8347 - 999ms/epoch - 6ms/step\n",
      "Epoch 119/200\n",
      "156/156 - 1s - loss: 0.7740 - accuracy: 0.8375 - 959ms/epoch - 6ms/step\n",
      "Epoch 120/200\n",
      "156/156 - 1s - loss: 0.7551 - accuracy: 0.8410 - 974ms/epoch - 6ms/step\n",
      "Epoch 121/200\n",
      "156/156 - 1s - loss: 0.7471 - accuracy: 0.8412 - 978ms/epoch - 6ms/step\n",
      "Epoch 122/200\n",
      "156/156 - 1s - loss: 0.7342 - accuracy: 0.8440 - 986ms/epoch - 6ms/step\n",
      "Epoch 123/200\n",
      "156/156 - 1s - loss: 0.7203 - accuracy: 0.8500 - 1s/epoch - 6ms/step\n",
      "Epoch 124/200\n",
      "156/156 - 1s - loss: 0.7073 - accuracy: 0.8498 - 1s/epoch - 7ms/step\n",
      "Epoch 125/200\n",
      "156/156 - 1s - loss: 0.6969 - accuracy: 0.8524 - 1s/epoch - 7ms/step\n",
      "Epoch 126/200\n",
      "156/156 - 1s - loss: 0.6865 - accuracy: 0.8561 - 998ms/epoch - 6ms/step\n",
      "Epoch 127/200\n",
      "156/156 - 1s - loss: 0.6758 - accuracy: 0.8591 - 1s/epoch - 7ms/step\n",
      "Epoch 128/200\n",
      "156/156 - 1s - loss: 0.6663 - accuracy: 0.8585 - 969ms/epoch - 6ms/step\n",
      "Epoch 129/200\n",
      "156/156 - 1s - loss: 0.6581 - accuracy: 0.8589 - 977ms/epoch - 6ms/step\n",
      "Epoch 130/200\n",
      "156/156 - 1s - loss: 0.6472 - accuracy: 0.8627 - 974ms/epoch - 6ms/step\n",
      "Epoch 131/200\n",
      "156/156 - 1s - loss: 0.6439 - accuracy: 0.8643 - 961ms/epoch - 6ms/step\n",
      "Epoch 132/200\n",
      "156/156 - 1s - loss: 0.6392 - accuracy: 0.8631 - 960ms/epoch - 6ms/step\n",
      "Epoch 133/200\n",
      "156/156 - 1s - loss: 0.6212 - accuracy: 0.8670 - 947ms/epoch - 6ms/step\n",
      "Epoch 134/200\n",
      "156/156 - 1s - loss: 0.6112 - accuracy: 0.8694 - 981ms/epoch - 6ms/step\n",
      "Epoch 135/200\n",
      "156/156 - 1s - loss: 0.6044 - accuracy: 0.8700 - 970ms/epoch - 6ms/step\n",
      "Epoch 136/200\n",
      "156/156 - 1s - loss: 0.5909 - accuracy: 0.8720 - 954ms/epoch - 6ms/step\n",
      "Epoch 137/200\n",
      "156/156 - 1s - loss: 0.5861 - accuracy: 0.8746 - 986ms/epoch - 6ms/step\n",
      "Epoch 138/200\n",
      "156/156 - 1s - loss: 0.5714 - accuracy: 0.8783 - 1s/epoch - 7ms/step\n",
      "Epoch 139/200\n",
      "156/156 - 1s - loss: 0.5676 - accuracy: 0.8752 - 1s/epoch - 8ms/step\n",
      "Epoch 140/200\n",
      "156/156 - 1s - loss: 0.5558 - accuracy: 0.8795 - 1s/epoch - 7ms/step\n",
      "Epoch 141/200\n",
      "156/156 - 1s - loss: 0.5476 - accuracy: 0.8801 - 948ms/epoch - 6ms/step\n",
      "Epoch 142/200\n",
      "156/156 - 1s - loss: 0.5384 - accuracy: 0.8835 - 987ms/epoch - 6ms/step\n",
      "Epoch 143/200\n",
      "156/156 - 1s - loss: 0.5341 - accuracy: 0.8825 - 934ms/epoch - 6ms/step\n",
      "Epoch 144/200\n",
      "156/156 - 1s - loss: 0.5240 - accuracy: 0.8841 - 945ms/epoch - 6ms/step\n",
      "Epoch 145/200\n",
      "156/156 - 1s - loss: 0.5177 - accuracy: 0.8863 - 950ms/epoch - 6ms/step\n",
      "Epoch 146/200\n",
      "156/156 - 1s - loss: 0.5090 - accuracy: 0.8871 - 954ms/epoch - 6ms/step\n",
      "Epoch 147/200\n",
      "156/156 - 1s - loss: 0.5020 - accuracy: 0.8885 - 934ms/epoch - 6ms/step\n",
      "Epoch 148/200\n",
      "156/156 - 1s - loss: 0.4940 - accuracy: 0.8909 - 932ms/epoch - 6ms/step\n",
      "Epoch 149/200\n",
      "156/156 - 1s - loss: 0.4871 - accuracy: 0.8930 - 943ms/epoch - 6ms/step\n",
      "Epoch 150/200\n",
      "156/156 - 1s - loss: 0.4799 - accuracy: 0.8940 - 950ms/epoch - 6ms/step\n",
      "Epoch 151/200\n",
      "156/156 - 1s - loss: 0.4827 - accuracy: 0.8905 - 943ms/epoch - 6ms/step\n",
      "Epoch 152/200\n",
      "156/156 - 1s - loss: 0.4693 - accuracy: 0.8964 - 937ms/epoch - 6ms/step\n",
      "Epoch 153/200\n",
      "156/156 - 1s - loss: 0.4615 - accuracy: 0.8964 - 964ms/epoch - 6ms/step\n",
      "Epoch 154/200\n",
      "156/156 - 1s - loss: 0.4562 - accuracy: 0.8966 - 957ms/epoch - 6ms/step\n",
      "Epoch 155/200\n",
      "156/156 - 1s - loss: 0.4673 - accuracy: 0.8932 - 963ms/epoch - 6ms/step\n",
      "Epoch 156/200\n",
      "156/156 - 1s - loss: 0.4488 - accuracy: 0.8972 - 984ms/epoch - 6ms/step\n",
      "Epoch 157/200\n",
      "156/156 - 1s - loss: 0.4364 - accuracy: 0.8996 - 1s/epoch - 6ms/step\n",
      "Epoch 158/200\n",
      "156/156 - 1s - loss: 0.4287 - accuracy: 0.9018 - 968ms/epoch - 6ms/step\n",
      "Epoch 159/200\n",
      "156/156 - 1s - loss: 0.4236 - accuracy: 0.9018 - 976ms/epoch - 6ms/step\n",
      "Epoch 160/200\n",
      "156/156 - 1s - loss: 0.4197 - accuracy: 0.9012 - 957ms/epoch - 6ms/step\n",
      "Epoch 161/200\n",
      "156/156 - 1s - loss: 0.4154 - accuracy: 0.9036 - 967ms/epoch - 6ms/step\n",
      "Epoch 162/200\n",
      "156/156 - 1s - loss: 0.4085 - accuracy: 0.9034 - 979ms/epoch - 6ms/step\n",
      "Epoch 163/200\n",
      "156/156 - 1s - loss: 0.4039 - accuracy: 0.9059 - 974ms/epoch - 6ms/step\n",
      "Epoch 164/200\n",
      "156/156 - 1s - loss: 0.3994 - accuracy: 0.9041 - 966ms/epoch - 6ms/step\n",
      "Epoch 165/200\n",
      "156/156 - 1s - loss: 0.3941 - accuracy: 0.9053 - 1s/epoch - 7ms/step\n",
      "Epoch 166/200\n",
      "156/156 - 1s - loss: 0.3906 - accuracy: 0.9053 - 1s/epoch - 7ms/step\n",
      "Epoch 167/200\n",
      "156/156 - 1s - loss: 0.3857 - accuracy: 0.9049 - 982ms/epoch - 6ms/step\n",
      "Epoch 168/200\n",
      "156/156 - 1s - loss: 0.3799 - accuracy: 0.9067 - 979ms/epoch - 6ms/step\n",
      "Epoch 169/200\n",
      "156/156 - 1s - loss: 0.3757 - accuracy: 0.9067 - 1s/epoch - 7ms/step\n",
      "Epoch 170/200\n",
      "156/156 - 1s - loss: 0.3892 - accuracy: 0.9051 - 1s/epoch - 6ms/step\n",
      "Epoch 171/200\n",
      "156/156 - 1s - loss: 0.3685 - accuracy: 0.9097 - 985ms/epoch - 6ms/step\n",
      "Epoch 172/200\n",
      "156/156 - 1s - loss: 0.3636 - accuracy: 0.9089 - 991ms/epoch - 6ms/step\n",
      "Epoch 173/200\n",
      "156/156 - 1s - loss: 0.3654 - accuracy: 0.9083 - 1s/epoch - 7ms/step\n",
      "Epoch 174/200\n",
      "156/156 - 1s - loss: 0.3662 - accuracy: 0.9081 - 1s/epoch - 6ms/step\n",
      "Epoch 175/200\n",
      "156/156 - 1s - loss: 0.3623 - accuracy: 0.9099 - 983ms/epoch - 6ms/step\n",
      "Epoch 176/200\n",
      "156/156 - 1s - loss: 0.3728 - accuracy: 0.9067 - 1s/epoch - 6ms/step\n",
      "Epoch 177/200\n",
      "156/156 - 1s - loss: 0.3522 - accuracy: 0.9101 - 1s/epoch - 7ms/step\n",
      "Epoch 178/200\n",
      "156/156 - 1s - loss: 0.3442 - accuracy: 0.9073 - 1s/epoch - 6ms/step\n",
      "Epoch 179/200\n",
      "156/156 - 1s - loss: 0.3400 - accuracy: 0.9095 - 989ms/epoch - 6ms/step\n",
      "Epoch 180/200\n",
      "156/156 - 1s - loss: 0.3370 - accuracy: 0.9113 - 1s/epoch - 7ms/step\n",
      "Epoch 181/200\n",
      "156/156 - 1s - loss: 0.3327 - accuracy: 0.9119 - 1s/epoch - 6ms/step\n",
      "Epoch 182/200\n",
      "156/156 - 1s - loss: 0.3307 - accuracy: 0.9093 - 1s/epoch - 6ms/step\n",
      "Epoch 183/200\n",
      "156/156 - 1s - loss: 0.3278 - accuracy: 0.9113 - 994ms/epoch - 6ms/step\n",
      "Epoch 184/200\n",
      "156/156 - 1s - loss: 0.3249 - accuracy: 0.9107 - 1s/epoch - 7ms/step\n",
      "Epoch 185/200\n",
      "156/156 - 1s - loss: 0.3225 - accuracy: 0.9095 - 1s/epoch - 7ms/step\n",
      "Epoch 186/200\n",
      "156/156 - 1s - loss: 0.3213 - accuracy: 0.9105 - 1s/epoch - 7ms/step\n",
      "Epoch 187/200\n",
      "156/156 - 1s - loss: 0.3176 - accuracy: 0.9123 - 1s/epoch - 7ms/step\n",
      "Epoch 188/200\n",
      "156/156 - 1s - loss: 0.3273 - accuracy: 0.9129 - 1s/epoch - 7ms/step\n",
      "Epoch 189/200\n",
      "156/156 - 1s - loss: 0.3154 - accuracy: 0.9131 - 1s/epoch - 7ms/step\n",
      "Epoch 190/200\n",
      "156/156 - 1s - loss: 0.3119 - accuracy: 0.9131 - 1s/epoch - 7ms/step\n",
      "Epoch 191/200\n",
      "156/156 - 1s - loss: 0.3083 - accuracy: 0.9121 - 1s/epoch - 7ms/step\n",
      "Epoch 192/200\n",
      "156/156 - 1s - loss: 0.3082 - accuracy: 0.9111 - 1s/epoch - 7ms/step\n",
      "Epoch 193/200\n",
      "156/156 - 1s - loss: 0.3179 - accuracy: 0.9099 - 1s/epoch - 7ms/step\n",
      "Epoch 194/200\n",
      "156/156 - 1s - loss: 0.3063 - accuracy: 0.9097 - 1s/epoch - 7ms/step\n",
      "Epoch 195/200\n",
      "156/156 - 1s - loss: 0.3108 - accuracy: 0.9093 - 1s/epoch - 7ms/step\n",
      "Epoch 196/200\n",
      "156/156 - 1s - loss: 0.2998 - accuracy: 0.9147 - 1s/epoch - 7ms/step\n",
      "Epoch 197/200\n",
      "156/156 - 1s - loss: 0.2966 - accuracy: 0.9117 - 1s/epoch - 7ms/step\n",
      "Epoch 198/200\n",
      "156/156 - 1s - loss: 0.2937 - accuracy: 0.9121 - 1s/epoch - 7ms/step\n",
      "Epoch 199/200\n",
      "156/156 - 1s - loss: 0.3018 - accuracy: 0.9135 - 1s/epoch - 7ms/step\n",
      "Epoch 200/200\n",
      "156/156 - 1s - loss: 0.2934 - accuracy: 0.9121 - 1s/epoch - 7ms/step\n"
     ]
    },
    {
     "data": {
      "text/plain": [
       "<keras.callbacks.History at 0x2bcfec36f10>"
      ]
     },
     "execution_count": 39,
     "metadata": {},
     "output_type": "execute_result"
    }
   ],
   "source": [
    "embedding_dim = 10\n",
    "hidden_units = 128\n",
    "\n",
    "model = Sequential()\n",
    "model.add(Embedding(vocab_size, embedding_dim))\n",
    "model.add(LSTM(hidden_units))\n",
    "model.add(Dense(vocab_size, activation='softmax'))\n",
    "model.compile(loss='categorical_crossentropy', optimizer='adam', metrics=['accuracy'])\n",
    "model.fit(X, y, epochs=200, verbose=2)\n"
   ]
  },
  {
   "cell_type": "code",
   "execution_count": 40,
   "metadata": {},
   "outputs": [],
   "source": [
    "def sentence_generation(model, tokenizer, current_word, n): # 모델, 토크나이저, 현재 단어, 반복할 횟수\n",
    "    init_word = current_word\n",
    "    sentence = ''\n",
    "\n",
    "    # n번 반복\n",
    "    for _ in range(n):\n",
    "        encoded = tokenizer.texts_to_sequences([current_word])[0]\n",
    "        encoded = pad_sequences([encoded], maxlen=max_len-1, padding='pre')\n",
    "\n",
    "        # 입력한 X(현재 단어)에 대해서 y를 예측하고 y(예측한 단어)를 result에 저장.\n",
    "        result = model.predict(encoded, verbose=0)\n",
    "        result = np.argmax(result, axis=1)\n",
    "\n",
    "        for word, index in tokenizer.word_index.items(): \n",
    "            # 만약 예측한 단어와 인덱스와 동일한 단어가 있다면\n",
    "            if index == result:\n",
    "                break\n",
    "\n",
    "        # 현재 단어 + ' ' + 예측 단어를 현재 단어로 변경\n",
    "        current_word = current_word + ' '  + word\n",
    "\n",
    "        # 예측 단어를 문장에 저장\n",
    "        sentence = sentence + ' ' + word\n",
    "\n",
    "    sentence = init_word + sentence\n",
    "    return sentence\n"
   ]
  },
  {
   "cell_type": "code",
   "execution_count": 41,
   "metadata": {},
   "outputs": [
    {
     "name": "stdout",
     "output_type": "stream",
     "text": [
      "i was there for the intervention in the coconut its 1\n"
     ]
    }
   ],
   "source": [
    "print(sentence_generation(model, tokenizer, 'i', 10))\n"
   ]
  },
  {
   "cell_type": "code",
   "execution_count": 45,
   "metadata": {},
   "outputs": [
    {
     "name": "stdout",
     "output_type": "stream",
     "text": [
      "how to speak grief is skeptical on trumps foundation and be\n"
     ]
    }
   ],
   "source": [
    "print(sentence_generation(model, tokenizer, 'how', 10))"
   ]
  },
  {
   "cell_type": "code",
   "execution_count": null,
   "metadata": {},
   "outputs": [],
   "source": []
  }
 ],
 "metadata": {
  "kernelspec": {
   "display_name": "nv38",
   "language": "python",
   "name": "python3"
  },
  "language_info": {
   "codemirror_mode": {
    "name": "ipython",
    "version": 3
   },
   "file_extension": ".py",
   "mimetype": "text/x-python",
   "name": "python",
   "nbconvert_exporter": "python",
   "pygments_lexer": "ipython3",
   "version": "3.8.18"
  }
 },
 "nbformat": 4,
 "nbformat_minor": 2
}
