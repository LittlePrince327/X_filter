{
 "cells": [
  {
   "cell_type": "code",
   "execution_count": null,
   "metadata": {},
   "outputs": [],
   "source": []
  },
  {
   "cell_type": "code",
   "execution_count": 1,
   "metadata": {},
   "outputs": [
    {
     "name": "stdout",
     "output_type": "stream",
     "text": [
      "Requirement already satisfied: pip in c:\\users\\gjaischool\\.conda\\envs\\nv38\\lib\\site-packages (23.3.1)"
     ]
    },
    {
     "name": "stderr",
     "output_type": "stream",
     "text": [
      "WARNING: Ignoring invalid distribution -eras (c:\\users\\gjaischool\\.conda\\envs\\nv38\\lib\\site-packages)\n",
      "WARNING: Ignoring invalid distribution -eras (c:\\users\\gjaischool\\.conda\\envs\\nv38\\lib\\site-packages)\n"
     ]
    },
    {
     "name": "stdout",
     "output_type": "stream",
     "text": [
      "\n",
      "Requirement already satisfied: Kiwipiepy in c:\\users\\gjaischool\\.conda\\envs\\nv38\\lib\\site-packages (0.16.1)\n",
      "Requirement already satisfied: kiwipiepy-model~=0.16 in c:\\users\\gjaischool\\.conda\\envs\\nv38\\lib\\site-packages (from Kiwipiepy) (0.16.0)\n",
      "Requirement already satisfied: numpy in c:\\users\\gjaischool\\.conda\\envs\\nv38\\lib\\site-packages (from Kiwipiepy) (1.24.4)\n",
      "Requirement already satisfied: tqdm in c:\\users\\gjaischool\\.conda\\envs\\nv38\\lib\\site-packages (from Kiwipiepy) (4.66.1)\n",
      "Requirement already satisfied: colorama in c:\\users\\gjaischool\\.conda\\envs\\nv38\\lib\\site-packages (from tqdm->Kiwipiepy) (0.4.6)\n"
     ]
    },
    {
     "name": "stderr",
     "output_type": "stream",
     "text": [
      "WARNING: Ignoring invalid distribution -eras (c:\\users\\gjaischool\\.conda\\envs\\nv38\\lib\\site-packages)\n",
      "WARNING: Ignoring invalid distribution -eras (c:\\users\\gjaischool\\.conda\\envs\\nv38\\lib\\site-packages)\n"
     ]
    },
    {
     "name": "stdout",
     "output_type": "stream",
     "text": [
      "Name: kiwipiepy\n",
      "Version: 0.16.1\n",
      "Summary: Kiwi, the Korean Tokenizer for Python\n",
      "Home-page: https://github.com/bab2min/kiwipiepy\n",
      "Author: bab2min\n",
      "Author-email: bab2min@gmail.com\n",
      "License: LGPL v3 License\n",
      "Location: c:\\users\\gjaischool\\.conda\\envs\\nv38\\lib\\site-packages\n",
      "Requires: kiwipiepy-model, numpy, tqdm\n",
      "Required-by: \n"
     ]
    },
    {
     "name": "stderr",
     "output_type": "stream",
     "text": [
      "WARNING: Ignoring invalid distribution -eras (c:\\users\\gjaischool\\.conda\\envs\\nv38\\lib\\site-packages)\n"
     ]
    }
   ],
   "source": [
    "!pip install --upgrade pip\n",
    "!pip install Kiwipiepy\n",
    "\n",
    "!pip show kiwipiepy"
   ]
  },
  {
   "cell_type": "code",
   "execution_count": 2,
   "metadata": {},
   "outputs": [],
   "source": [
    "# 텍스트 직접 정의하기\n",
    "text1=\"우크라이나 전쟁과 팬데믹 장기화로 러시아는 물가가 치솟고 주식은 떡락을 쳐서 블라디미르 푸틴은 맛이 갔다. 쌤통이닿ㅎㅎ 거짓말쟁이 푸틴 자업자득이네욬ㅋㅋ\"\n",
    "text2=\"위드코로나(with Corona) 시국에 바이든 대통령은 푸틴과 시진핑, 그리고 김정은까지 몰디브에 초대했다. 모히또에 호주산 소고기 투뿔 꽃등심으로 스테이크를 구워 줬더니 모두 기분이 좋아서 업되었다고 한다.\"\n",
    "text3=\"젤렌스키는 코로나일구에서 막 회복해서 키이우에서 군사력 보강과 민주화와 방역을 지휘하고 있다네요. 근데 키이우가 어디죠? 키예프 아닌가요?\""
   ]
  },
  {
   "cell_type": "code",
   "execution_count": 4,
   "metadata": {},
   "outputs": [],
   "source": [
    "from kiwipiepy import Kiwi\n",
    "kiwi = Kiwi()"
   ]
  },
  {
   "cell_type": "code",
   "execution_count": 5,
   "metadata": {},
   "outputs": [
    {
     "data": {
      "text/plain": [
       "[Token(form='우크라이나', tag='NNP', start=0, len=5),\n",
       " Token(form='전쟁', tag='NNG', start=6, len=2),\n",
       " Token(form='과', tag='JC', start=8, len=1),\n",
       " Token(form='팬데믹', tag='NNP', start=10, len=3),\n",
       " Token(form='장기', tag='NNG', start=14, len=2),\n",
       " Token(form='화', tag='XSN', start=16, len=1),\n",
       " Token(form='로', tag='JKB', start=17, len=1),\n",
       " Token(form='러시아', tag='NNP', start=19, len=3),\n",
       " Token(form='는', tag='JX', start=22, len=1),\n",
       " Token(form='물가', tag='NNG', start=24, len=2),\n",
       " Token(form='가', tag='JKS', start=26, len=1),\n",
       " Token(form='치솟', tag='VV-R', start=28, len=2),\n",
       " Token(form='고', tag='EC', start=30, len=1),\n",
       " Token(form='주식', tag='NNG', start=32, len=2),\n",
       " Token(form='은', tag='JX', start=34, len=1),\n",
       " Token(form='떡', tag='NNG', start=36, len=1),\n",
       " Token(form='락', tag='NNG', start=37, len=1),\n",
       " Token(form='을', tag='JKO', start=38, len=1),\n",
       " Token(form='치', tag='VV', start=40, len=1),\n",
       " Token(form='어서', tag='EC', start=40, len=2),\n",
       " Token(form='블라디미르', tag='NNP', start=43, len=5),\n",
       " Token(form='푸틴', tag='NNP', start=49, len=2),\n",
       " Token(form='은', tag='JX', start=51, len=1),\n",
       " Token(form='맛', tag='NNG', start=53, len=1),\n",
       " Token(form='이', tag='JKS', start=54, len=1),\n",
       " Token(form='가', tag='VV', start=56, len=1),\n",
       " Token(form='었', tag='EP', start=56, len=1),\n",
       " Token(form='다', tag='EF', start=57, len=1),\n",
       " Token(form='.', tag='SF', start=58, len=1),\n",
       " Token(form='쌤', tag='NNG', start=60, len=1),\n",
       " Token(form='통', tag='NNG', start=61, len=1),\n",
       " Token(form='이', tag='VCP', start=62, len=1),\n",
       " Token(form='다', tag='EF', start=63, len=1),\n",
       " Token(form='ᇂ', tag='Z_CODA', start=63, len=1),\n",
       " Token(form='ㅎㅎ', tag='SW', start=64, len=2),\n",
       " Token(form='거짓말', tag='NNG', start=67, len=3),\n",
       " Token(form='쟁이', tag='XSN', start=70, len=2),\n",
       " Token(form='푸틴', tag='NNP', start=73, len=2),\n",
       " Token(form='자업자득', tag='NNG', start=76, len=4),\n",
       " Token(form='이', tag='VCP', start=80, len=1),\n",
       " Token(form='네요', tag='EF', start=81, len=2),\n",
       " Token(form='ᆿ', tag='Z_CODA', start=82, len=1),\n",
       " Token(form='ㅋㅋ', tag='SW', start=83, len=2)]"
      ]
     },
     "execution_count": 5,
     "metadata": {},
     "output_type": "execute_result"
    }
   ],
   "source": [
    "kiwi.tokenize(text1)"
   ]
  },
  {
   "cell_type": "code",
   "execution_count": 6,
   "metadata": {},
   "outputs": [
    {
     "data": {
      "text/plain": [
       "[Token(form='위드', tag='NNG', start=0, len=2),\n",
       " Token(form='코로나', tag='NNG', start=2, len=3),\n",
       " Token(form='(', tag='SSO', start=5, len=1),\n",
       " Token(form='with', tag='SL', start=6, len=4),\n",
       " Token(form='Corona', tag='SL', start=11, len=6),\n",
       " Token(form=')', tag='SSC', start=17, len=1),\n",
       " Token(form='시국', tag='NNG', start=19, len=2),\n",
       " Token(form='에', tag='JKB', start=21, len=1),\n",
       " Token(form='바이든', tag='NNP', start=23, len=3),\n",
       " Token(form='대통령', tag='NNG', start=27, len=3),\n",
       " Token(form='은', tag='JX', start=30, len=1),\n",
       " Token(form='푸틴', tag='NNP', start=32, len=2),\n",
       " Token(form='과', tag='JC', start=34, len=1),\n",
       " Token(form='시진핑', tag='NNP', start=36, len=3),\n",
       " Token(form=',', tag='SP', start=39, len=1),\n",
       " Token(form='그리고', tag='MAJ', start=41, len=3),\n",
       " Token(form='김정은', tag='NNP', start=45, len=3),\n",
       " Token(form='까지', tag='JX', start=48, len=2),\n",
       " Token(form='몰디브', tag='NNP', start=51, len=3),\n",
       " Token(form='에', tag='JKB', start=54, len=1),\n",
       " Token(form='초대', tag='NNG', start=56, len=2),\n",
       " Token(form='하', tag='XSV', start=58, len=1),\n",
       " Token(form='었', tag='EP', start=58, len=1),\n",
       " Token(form='다', tag='EF', start=59, len=1),\n",
       " Token(form='.', tag='SF', start=60, len=1),\n",
       " Token(form='모히또', tag='NNP', start=62, len=3),\n",
       " Token(form='에', tag='JKG', start=65, len=1),\n",
       " Token(form='호주', tag='NNP', start=67, len=2),\n",
       " Token(form='산', tag='XSN', start=69, len=1),\n",
       " Token(form='소고기', tag='NNG', start=71, len=3),\n",
       " Token(form='투뿔', tag='NNG', start=75, len=2),\n",
       " Token(form='꽃', tag='NNG', start=78, len=1),\n",
       " Token(form='등심', tag='NNG', start=79, len=2),\n",
       " Token(form='으로', tag='JKB', start=81, len=2),\n",
       " Token(form='스테이크', tag='NNG', start=84, len=4),\n",
       " Token(form='를', tag='JKO', start=88, len=1),\n",
       " Token(form='굽', tag='VV-I', start=90, len=2),\n",
       " Token(form='어', tag='EC', start=91, len=1),\n",
       " Token(form='주', tag='VX', start=93, len=1),\n",
       " Token(form='었', tag='EP', start=93, len=1),\n",
       " Token(form='더니', tag='EC', start=94, len=2),\n",
       " Token(form='모두', tag='MAG', start=97, len=2),\n",
       " Token(form='기분', tag='NNG', start=100, len=2),\n",
       " Token(form='이', tag='JKS', start=102, len=1),\n",
       " Token(form='좋', tag='VA', start=104, len=1),\n",
       " Token(form='어서', tag='EC', start=105, len=2),\n",
       " Token(form='업', tag='NNG', start=108, len=1),\n",
       " Token(form='되', tag='XSV', start=109, len=1),\n",
       " Token(form='었', tag='EP', start=110, len=1),\n",
       " Token(form='다고', tag='EC', start=111, len=2),\n",
       " Token(form='하', tag='VV', start=114, len=1),\n",
       " Token(form='ᆫ다', tag='EF', start=114, len=2),\n",
       " Token(form='.', tag='SF', start=116, len=1)]"
      ]
     },
     "execution_count": 6,
     "metadata": {},
     "output_type": "execute_result"
    }
   ],
   "source": [
    "kiwi.tokenize(text2)"
   ]
  },
  {
   "cell_type": "code",
   "execution_count": 7,
   "metadata": {},
   "outputs": [
    {
     "data": {
      "text/plain": [
       "[Token(form='젤렌스키는', tag='NNG', start=0, len=5),\n",
       " Token(form='코로나', tag='NNG', start=6, len=3),\n",
       " Token(form='일', tag='NR', start=9, len=1),\n",
       " Token(form='구', tag='NR', start=10, len=1),\n",
       " Token(form='에서', tag='JKB', start=11, len=2),\n",
       " Token(form='막', tag='MAG', start=14, len=1),\n",
       " Token(form='회복', tag='NNG', start=16, len=2),\n",
       " Token(form='하', tag='XSV', start=18, len=1),\n",
       " Token(form='어서', tag='EC', start=18, len=2),\n",
       " Token(form='키이우', tag='NNG', start=21, len=3),\n",
       " Token(form='에서', tag='JKB', start=24, len=2),\n",
       " Token(form='군사력', tag='NNG', start=27, len=3),\n",
       " Token(form='보강', tag='NNG', start=31, len=2),\n",
       " Token(form='과', tag='JC', start=33, len=1),\n",
       " Token(form='민주', tag='NNG', start=35, len=2),\n",
       " Token(form='화', tag='XSN', start=37, len=1),\n",
       " Token(form='와', tag='JC', start=38, len=1),\n",
       " Token(form='방역', tag='NNG', start=40, len=2),\n",
       " Token(form='을', tag='JKO', start=42, len=1),\n",
       " Token(form='지휘', tag='NNG', start=44, len=2),\n",
       " Token(form='하', tag='XSV', start=46, len=1),\n",
       " Token(form='고', tag='EC', start=47, len=1),\n",
       " Token(form='있', tag='VX', start=49, len=1),\n",
       " Token(form='다네', tag='EF', start=50, len=2),\n",
       " Token(form='요', tag='JX', start=52, len=1),\n",
       " Token(form='.', tag='SF', start=53, len=1),\n",
       " Token(form='근데', tag='MAJ', start=55, len=2),\n",
       " Token(form='키이우', tag='NNG', start=58, len=3),\n",
       " Token(form='가', tag='JKS', start=61, len=1),\n",
       " Token(form='어디', tag='NP', start=63, len=2),\n",
       " Token(form='이', tag='VCP', start=65, len=0),\n",
       " Token(form='죠', tag='EF', start=65, len=1),\n",
       " Token(form='?', tag='SF', start=66, len=1),\n",
       " Token(form='키예프', tag='NNP', start=68, len=3),\n",
       " Token(form='아니', tag='VCN', start=72, len=2),\n",
       " Token(form='ᆫ가', tag='EF', start=73, len=2),\n",
       " Token(form='요', tag='JX', start=75, len=1),\n",
       " Token(form='?', tag='SF', start=76, len=1)]"
      ]
     },
     "execution_count": 7,
     "metadata": {},
     "output_type": "execute_result"
    }
   ],
   "source": [
    "kiwi.tokenize(text3)"
   ]
  },
  {
   "cell_type": "code",
   "execution_count": 9,
   "metadata": {},
   "outputs": [],
   "source": [
    "from kiwipiepy import Kiwi\n",
    "kiwi= Kiwi(num_workers=0, model_path=None, load_default_dict=True, integrate_allomorph=False)"
   ]
  },
  {
   "cell_type": "code",
   "execution_count": 10,
   "metadata": {},
   "outputs": [
    {
     "data": {
      "text/plain": [
       "[Token(form='우크라이나', tag='NNP', start=0, len=5),\n",
       " Token(form='전쟁', tag='NNG', start=6, len=2),\n",
       " Token(form='과', tag='JC', start=8, len=1),\n",
       " Token(form='팬데믹', tag='NNP', start=10, len=3),\n",
       " Token(form='장기', tag='NNG', start=14, len=2),\n",
       " Token(form='화', tag='XSN', start=16, len=1),\n",
       " Token(form='로', tag='JKB', start=17, len=1),\n",
       " Token(form='러시아', tag='NNP', start=19, len=3),\n",
       " Token(form='는', tag='JX', start=22, len=1),\n",
       " Token(form='물가', tag='NNG', start=24, len=2),\n",
       " Token(form='가', tag='JKS', start=26, len=1),\n",
       " Token(form='치솟', tag='VV-R', start=28, len=2),\n",
       " Token(form='고', tag='EC', start=30, len=1),\n",
       " Token(form='주식', tag='NNG', start=32, len=2),\n",
       " Token(form='은', tag='JX', start=34, len=1),\n",
       " Token(form='떡', tag='NNG', start=36, len=1),\n",
       " Token(form='락', tag='NNG', start=37, len=1),\n",
       " Token(form='을', tag='JKO', start=38, len=1),\n",
       " Token(form='치', tag='VV', start=40, len=1),\n",
       " Token(form='어서', tag='EC', start=40, len=2),\n",
       " Token(form='블라디미르', tag='NNP', start=43, len=5),\n",
       " Token(form='푸틴', tag='NNP', start=49, len=2),\n",
       " Token(form='은', tag='JX', start=51, len=1),\n",
       " Token(form='맛', tag='NNG', start=53, len=1),\n",
       " Token(form='이', tag='JKS', start=54, len=1),\n",
       " Token(form='가', tag='VV', start=56, len=1),\n",
       " Token(form='았', tag='EP', start=56, len=1),\n",
       " Token(form='다', tag='EF', start=57, len=1),\n",
       " Token(form='.', tag='SF', start=58, len=1),\n",
       " Token(form='쌤', tag='NNG', start=60, len=1),\n",
       " Token(form='통', tag='NNG', start=61, len=1),\n",
       " Token(form='이', tag='VCP', start=62, len=1),\n",
       " Token(form='다', tag='EF', start=63, len=1),\n",
       " Token(form='ᇂ', tag='Z_CODA', start=63, len=1),\n",
       " Token(form='ㅎㅎ', tag='SW', start=64, len=2),\n",
       " Token(form='거짓말', tag='NNG', start=67, len=3),\n",
       " Token(form='쟁이', tag='XSN', start=70, len=2),\n",
       " Token(form='푸틴', tag='NNP', start=73, len=2),\n",
       " Token(form='자업자득', tag='NNG', start=76, len=4),\n",
       " Token(form='이', tag='VCP', start=80, len=1),\n",
       " Token(form='네요', tag='EF', start=81, len=2),\n",
       " Token(form='ᆿ', tag='Z_CODA', start=82, len=1),\n",
       " Token(form='ㅋㅋ', tag='SW', start=83, len=2)]"
      ]
     },
     "execution_count": 10,
     "metadata": {},
     "output_type": "execute_result"
    }
   ],
   "source": [
    "kiwi.tokenize(text1)"
   ]
  },
  {
   "cell_type": "code",
   "execution_count": 14,
   "metadata": {},
   "outputs": [
    {
     "data": {
      "text/plain": [
       "[Token(form='위드코로나', tag='NNG', start=0, len=5),\n",
       " Token(form='(', tag='SSO', start=5, len=1),\n",
       " Token(form='with', tag='SL', start=6, len=4),\n",
       " Token(form='Corona', tag='SL', start=11, len=6),\n",
       " Token(form=')', tag='SSC', start=17, len=1),\n",
       " Token(form='시국', tag='NNG', start=19, len=2),\n",
       " Token(form='에', tag='JKB', start=21, len=1),\n",
       " Token(form='바이든', tag='NNP', start=23, len=3),\n",
       " Token(form='대통령', tag='NNG', start=27, len=3),\n",
       " Token(form='은', tag='JX', start=30, len=1),\n",
       " Token(form='푸틴', tag='NNP', start=32, len=2),\n",
       " Token(form='과', tag='JC', start=34, len=1),\n",
       " Token(form='시진핑', tag='NNP', start=36, len=3),\n",
       " Token(form=',', tag='SP', start=39, len=1),\n",
       " Token(form='그리고', tag='MAJ', start=41, len=3),\n",
       " Token(form='김정은', tag='NNP', start=45, len=3),\n",
       " Token(form='까지', tag='JX', start=48, len=2),\n",
       " Token(form='몰디브', tag='NNP', start=51, len=3),\n",
       " Token(form='에', tag='JKB', start=54, len=1),\n",
       " Token(form='초대', tag='NNG', start=56, len=2),\n",
       " Token(form='하', tag='XSV', start=58, len=1),\n",
       " Token(form='였', tag='EP', start=58, len=1),\n",
       " Token(form='다', tag='EF', start=59, len=1),\n",
       " Token(form='.', tag='SF', start=60, len=1),\n",
       " Token(form='모히또', tag='NNP', start=62, len=3),\n",
       " Token(form='에', tag='JKG', start=65, len=1),\n",
       " Token(form='호주', tag='NNP', start=67, len=2),\n",
       " Token(form='산', tag='XSN', start=69, len=1),\n",
       " Token(form='소고기', tag='NNG', start=71, len=3),\n",
       " Token(form='투뿔', tag='NNG', start=75, len=2),\n",
       " Token(form='꽃', tag='NNG', start=78, len=1),\n",
       " Token(form='등심', tag='NNG', start=79, len=2),\n",
       " Token(form='으로', tag='JKB', start=81, len=2),\n",
       " Token(form='스테이크', tag='NNG', start=84, len=4),\n",
       " Token(form='를', tag='JKO', start=88, len=1),\n",
       " Token(form='굽', tag='VV-I', start=90, len=2),\n",
       " Token(form='어', tag='EC', start=91, len=1),\n",
       " Token(form='주', tag='VX', start=93, len=1),\n",
       " Token(form='었', tag='EP', start=93, len=1),\n",
       " Token(form='더니', tag='EC', start=94, len=2),\n",
       " Token(form='모두', tag='MAG', start=97, len=2),\n",
       " Token(form='기분', tag='NNG', start=100, len=2),\n",
       " Token(form='이', tag='JKS', start=102, len=1),\n",
       " Token(form='좋', tag='VA', start=104, len=1),\n",
       " Token(form='아서', tag='EC', start=105, len=2),\n",
       " Token(form='업', tag='NNG', start=108, len=1),\n",
       " Token(form='되', tag='XSV', start=109, len=1),\n",
       " Token(form='었', tag='EP', start=110, len=1),\n",
       " Token(form='다고', tag='EC', start=111, len=2),\n",
       " Token(form='하', tag='VV', start=114, len=1),\n",
       " Token(form='ᆫ다', tag='EF', start=114, len=2),\n",
       " Token(form='.', tag='SF', start=116, len=1)]"
      ]
     },
     "execution_count": 14,
     "metadata": {},
     "output_type": "execute_result"
    }
   ],
   "source": [
    "kiwi.tokenize(text2)"
   ]
  },
  {
   "cell_type": "code",
   "execution_count": 12,
   "metadata": {},
   "outputs": [
    {
     "data": {
      "text/plain": [
       "[Token(form='젤렌스키는', tag='NNG', start=0, len=5),\n",
       " Token(form='코로나', tag='NNG', start=6, len=3),\n",
       " Token(form='일', tag='NR', start=9, len=1),\n",
       " Token(form='구', tag='NR', start=10, len=1),\n",
       " Token(form='에서', tag='JKB', start=11, len=2),\n",
       " Token(form='막', tag='MAG', start=14, len=1),\n",
       " Token(form='회복', tag='NNG', start=16, len=2),\n",
       " Token(form='하', tag='XSV', start=18, len=1),\n",
       " Token(form='여서', tag='EC', start=18, len=2),\n",
       " Token(form='키이우', tag='NNG', start=21, len=3),\n",
       " Token(form='에서', tag='JKB', start=24, len=2),\n",
       " Token(form='군사력', tag='NNG', start=27, len=3),\n",
       " Token(form='보강', tag='NNG', start=31, len=2),\n",
       " Token(form='과', tag='JC', start=33, len=1),\n",
       " Token(form='민주', tag='NNG', start=35, len=2),\n",
       " Token(form='화', tag='XSN', start=37, len=1),\n",
       " Token(form='와', tag='JC', start=38, len=1),\n",
       " Token(form='방역', tag='NNG', start=40, len=2),\n",
       " Token(form='을', tag='JKO', start=42, len=1),\n",
       " Token(form='지휘', tag='NNG', start=44, len=2),\n",
       " Token(form='하', tag='XSV', start=46, len=1),\n",
       " Token(form='고', tag='EC', start=47, len=1),\n",
       " Token(form='있', tag='VX', start=49, len=1),\n",
       " Token(form='다네', tag='EF', start=50, len=2),\n",
       " Token(form='요', tag='JX', start=52, len=1),\n",
       " Token(form='.', tag='SF', start=53, len=1),\n",
       " Token(form='근데', tag='MAJ', start=55, len=2),\n",
       " Token(form='키이우', tag='NNG', start=58, len=3),\n",
       " Token(form='가', tag='JKS', start=61, len=1),\n",
       " Token(form='어디', tag='NP', start=63, len=2),\n",
       " Token(form='이', tag='VCP', start=65, len=0),\n",
       " Token(form='죠', tag='EF', start=65, len=1),\n",
       " Token(form='?', tag='SF', start=66, len=1),\n",
       " Token(form='키예프', tag='NNP', start=68, len=3),\n",
       " Token(form='아니', tag='VCN', start=72, len=2),\n",
       " Token(form='ᆫ가', tag='EF', start=73, len=2),\n",
       " Token(form='요', tag='JX', start=75, len=1),\n",
       " Token(form='?', tag='SF', start=76, len=1)]"
      ]
     },
     "execution_count": 12,
     "metadata": {},
     "output_type": "execute_result"
    }
   ],
   "source": [
    "kiwi.tokenize(text3)"
   ]
  },
  {
   "cell_type": "code",
   "execution_count": 13,
   "metadata": {},
   "outputs": [
    {
     "data": {
      "text/plain": [
       "True"
      ]
     },
     "execution_count": 13,
     "metadata": {},
     "output_type": "execute_result"
    }
   ],
   "source": [
    "kiwi.add_user_word(\"떡상\", tag='NNG', score=0.0)\n",
    "kiwi.add_user_word(\"위드코로나\", tag='NNG', score=0.0)"
   ]
  },
  {
   "cell_type": "code",
   "execution_count": 15,
   "metadata": {},
   "outputs": [
    {
     "data": {
      "text/plain": [
       "[Token(form='우크라이나', tag='NNP', start=0, len=5),\n",
       " Token(form='전쟁', tag='NNG', start=6, len=2),\n",
       " Token(form='과', tag='JC', start=8, len=1),\n",
       " Token(form='팬데믹', tag='NNP', start=10, len=3),\n",
       " Token(form='장기', tag='NNG', start=14, len=2),\n",
       " Token(form='화', tag='XSN', start=16, len=1),\n",
       " Token(form='로', tag='JKB', start=17, len=1),\n",
       " Token(form='러시아', tag='NNP', start=19, len=3),\n",
       " Token(form='는', tag='JX', start=22, len=1),\n",
       " Token(form='물가', tag='NNG', start=24, len=2),\n",
       " Token(form='가', tag='JKS', start=26, len=1),\n",
       " Token(form='치솟', tag='VV-R', start=28, len=2),\n",
       " Token(form='고', tag='EC', start=30, len=1),\n",
       " Token(form='주식', tag='NNG', start=32, len=2),\n",
       " Token(form='은', tag='JX', start=34, len=1),\n",
       " Token(form='떡', tag='NNG', start=36, len=1),\n",
       " Token(form='락', tag='NNG', start=37, len=1),\n",
       " Token(form='을', tag='JKO', start=38, len=1),\n",
       " Token(form='치', tag='VV', start=40, len=1),\n",
       " Token(form='어서', tag='EC', start=40, len=2),\n",
       " Token(form='블라디미르', tag='NNP', start=43, len=5),\n",
       " Token(form='푸틴', tag='NNP', start=49, len=2),\n",
       " Token(form='은', tag='JX', start=51, len=1),\n",
       " Token(form='맛', tag='NNG', start=53, len=1),\n",
       " Token(form='이', tag='JKS', start=54, len=1),\n",
       " Token(form='가', tag='VV', start=56, len=1),\n",
       " Token(form='았', tag='EP', start=56, len=1),\n",
       " Token(form='다', tag='EF', start=57, len=1),\n",
       " Token(form='.', tag='SF', start=58, len=1),\n",
       " Token(form='쌤', tag='NNG', start=60, len=1),\n",
       " Token(form='통', tag='NNG', start=61, len=1),\n",
       " Token(form='이', tag='VCP', start=62, len=1),\n",
       " Token(form='다', tag='EF', start=63, len=1),\n",
       " Token(form='ㅎㅎㅎ', tag='SW', start=63, len=3),\n",
       " Token(form='거짓말', tag='NNG', start=67, len=3),\n",
       " Token(form='쟁이', tag='XSN', start=70, len=2),\n",
       " Token(form='푸틴', tag='NNP', start=73, len=2),\n",
       " Token(form='자업자득', tag='NNG', start=76, len=4),\n",
       " Token(form='이', tag='VCP', start=80, len=1),\n",
       " Token(form='네요', tag='EF', start=81, len=2),\n",
       " Token(form='ㅋㅋㅋ', tag='SW', start=82, len=3)]"
      ]
     },
     "execution_count": 15,
     "metadata": {},
     "output_type": "execute_result"
    }
   ],
   "source": [
    "# 초성체 문제\n",
    "kiwi.tokenize(text1, normalize_coda=True)"
   ]
  },
  {
   "cell_type": "code",
   "execution_count": 18,
   "metadata": {},
   "outputs": [
    {
     "name": "stdout",
     "output_type": "stream",
     "text": [
      "('젤렌스키는', 'NNG', 0, 5)\n",
      "('코로나', 'NNG', 6, 3)\n",
      "('일', 'NR', 9, 1)\n",
      "('구', 'NR', 10, 1)\n",
      "('에서', 'JKB', 11, 2)\n",
      "('막', 'MAG', 14, 1)\n",
      "('회복하', 'VV', 16, 3)\n",
      "('여서', 'EC', 18, 2)\n",
      "('키이우', 'NNP', 21, 3)\n",
      "('에서', 'JKB', 24, 2)\n",
      "('군사력', 'NNG', 27, 3)\n",
      "('보강', 'NNG', 31, 2)\n",
      "('과', 'JC', 33, 1)\n",
      "('민주화', 'NNG', 35, 3)\n",
      "('와', 'JC', 38, 1)\n",
      "('방역', 'NNG', 40, 2)\n",
      "('을', 'JKO', 42, 1)\n",
      "('지휘하', 'VV', 44, 3)\n",
      "('고', 'EC', 47, 1)\n",
      "('있', 'VX', 49, 1)\n",
      "('다네', 'EF', 50, 2)\n",
      "('요', 'JX', 52, 1)\n",
      "('.', 'SF', 53, 1)\n",
      "('근데', 'MAJ', 55, 2)\n",
      "('키이우', 'NNP', 58, 3)\n",
      "('가', 'JKS', 61, 1)\n",
      "('어디', 'NP', 63, 2)\n",
      "('이', 'VCP', 65, 0)\n",
      "('죠', 'EF', 65, 1)\n",
      "('?', 'SF', 66, 1)\n",
      "('키예프', 'NNP', 68, 3)\n",
      "('아니', 'VCN', 72, 2)\n",
      "('ᆫ가', 'EF', 73, 2)\n",
      "('요', 'JX', 75, 1)\n",
      "('?', 'SF', 76, 1)\n"
     ]
    }
   ],
   "source": [
    "def concatenate_morphs(result):\n",
    "    ret = []\n",
    "    prev_tag = None\n",
    "    for form, tag, start, length in result:\n",
    "        if prev_tag in ('XR', 'NNG') and tag in ('XSA', 'XSV'):\n",
    "            ret[-1] = (ret[-1][0] + form, tag.replace('XS', 'V'), ret[-1][2], start + length - ret[-1][2])\n",
    "        elif  prev_tag in ('XR', 'NNG') and tag in ('XSN'):\n",
    "            ret[-1] = (ret[-1][0] + form, tag.replace('XSN', 'NNG'), ret[-1][2], start + length - ret[-1][2])\n",
    "        else:\n",
    "            ret.append((form, tag, start, length))\n",
    "        prev_tag = tag\n",
    "    return ret\n",
    "kiwi = Kiwi(num_workers=0, model_path=None, load_default_dict=True, integrate_allomorph=False)\n",
    "\n",
    "kiwi.add_user_word(\"떡상\", tag='NNG', score=0.0)\n",
    "kiwi.add_user_word(\"떡락\", tag='NNG', score=0.0)\n",
    "kiwi.add_user_word(\"팬데믹\", tag='NNG', score=0.0)\n",
    "kiwi.add_user_word(\"위드코로나\", tag='NNG', score=0.0)\n",
    "kiwi.add_user_word(\"코로나19\", tag='NNG', score=0.0)\n",
    "kiwi.add_user_word(\"키이우\", tag='NNP', score=0.0)\n",
    "kiwi.add_user_word(\"꽃등심\", tag='NNG', score=0.0)\n",
    "kiwi.add_user_word(\"쌤통\", tag='NNG', score=0.0)\n",
    "\n",
    "# kiwi.prepare()\n",
    "result, score = kiwi.analyze(text3, normalize_coda=True)[0]\n",
    "concat_result = concatenate_morphs(result)\n",
    "for word in concat_result :\n",
    "  print(word) # [('회복하', 'VV', 16, 3)('여서', 'EC', 18, 2)('키이우', 'NNP', 21, 3)('에서', 'JKB', 24, 2)...]"
   ]
  },
  {
   "cell_type": "code",
   "execution_count": 20,
   "metadata": {},
   "outputs": [
    {
     "name": "stdout",
     "output_type": "stream",
     "text": [
      "젤렌스키는/NNG 코로나/NNG 일/NR 구/NR 에서/JKB 막/MAG 회복하/VV 여서/EC 키이우/NNP 에서/JKB 군사력/NNG 보강/NNG 과/JC 민주화/NNG 와/JC 방역/NNG 을/JKO 지휘하/VV 고/EC 있/VX 다네/EF 요/JX ./SF 근데/MAJ 키이우/NNP 가/JKS 어디/NP 이/VCP 죠/EF ?/SF 키예프/NNP 아니/VCN ᆫ가/EF 요/JX ?/SF\n"
     ]
    }
   ],
   "source": [
    "# 형태소/태그 형태소/태그 형태소/태그......\n",
    "print(\" \".join(form + \"/\" + tag for form, tag, _, _ in concat_result)) # 사랑하/VV + ᆫ다고/EC + 얘기하/VV + 어/EC + 보/VX + 어요/EF"
   ]
  },
  {
   "cell_type": "code",
   "execution_count": null,
   "metadata": {},
   "outputs": [],
   "source": []
  },
  {
   "cell_type": "markdown",
   "metadata": {},
   "source": []
  },
  {
   "cell_type": "code",
   "execution_count": null,
   "metadata": {},
   "outputs": [],
   "source": []
  }
 ],
 "metadata": {
  "kernelspec": {
   "display_name": "nv38",
   "language": "python",
   "name": "python3"
  },
  "language_info": {
   "codemirror_mode": {
    "name": "ipython",
    "version": 3
   },
   "file_extension": ".py",
   "mimetype": "text/x-python",
   "name": "python",
   "nbconvert_exporter": "python",
   "pygments_lexer": "ipython3",
   "version": "3.8.18"
  }
 },
 "nbformat": 4,
 "nbformat_minor": 2
}
