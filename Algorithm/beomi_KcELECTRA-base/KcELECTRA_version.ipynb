{
 "cells": [
  {
   "cell_type": "code",
   "execution_count": 1,
   "metadata": {},
   "outputs": [],
   "source": [
    "import os\n",
    "\n",
    "# 파이썬 환경 구축 후 라이브러리 버전 맞춰 설치\n",
    "packages_to_install = [\n",
    "    \"transformers==4.30.2\",\n",
    "    \"torch==2.1.0\",\n",
    "    \"soynlp==0.0.493\",\n",
    "    \"requests==2.31.0\",\n",
    "    \"tensorflow==2.10.0\",\n",
    "    \"accelerate==0.23.0\",\n",
    "    \"PyKoSpacing==0.5\",\n",
    "    \"kss==4.5.4\",\n",
    "    \"matplotlib==3.7.3\",\n",
    "    \"wordcloud==1.9.2\"\n",
    "]\n",
    "\n",
    "for package in packages_to_install:\n",
    "    os.system(f\"pip install {package}\")\n",
    "\n",
    "# pip 업그레이드\n",
    "os.system(\"python -m pip install --upgrade pip\")\n",
    "\n",
    "# 파이썬 라이브러리 버전 전체 확인\n",
    "os.system(\"pip freeze\")\n",
    "\n",
    "# 파이썬 라이브러리 버전 하나씩 확인\n",
    "packages_to_show = [\n",
    "    \"transformers\",\n",
    "    \"torch\",\n",
    "    \"soynlp\",\n",
    "    \"requests\",\n",
    "    \"tensorflow\",\n",
    "    \"accelerate\",\n",
    "    \"PyKoSpacing\",\n",
    "    \"kss\",\n",
    "    \"matplotlib\",\n",
    "    \"wordcloud\"\n",
    "]\n",
    "\n",
    "for package in packages_to_show:\n",
    "    os.system(f\"pip show {package}\")\n",
    "\n",
    "# git에서 라이브러리 복제\n",
    "os.system(\"git clone https://github.com/ZIZUN/korean-malicious-comments-dataset.git\")\n",
    "os.system(\"bash <(curl -s https://raw.githubusercontent.com/konlpy/konlpy/master/scripts/mecab.sh)\")\n",
    "\n",
    "print(\"라이브러리 설치가 완료되었습니다.\")\n"
   ]
  },
  {
   "cell_type": "code",
   "execution_count": null,
   "metadata": {},
   "outputs": [],
   "source": []
  }
 ],
 "metadata": {
  "kernelspec": {
   "display_name": "nv38",
   "language": "python",
   "name": "python3"
  },
  "language_info": {
   "codemirror_mode": {
    "name": "ipython",
    "version": 3
   },
   "file_extension": ".py",
   "mimetype": "text/x-python",
   "name": "python",
   "nbconvert_exporter": "python",
   "pygments_lexer": "ipython3",
   "version": "3.8.18"
  }
 },
 "nbformat": 4,
 "nbformat_minor": 2
}
