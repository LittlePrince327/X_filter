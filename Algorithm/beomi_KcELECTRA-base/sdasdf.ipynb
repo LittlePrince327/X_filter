{
 "cells": [
  {
   "cell_type": "markdown",
   "metadata": {},
   "source": [
    "# beomi/KcELECTRA-base"
   ]
  },
  {
   "cell_type": "code",
   "execution_count": 1,
   "metadata": {
    "tags": [
     "parameters"
    ]
   },
   "outputs": [
    {
     "name": "stdout",
     "output_type": "stream",
     "text": [
      "[name: \"/device:CPU:0\"\n",
      "device_type: \"CPU\"\n",
      "memory_limit: 268435456\n",
      "locality {\n",
      "}\n",
      "incarnation: 18339188205533308016\n",
      "xla_global_id: -1\n",
      ", name: \"/device:GPU:0\"\n",
      "device_type: \"GPU\"\n",
      "memory_limit: 2254123828\n",
      "locality {\n",
      "  bus_id: 1\n",
      "  links {\n",
      "  }\n",
      "}\n",
      "incarnation: 10314148324994524109\n",
      "physical_device_desc: \"device: 0, name: GeForce GTX 1650 Ti, pci bus id: 0000:01:00.0, compute capability: 7.5\"\n",
      "xla_global_id: 416903419\n",
      "]\n"
     ]
    }
   ],
   "source": [
    "# Learning Device list Check \n",
    "from tensorflow.python.client import device_lib\n",
    "print(device_lib.list_local_devices())"
   ]
  },
  {
   "cell_type": "code",
   "execution_count": 2,
   "metadata": {},
   "outputs": [],
   "source": [
    "# %run KcELECTRA-base.version.py       # 필요한 라이브러리 설치\n",
    "# !pip freeze                          # 설치된 라이브러리 확인"
   ]
  },
  {
   "cell_type": "code",
   "execution_count": 3,
   "metadata": {},
   "outputs": [
    {
     "name": "stdout",
     "output_type": "stream",
     "text": [
      "device: cpu\n"
     ]
    }
   ],
   "source": [
    "import re\n",
    "import torch\n",
    "import pandas as pd\n",
    "\n",
    "# GPU 설정\n",
    "# 없을 시 CPU\n",
    "# CPU로 뜨지만, GPU 잘만 돌아감\n",
    "device = torch.device('cuda:0' if torch.cuda.is_available() else 'cpu')\n",
    "print(\"device:\", device)"
   ]
  },
  {
   "cell_type": "code",
   "execution_count": 4,
   "metadata": {},
   "outputs": [
    {
     "name": "stdout",
     "output_type": "stream",
     "text": [
      "(100, 2)\n"
     ]
    },
    {
     "data": {
      "text/html": [
       "<div>\n",
       "<style scoped>\n",
       "    .dataframe tbody tr th:only-of-type {\n",
       "        vertical-align: middle;\n",
       "    }\n",
       "\n",
       "    .dataframe tbody tr th {\n",
       "        vertical-align: top;\n",
       "    }\n",
       "\n",
       "    .dataframe thead th {\n",
       "        text-align: right;\n",
       "    }\n",
       "</style>\n",
       "<table border=\"1\" class=\"dataframe\">\n",
       "  <thead>\n",
       "    <tr style=\"text-align: right;\">\n",
       "      <th></th>\n",
       "      <th>Sentence</th>\n",
       "      <th>label</th>\n",
       "    </tr>\n",
       "  </thead>\n",
       "  <tbody>\n",
       "    <tr>\n",
       "      <th>0</th>\n",
       "      <td>좌배 까는건 ㅇㅂ</td>\n",
       "      <td>1</td>\n",
       "    </tr>\n",
       "    <tr>\n",
       "      <th>1</th>\n",
       "      <td>집에 롱 패딩만 세 개다. 10년 더 입어야지 ㅋㅋ</td>\n",
       "      <td>0</td>\n",
       "    </tr>\n",
       "    <tr>\n",
       "      <th>2</th>\n",
       "      <td>개소리야 니가 빨갱이를 옹호하고 드루킹을 ㅇㅇ짓이라고 말못해서 삐진거야 빨갱아</td>\n",
       "      <td>1</td>\n",
       "    </tr>\n",
       "    <tr>\n",
       "      <th>3</th>\n",
       "      <td>세탁이라고 봐도 된다</td>\n",
       "      <td>0</td>\n",
       "    </tr>\n",
       "    <tr>\n",
       "      <th>4</th>\n",
       "      <td>애새끼가 초딩도 아니고 ㅋㅋㅋㅋ</td>\n",
       "      <td>1</td>\n",
       "    </tr>\n",
       "  </tbody>\n",
       "</table>\n",
       "</div>"
      ],
      "text/plain": [
       "                                      Sentence  label\n",
       "0                                    좌배 까는건 ㅇㅂ      1\n",
       "1                 집에 롱 패딩만 세 개다. 10년 더 입어야지 ㅋㅋ      0\n",
       "2  개소리야 니가 빨갱이를 옹호하고 드루킹을 ㅇㅇ짓이라고 말못해서 삐진거야 빨갱아      1\n",
       "3                                  세탁이라고 봐도 된다      0\n",
       "4                            애새끼가 초딩도 아니고 ㅋㅋㅋㅋ      1"
      ]
     },
     "execution_count": 4,
     "metadata": {},
     "output_type": "execute_result"
    }
   ],
   "source": [
    "# 엑셀 파일에서 데이터프레임 읽기\n",
    "df = pd.read_excel(r\"C:\\Users\\GJAISCHOOL\\Desktop\\X_filter\\Algorithm\\dataset\\sample_data(100).xlsx\")\n",
    "\n",
    "print(df.shape)\n",
    "df.head()"
   ]
  },
  {
   "cell_type": "code",
   "execution_count": 5,
   "metadata": {},
   "outputs": [],
   "source": [
    "null_idx = df[df.label.isnull()].index                             # 해당 index에 null 값 확인\n",
    "df.loc[null_idx, \"Sentence\"]                                       # null 값이 존재한 인덱스의 Sentence 값 불러오기\n",
    "\n",
    "# lable은 Sentence의 가장 끝 문장열로 설정\n",
    "df.loc[null_idx, \"label\"] = df.loc[null_idx, \"Sentence\"].apply(lambda x: x[-1])\n",
    "\n",
    "# Sentence는 \"\\t\" 앞부분까지의 문자열로 설정\n",
    "df.loc[null_idx, \"Sentence\"] = df.loc[null_idx, \"Sentence\"].apply(lambda x: x[-2])"
   ]
  },
  {
   "cell_type": "code",
   "execution_count": 6,
   "metadata": {},
   "outputs": [
    {
     "name": "stdout",
     "output_type": "stream",
     "text": [
      "중복 제거 전 학습 데이터셋 : 80\n",
      "중복 제거 전 테스트 데이터셋 : 20\n",
      "중복 제거 후 학습 데이터셋 : 80\n",
      "중복 제거 후 테스트 데이터셋 : 20\n"
     ]
    }
   ],
   "source": [
    "train_data = df.sample(frac=0.8, random_state=42)                 # train(80%), test(20%) 셋 구분 \n",
    "test_data = df.drop(train_data.index)                             # 랜덤으로 샘플링(랜덤으로 숫자 배치)\n",
    "\n",
    "# 데이터셋 갯수 확인\n",
    "print('중복 제거 전 학습 데이터셋 : {}'.format(len(train_data)))\n",
    "print('중복 제거 전 테스트 데이터셋 : {}'.format(len(test_data)))\n",
    "\n",
    "# 중복 데이터 제거\n",
    "train_data.drop_duplicates(subset=[\"Sentence\"], inplace=True)\n",
    "test_data.drop_duplicates(subset=[\"Sentence\"], inplace=True)\n",
    "\n",
    "# 데이터셋 갯수 확인\n",
    "print('중복 제거 후 학습 데이터셋 : {}'.format(len(train_data)))\n",
    "print('중복 제거 후 테스트 데이터셋 : {}'.format(len(test_data)))"
   ]
  },
  {
   "cell_type": "code",
   "execution_count": 7,
   "metadata": {},
   "outputs": [
    {
     "name": "stderr",
     "output_type": "stream",
     "text": [
      "c:\\Users\\GJAISCHOOL\\.conda\\envs\\nv38\\lib\\site-packages\\tqdm\\auto.py:21: TqdmWarning: IProgress not found. Please update jupyter and ipywidgets. See https://ipywidgets.readthedocs.io/en/stable/user_install.html\n",
      "  from .autonotebook import tqdm as notebook_tqdm\n"
     ]
    }
   ],
   "source": [
    "from transformers import ElectraTokenizer, ElectraForSequenceClassification, TFElectraForSequenceClassification\n",
    "from transformers import AutoTokenizer, AutoModelForSequenceClassification, TrainingArguments, Trainer\n",
    "import torch\n",
    "\n",
    "# KcELECTRA 모델 및 토크나이저 로드\n",
    "Kc_model = \"beomi/KcELECTRA-base\"\n",
    "Kc_tokenizer = AutoTokenizer.from_pretrained(Kc_model)"
   ]
  },
  {
   "cell_type": "code",
   "execution_count": 8,
   "metadata": {},
   "outputs": [],
   "source": [
    "tokenized_train_sentences = Kc_tokenizer( \n",
    "    list(train_data[\"Sentence\"]),           # train_data 리스트화\n",
    "    return_tensors=\"pt\",                    # pytorch의 tensor 형태로 변환\n",
    "    max_length=128,                         # 최대 토큰길이 설정\n",
    "    padding=True,                           # 학습 시 빈 값을 0으로 대체\n",
    "    truncation=True,                        # 초과 토큰 제거\n",
    "    add_special_tokens=True                 # 추가 토큰 설정\n",
    ")"
   ]
  },
  {
   "cell_type": "code",
   "execution_count": 9,
   "metadata": {},
   "outputs": [],
   "source": [
    "tokenized_test_sentences = Kc_tokenizer(\n",
    "    list(test_data[\"Sentence\"]),           # test_data 리스트화\n",
    "    return_tensors=\"pt\",\n",
    "    max_length=128,\n",
    "    padding=True,\n",
    "    truncation=True,\n",
    "    add_special_tokens=True\n",
    ")"
   ]
  },
  {
   "cell_type": "code",
   "execution_count": 10,
   "metadata": {},
   "outputs": [
    {
     "data": {
      "text/plain": [
       "'\\nCLS(분류 토큰)   : 시작을 알릴 때 사용 \\n\\nSEP(구분자 토큰) : 서로 다를 때 구분할 사용할 토큰 \\n\\nMASK            : 특정 토큰이 마스크화, 모델이 예측하도록 훈련 \\n\\nPAD             : 일관된 길이로 동일하게 만듦\\n                                                            '"
      ]
     },
     "execution_count": 10,
     "metadata": {},
     "output_type": "execute_result"
    }
   ],
   "source": [
    "\"\"\"\n",
    "CLS(분류 토큰)   : 시작을 알릴 때 사용 \\n\n",
    "SEP(구분자 토큰) : 서로 다를 때 구분할 사용할 토큰 \\n\n",
    "MASK            : 특정 토큰이 마스크화, 모델이 예측하도록 훈련 \\n\n",
    "PAD             : 일관된 길이로 동일하게 만듦\n",
    "                                                            \"\"\""
   ]
  },
  {
   "cell_type": "code",
   "execution_count": 11,
   "metadata": {},
   "outputs": [
    {
     "name": "stdout",
     "output_type": "stream",
     "text": [
      "Encoding(num_tokens=94, attributes=[ids, type_ids, tokens, offsets, attention_mask, special_tokens_mask, overflowing])\n",
      "========================================================================================================================================================================================================\n",
      "['ĠìĥĪë¡ľ', 'ìĺ¤ë©´', 'Ġëĭ¤', 'Ġê·¸ëłĩê²Į', 'íķ¨', 'ĠìĹ´ìĭ¬íŀĪ', 'ĠíķĺëĬĶ', 'íĭ°', 'ë¥¼', 'ĠíĮįíĮį', 'ëĤ´ê³ł', 'ĠëŃĲ', 'Ġë°Ķê¾¸ê³ł', 'ĠëŃĲ', 'íķĺê¸°ë¡ľ', 'ĠíķĺìŀĲ', 'Ġìķķë°ķ', 'ìĿĦ', 'Ġì£¼', 'ìŀĸëĥĲ', 'Ġ10', 'ëħĦê°Ħ', 'ĠëĦĪë¬´', 'ĠíĥĢ', 'ìĦ±ìĹĲ', 'Ġìłĸ', 'ìĸ´', 'ìĤ´', 'ìķĺëįĺ', 'ê±°', 'ĠìķĦëĭĪëĥĲ', '?', 'ĠìľĦê¸°', 'ê°Ĳ', 'ìĹĨìĿ´', '[PAD]', '[PAD]', '[PAD]', '[PAD]', '[PAD]', '[PAD]', '[PAD]', '[PAD]', '[PAD]', '[PAD]', '[PAD]', '[PAD]', '[PAD]', '[PAD]', '[PAD]', '[PAD]', '[PAD]', '[PAD]', '[PAD]', '[PAD]', '[PAD]', '[PAD]', '[PAD]', '[PAD]', '[PAD]', '[PAD]', '[PAD]', '[PAD]', '[PAD]', '[PAD]', '[PAD]', '[PAD]', '[PAD]', '[PAD]', '[PAD]', '[PAD]', '[PAD]', '[PAD]', '[PAD]', '[PAD]', '[PAD]', '[PAD]', '[PAD]', '[PAD]', '[PAD]', '[PAD]', '[PAD]', '[PAD]', '[PAD]', '[PAD]', '[PAD]', '[PAD]', '[PAD]', '[PAD]', '[PAD]', '[PAD]', '[PAD]', '[PAD]', '[PAD]']\n",
      "========================================================================================================================================================================================================\n",
      "[3718, 4283, 374, 1126, 861, 2348, 644, 1629, 395, 10556, 4093, 592, 10669, 592, 17097, 3165, 7944, 279, 597, 12529, 1362, 3416, 977, 1342, 7053, 9897, 319, 928, 11517, 303, 2084, 33, 7870, 785, 1478, 3, 3, 3, 3, 3, 3, 3, 3, 3, 3, 3, 3, 3, 3, 3, 3, 3, 3, 3, 3, 3, 3, 3, 3, 3, 3, 3, 3, 3, 3, 3, 3, 3, 3, 3, 3, 3, 3, 3, 3, 3, 3, 3, 3, 3, 3, 3, 3, 3, 3, 3, 3, 3, 3, 3, 3, 3, 3, 3]\n"
     ]
    }
   ],
   "source": [
    "print(tokenized_train_sentences[0])        # 0번째 문장에 해당하는 객체\n",
    "print(\"=\"*200) \n",
    "print(tokenized_train_sentences[0].tokens) # 0번째 문장에 토큰의 목록\n",
    "print(\"=\"*200)\n",
    "print(tokenized_train_sentences[0].ids)    # 0번째 문장에 대한 고유 ID"
   ]
  },
  {
   "cell_type": "code",
   "execution_count": 12,
   "metadata": {},
   "outputs": [],
   "source": [
    "class CurseDataset(torch.utils.data.Dataset):                                        # 학습을 위한 데이터셋 만들기     \n",
    "    def __init__(self, encoding, labels):                                            # pytorch에서 학습할 수 있게 데이터셋 생성\n",
    "        self.encodings = encoding                                                    # Feature Data / 'Sentence'\n",
    "        self.labels = labels                                                         # Target Data / 'Label'\n",
    "    \n",
    "    def __getitem__(self, idx):\n",
    "        item = {key: torch.tensor(val[idx]) for key, val in self.encodings.items()} # self.encodings 딕셔너리 내의 값 중에 val를 torch.tensor로 변환해 하여\n",
    "        item[\"labels\"] = torch.tensor(self.labels[idx])                             # key: toch.tensor(val[ix])라는 item 딕셔너리 형성\n",
    "        return item                                                                 # 새로운 labels 키 값에 value torch.tensor(self.labels[idx]) 쌍을 생성\n",
    "    \n",
    "    def __len__(self):\n",
    "        return len(self.labels)                                                     # self.labels 길이 반환"
   ]
  },
  {
   "cell_type": "code",
   "execution_count": 13,
   "metadata": {},
   "outputs": [],
   "source": [
    "# train_set, test_set에 대한 데이터셋을 각각 생성\n",
    "train_label = train_data[\"label\"].values\n",
    "test_label = test_data[\"label\"].values\n",
    "\n",
    "train_dataset = CurseDataset(tokenized_train_sentences, train_label)\n",
    "test_dataset = CurseDataset(tokenized_test_sentences, test_label)"
   ]
  },
  {
   "cell_type": "code",
   "execution_count": 14,
   "metadata": {},
   "outputs": [
    {
     "name": "stderr",
     "output_type": "stream",
     "text": [
      "Some weights of the model checkpoint at beomi/KcELECTRA-base were not used when initializing ElectraForSequenceClassification: ['discriminator_predictions.dense.bias', 'discriminator_predictions.dense.weight', 'discriminator_predictions.dense_prediction.weight', 'discriminator_predictions.dense_prediction.bias']\n",
      "- This IS expected if you are initializing ElectraForSequenceClassification from the checkpoint of a model trained on another task or with another architecture (e.g. initializing a BertForSequenceClassification model from a BertForPreTraining model).\n",
      "- This IS NOT expected if you are initializing ElectraForSequenceClassification from the checkpoint of a model that you expect to be exactly identical (initializing a BertForSequenceClassification model from a BertForSequenceClassification model).\n",
      "Some weights of ElectraForSequenceClassification were not initialized from the model checkpoint at beomi/KcELECTRA-base and are newly initialized: ['classifier.out_proj.weight', 'classifier.dense.bias', 'classifier.dense.weight', 'classifier.out_proj.bias']\n",
      "You should probably TRAIN this model on a down-stream task to be able to use it for predictions and inference.\n"
     ]
    },
    {
     "data": {
      "text/plain": [
       "ElectraForSequenceClassification(\n",
       "  (electra): ElectraModel(\n",
       "    (embeddings): ElectraEmbeddings(\n",
       "      (word_embeddings): Embedding(30000, 768, padding_idx=3)\n",
       "      (position_embeddings): Embedding(512, 768)\n",
       "      (token_type_embeddings): Embedding(2, 768)\n",
       "      (LayerNorm): LayerNorm((768,), eps=1e-12, elementwise_affine=True)\n",
       "      (dropout): Dropout(p=0.1, inplace=False)\n",
       "    )\n",
       "    (encoder): ElectraEncoder(\n",
       "      (layer): ModuleList(\n",
       "        (0-11): 12 x ElectraLayer(\n",
       "          (attention): ElectraAttention(\n",
       "            (self): ElectraSelfAttention(\n",
       "              (query): Linear(in_features=768, out_features=768, bias=True)\n",
       "              (key): Linear(in_features=768, out_features=768, bias=True)\n",
       "              (value): Linear(in_features=768, out_features=768, bias=True)\n",
       "              (dropout): Dropout(p=0.1, inplace=False)\n",
       "            )\n",
       "            (output): ElectraSelfOutput(\n",
       "              (dense): Linear(in_features=768, out_features=768, bias=True)\n",
       "              (LayerNorm): LayerNorm((768,), eps=1e-12, elementwise_affine=True)\n",
       "              (dropout): Dropout(p=0.1, inplace=False)\n",
       "            )\n",
       "          )\n",
       "          (intermediate): ElectraIntermediate(\n",
       "            (dense): Linear(in_features=768, out_features=3072, bias=True)\n",
       "            (intermediate_act_fn): GELUActivation()\n",
       "          )\n",
       "          (output): ElectraOutput(\n",
       "            (dense): Linear(in_features=3072, out_features=768, bias=True)\n",
       "            (LayerNorm): LayerNorm((768,), eps=1e-12, elementwise_affine=True)\n",
       "            (dropout): Dropout(p=0.1, inplace=False)\n",
       "          )\n",
       "        )\n",
       "      )\n",
       "    )\n",
       "  )\n",
       "  (classifier): ElectraClassificationHead(\n",
       "    (dense): Linear(in_features=768, out_features=768, bias=True)\n",
       "    (dropout): Dropout(p=0.1, inplace=False)\n",
       "    (out_proj): Linear(in_features=768, out_features=2, bias=True)\n",
       "  )\n",
       ")"
      ]
     },
     "execution_count": 14,
     "metadata": {},
     "output_type": "execute_result"
    }
   ],
   "source": [
    "Kc_model = AutoModelForSequenceClassification.from_pretrained(Kc_model, num_labels=2)   # 사전 학습된 모델 찾아오기\n",
    "Kc_model.to(device)                                                                       # num_labels 평가지표 확인"
   ]
  },
  {
   "cell_type": "code",
   "execution_count": 15,
   "metadata": {},
   "outputs": [],
   "source": [
    "# 3 - 2 학습 파라미터 설정\n",
    "training_args = TrainingArguments(\n",
    "    output_dir = './results',           # 학습결과 저장경로\n",
    "    num_train_epochs=10,                # 학습 epoch 설정\n",
    "    per_device_train_batch_size = 8,    # train batch_size 설정\n",
    "    per_device_eval_batch_size = 64,    # test batch_size 설정\n",
    "    logging_dir = './logs',             # 학습 log 저장경로 / 손실 값 저장\n",
    "    logging_steps=500,                  # 학습 log 기록 단위 / 500번 마다 출력\n",
    "    save_total_limit = 2,               # 학습결과 저장 최대갯수\n",
    ")"
   ]
  },
  {
   "cell_type": "code",
   "execution_count": 16,
   "metadata": {},
   "outputs": [],
   "source": [
    "from sklearn.metrics import precision_recall_fscore_support, accuracy_score\n",
    "\n",
    "# 학습과정에서 사용할 평가지표를 위한 함수 설정\n",
    "def compute_metrics(pred):\n",
    "  labels = pred.label_ids\n",
    "  preds = pred.predictions.argmax(-1)\n",
    "  # 정밀도, 재현율, f1 구하기 \n",
    "  precision, recall, f1, _ = precision_recall_fscore_support(labels, preds, average='binary')\n",
    "  # 정확도 구하기\n",
    "  acc = accuracy_score(labels, preds)\n",
    "  return{\n",
    "      'accuracy': acc,\n",
    "      'f1': f1,\n",
    "      'precision': precision,\n",
    "      'recall': recall\n",
    "  }"
   ]
  },
  {
   "cell_type": "code",
   "execution_count": 17,
   "metadata": {},
   "outputs": [],
   "source": [
    "# Trainer 모듈을 사용해 모델의 학습을 컨트롤하은 trainer를 생성\n",
    "trainer = Trainer(\n",
    "    model = Kc_model,                    # 학습하고자하는 Transformers model\n",
    "    args=training_args,                  # 위에서 정의한 학습 피라미터 설정\n",
    "    train_dataset=train_dataset,         # 학습 데이터셋\n",
    "    eval_dataset=test_dataset,           # 평가 데이터셋\n",
    "    compute_metrics=compute_metrics,     # 평가지표\n",
    ")"
   ]
  },
  {
   "cell_type": "code",
   "execution_count": 18,
   "metadata": {},
   "outputs": [
    {
     "name": "stderr",
     "output_type": "stream",
     "text": [
      "c:\\Users\\GJAISCHOOL\\.conda\\envs\\nv38\\lib\\site-packages\\transformers\\optimization.py:411: FutureWarning: This implementation of AdamW is deprecated and will be removed in a future version. Use the PyTorch implementation torch.optim.AdamW instead, or set `no_deprecation_warning=True` to disable this warning\n",
      "  warnings.warn(\n",
      "  0%|          | 0/100 [00:00<?, ?it/s]C:\\Users\\GJAISCHOOL\\AppData\\Local\\Temp\\ipykernel_20024\\1869798269.py:7: UserWarning: To copy construct from a tensor, it is recommended to use sourceTensor.clone().detach() or sourceTensor.clone().detach().requires_grad_(True), rather than torch.tensor(sourceTensor).\n",
      "  item = {key: torch.tensor(val[idx]) for key, val in self.encodings.items()} # self.encodings 딕셔너리 내의 값 중에 val를 torch.tensor로 변환해 하여\n",
      "100%|██████████| 100/100 [04:41<00:00,  2.81s/it]"
     ]
    },
    {
     "name": "stdout",
     "output_type": "stream",
     "text": [
      "{'train_runtime': 281.1661, 'train_samples_per_second': 2.845, 'train_steps_per_second': 0.356, 'train_loss': 0.29647657394409177, 'epoch': 10.0}\n"
     ]
    },
    {
     "name": "stderr",
     "output_type": "stream",
     "text": [
      "\n"
     ]
    },
    {
     "data": {
      "text/plain": [
       "TrainOutput(global_step=100, training_loss=0.29647657394409177, metrics={'train_runtime': 281.1661, 'train_samples_per_second': 2.845, 'train_steps_per_second': 0.356, 'train_loss': 0.29647657394409177, 'epoch': 10.0})"
      ]
     },
     "execution_count": 18,
     "metadata": {},
     "output_type": "execute_result"
    }
   ],
   "source": [
    "trainer.train()"
   ]
  },
  {
   "cell_type": "code",
   "execution_count": 19,
   "metadata": {},
   "outputs": [
    {
     "name": "stderr",
     "output_type": "stream",
     "text": [
      "C:\\Users\\GJAISCHOOL\\AppData\\Local\\Temp\\ipykernel_20024\\1869798269.py:7: UserWarning: To copy construct from a tensor, it is recommended to use sourceTensor.clone().detach() or sourceTensor.clone().detach().requires_grad_(True), rather than torch.tensor(sourceTensor).\n",
      "  item = {key: torch.tensor(val[idx]) for key, val in self.encodings.items()} # self.encodings 딕셔너리 내의 값 중에 val를 torch.tensor로 변환해 하여\n",
      "100%|██████████| 1/1 [00:00<00:00, 166.53it/s]\n"
     ]
    },
    {
     "data": {
      "image/png": "[encoded data removed]",
      "text/plain": [
       "<Figure size 800x600 with 2 Axes>"
      ]
     },
     "metadata": {},
     "output_type": "display_data"
    }
   ],
   "source": [
    "import numpy as np\n",
    "import seaborn as sns\n",
    "import matplotlib.pyplot as plt\n",
    "from sklearn.metrics import confusion_matrix\n",
    "\n",
    "# Evaluate on the test dataset\n",
    "results = trainer.predict(test_dataset)\n",
    "\n",
    "# Get the true labels and predicted logits\n",
    "true_labels = test_dataset.labels\n",
    "predicted_logits = results.predictions\n",
    "predicted_labels = np.argmax(predicted_logits, axis=1)\n",
    "\n",
    "# Calculate the confusion matrix\n",
    "conf_mat = confusion_matrix(true_labels, predicted_labels)\n",
    "\n",
    "# Plot the confusion matrix using seaborn\n",
    "plt.figure(figsize=(8, 6))\n",
    "sns.heatmap(conf_mat, annot=True, fmt='d', cmap='Blues', xticklabels=['Negative', 'Positive'], yticklabels=['Negative', 'Positive'])\n",
    "plt.xlabel('Predicted')\n",
    "plt.ylabel('True')\n",
    "plt.title('Confusion Matrix')\n",
    "plt.show()\n"
   ]
  },
  {
   "cell_type": "code",
   "execution_count": 66,
   "metadata": {},
   "outputs": [
    {
     "data": {
      "text/plain": [
       "True"
      ]
     },
     "execution_count": 66,
     "metadata": {},
     "output_type": "execute_result"
    }
   ],
   "source": [
    "def sentence_predict(sent):\n",
    "    # 평가모드로 변경\n",
    "    Kc_model.eval()\n",
    "\n",
    "    # 입력된 문장 토크나이징\n",
    "    tokenized_sent = Kc_tokenizer(\n",
    "        sent,\n",
    "        return_tensors=\"pt\",\n",
    "        truncation=True,\n",
    "        add_special_tokens=True,\n",
    "        max_length=128\n",
    "    )\n",
    "\n",
    "    # 모델이 위치한 GPU로 이동\n",
    "    # tokenized_sent.to(deivce)\n",
    "\n",
    "    # 예측\n",
    "    with torch.no_grad():\n",
    "        outputs = Kc_model(\n",
    "            input_ids=tokenized_sent[\"input_ids\"],\n",
    "            attention_mask=tokenized_sent[\"attention_mask\"],\n",
    "            token_type_ids=tokenized_sent[\"token_type_ids\"]\n",
    "        )\n",
    "\n",
    "    # 결과 return\n",
    "    logits = outputs[0]\n",
    "    logits = logits.detach().cpu()\n",
    "    result = logits.argmax(-1)\n",
    "    sentence = True\n",
    "    input_sentence = tokenized_sent[\"input_ids\"]\n",
    "    if result == 0:\n",
    "        sentence = True\n",
    "\n",
    "    elif result == 1:\n",
    "        sentence = False\n",
    "    return sentence, input_sentence\n",
    "\n",
    "\n",
    "sentence_predict(\"씨발\")[0]"
   ]
  },
  {
   "cell_type": "code",
   "execution_count": 21,
   "metadata": {},
   "outputs": [
    {
     "name": "stdout",
     "output_type": "stream",
     "text": [
      "Requirement already satisfied: tensorflow in c:\\users\\gjaischool\\.conda\\envs\\nv38\\lib\\site-packages (2.9.3)\n",
      "Requirement already satisfied: absl-py>=1.0.0 in c:\\users\\gjaischool\\.conda\\envs\\nv38\\lib\\site-packages (from tensorflow) (2.0.0)\n",
      "Requirement already satisfied: astunparse>=1.6.0 in c:\\users\\gjaischool\\.conda\\envs\\nv38\\lib\\site-packages (from tensorflow) (1.6.3)\n",
      "Requirement already satisfied: flatbuffers<2,>=1.12 in c:\\users\\gjaischool\\.conda\\envs\\nv38\\lib\\site-packages (from tensorflow) (1.12)\n",
      "Requirement already satisfied: gast<=0.4.0,>=0.2.1 in c:\\users\\gjaischool\\.conda\\envs\\nv38\\lib\\site-packages (from tensorflow) (0.4.0)\n",
      "Requirement already satisfied: google-pasta>=0.1.1 in c:\\users\\gjaischool\\.conda\\envs\\nv38\\lib\\site-packages (from tensorflow) (0.2.0)\n",
      "Requirement already satisfied: h5py>=2.9.0 in c:\\users\\gjaischool\\.conda\\envs\\nv38\\lib\\site-packages (from tensorflow) (3.1.0)\n",
      "Requirement already satisfied: keras-preprocessing>=1.1.1 in c:\\users\\gjaischool\\.conda\\envs\\nv38\\lib\\site-packages (from tensorflow) (1.1.2)\n",
      "Requirement already satisfied: libclang>=13.0.0 in c:\\users\\gjaischool\\.conda\\envs\\nv38\\lib\\site-packages (from tensorflow) (16.0.6)\n",
      "Requirement already satisfied: numpy>=1.20 in c:\\users\\gjaischool\\.conda\\envs\\nv38\\lib\\site-packages (from tensorflow) (1.24.4)\n",
      "Requirement already satisfied: opt-einsum>=2.3.2 in c:\\users\\gjaischool\\.conda\\envs\\nv38\\lib\\site-packages (from tensorflow) (3.3.0)\n",
      "Requirement already satisfied: packaging in c:\\users\\gjaischool\\.conda\\envs\\nv38\\lib\\site-packages (from tensorflow) (23.2)\n",
      "Requirement already satisfied: protobuf<3.20,>=3.9.2 in c:\\users\\gjaischool\\.conda\\envs\\nv38\\lib\\site-packages (from tensorflow) (3.19.6)\n",
      "Requirement already satisfied: setuptools in c:\\users\\gjaischool\\.conda\\envs\\nv38\\lib\\site-packages (from tensorflow) (68.0.0)\n",
      "Requirement already satisfied: six>=1.12.0 in c:\\users\\gjaischool\\.conda\\envs\\nv38\\lib\\site-packages (from tensorflow) (1.16.0)\n",
      "Requirement already satisfied: termcolor>=1.1.0 in c:\\users\\gjaischool\\.conda\\envs\\nv38\\lib\\site-packages (from tensorflow) (2.3.0)\n",
      "Requirement already satisfied: typing-extensions>=3.6.6 in c:\\users\\gjaischool\\.conda\\envs\\nv38\\lib\\site-packages (from tensorflow) (4.8.0)\n",
      "Requirement already satisfied: wrapt>=1.11.0 in c:\\users\\gjaischool\\.conda\\envs\\nv38\\lib\\site-packages (from tensorflow) (1.15.0)\n",
      "Requirement already satisfied: tensorflow-io-gcs-filesystem>=0.23.1 in c:\\users\\gjaischool\\.conda\\envs\\nv38\\lib\\site-packages (from tensorflow) (0.31.0)\n",
      "Requirement already satisfied: grpcio<2.0,>=1.24.3 in c:\\users\\gjaischool\\.conda\\envs\\nv38\\lib\\site-packages (from tensorflow) (1.59.0)\n",
      "Requirement already satisfied: tensorboard<2.10,>=2.9 in c:\\users\\gjaischool\\.conda\\envs\\nv38\\lib\\site-packages (from tensorflow) (2.9.1)\n",
      "Requirement already satisfied: tensorflow-estimator<2.10.0,>=2.9.0rc0 in c:\\users\\gjaischool\\.conda\\envs\\nv38\\lib\\site-packages (from tensorflow) (2.9.0)\n",
      "Requirement already satisfied: keras<2.10.0,>=2.9.0rc0 in c:\\users\\gjaischool\\.conda\\envs\\nv38\\lib\\site-packages (from tensorflow) (2.9.0)\n",
      "Requirement already satisfied: wheel<1.0,>=0.23.0 in c:\\users\\gjaischool\\.conda\\envs\\nv38\\lib\\site-packages (from astunparse>=1.6.0->tensorflow) (0.41.2)\n",
      "Requirement already satisfied: google-auth<3,>=1.6.3 in c:\\users\\gjaischool\\.conda\\envs\\nv38\\lib\\site-packages (from tensorboard<2.10,>=2.9->tensorflow) (2.23.3)\n",
      "Requirement already satisfied: google-auth-oauthlib<0.5,>=0.4.1 in c:\\users\\gjaischool\\.conda\\envs\\nv38\\lib\\site-packages (from tensorboard<2.10,>=2.9->tensorflow) (0.4.6)\n",
      "Requirement already satisfied: markdown>=2.6.8 in c:\\users\\gjaischool\\.conda\\envs\\nv38\\lib\\site-packages (from tensorboard<2.10,>=2.9->tensorflow) (3.5)\n",
      "Requirement already satisfied: requests<3,>=2.21.0 in c:\\users\\gjaischool\\.conda\\envs\\nv38\\lib\\site-packages (from tensorboard<2.10,>=2.9->tensorflow) (2.31.0)\n",
      "Requirement already satisfied: tensorboard-data-server<0.7.0,>=0.6.0 in c:\\users\\gjaischool\\.conda\\envs\\nv38\\lib\\site-packages (from tensorboard<2.10,>=2.9->tensorflow) (0.6.1)\n",
      "Requirement already satisfied: tensorboard-plugin-wit>=1.6.0 in c:\\users\\gjaischool\\.conda\\envs\\nv38\\lib\\site-packages (from tensorboard<2.10,>=2.9->tensorflow) (1.8.1)\n",
      "Requirement already satisfied: werkzeug>=1.0.1 in c:\\users\\gjaischool\\.conda\\envs\\nv38\\lib\\site-packages (from tensorboard<2.10,>=2.9->tensorflow) (3.0.1)\n",
      "Requirement already satisfied: cachetools<6.0,>=2.0.0 in c:\\users\\gjaischool\\.conda\\envs\\nv38\\lib\\site-packages (from google-auth<3,>=1.6.3->tensorboard<2.10,>=2.9->tensorflow) (5.3.2)\n",
      "Requirement already satisfied: pyasn1-modules>=0.2.1 in c:\\users\\gjaischool\\.conda\\envs\\nv38\\lib\\site-packages (from google-auth<3,>=1.6.3->tensorboard<2.10,>=2.9->tensorflow) (0.3.0)\n",
      "Requirement already satisfied: rsa<5,>=3.1.4 in c:\\users\\gjaischool\\.conda\\envs\\nv38\\lib\\site-packages (from google-auth<3,>=1.6.3->tensorboard<2.10,>=2.9->tensorflow) (4.9)\n",
      "Requirement already satisfied: requests-oauthlib>=0.7.0 in c:\\users\\gjaischool\\.conda\\envs\\nv38\\lib\\site-packages (from google-auth-oauthlib<0.5,>=0.4.1->tensorboard<2.10,>=2.9->tensorflow) (1.3.1)\n",
      "Requirement already satisfied: importlib-metadata>=4.4 in c:\\users\\gjaischool\\.conda\\envs\\nv38\\lib\\site-packages (from markdown>=2.6.8->tensorboard<2.10,>=2.9->tensorflow) (6.8.0)\n",
      "Requirement already satisfied: charset-normalizer<4,>=2 in c:\\users\\gjaischool\\.conda\\envs\\nv38\\lib\\site-packages (from requests<3,>=2.21.0->tensorboard<2.10,>=2.9->tensorflow) (3.3.1)\n",
      "Requirement already satisfied: idna<4,>=2.5 in c:\\users\\gjaischool\\.conda\\envs\\nv38\\lib\\site-packages (from requests<3,>=2.21.0->tensorboard<2.10,>=2.9->tensorflow) (3.4)\n",
      "Requirement already satisfied: urllib3<3,>=1.21.1 in c:\\users\\gjaischool\\.conda\\envs\\nv38\\lib\\site-packages (from requests<3,>=2.21.0->tensorboard<2.10,>=2.9->tensorflow) (2.0.7)\n",
      "Requirement already satisfied: certifi>=2017.4.17 in c:\\users\\gjaischool\\.conda\\envs\\nv38\\lib\\site-packages (from requests<3,>=2.21.0->tensorboard<2.10,>=2.9->tensorflow) (2023.7.22)\n",
      "Requirement already satisfied: MarkupSafe>=2.1.1 in c:\\users\\gjaischool\\.conda\\envs\\nv38\\lib\\site-packages (from werkzeug>=1.0.1->tensorboard<2.10,>=2.9->tensorflow) (2.1.3)\n",
      "Requirement already satisfied: zipp>=0.5 in c:\\users\\gjaischool\\.conda\\envs\\nv38\\lib\\site-packages (from importlib-metadata>=4.4->markdown>=2.6.8->tensorboard<2.10,>=2.9->tensorflow) (3.17.0)\n",
      "Requirement already satisfied: pyasn1<0.6.0,>=0.4.6 in c:\\users\\gjaischool\\.conda\\envs\\nv38\\lib\\site-packages (from pyasn1-modules>=0.2.1->google-auth<3,>=1.6.3->tensorboard<2.10,>=2.9->tensorflow) (0.5.0)\n",
      "Requirement already satisfied: oauthlib>=3.0.0 in c:\\users\\gjaischool\\.conda\\envs\\nv38\\lib\\site-packages (from requests-oauthlib>=0.7.0->google-auth-oauthlib<0.5,>=0.4.1->tensorboard<2.10,>=2.9->tensorflow) (3.2.2)\n",
      "\n",
      "Name: tensorflow\n",
      "Version: 2.9.3\n",
      "Summary: TensorFlow is an open source machine learning framework for everyone.\n",
      "Home-page: https://www.tensorflow.org/\n",
      "Author: Google Inc.\n",
      "Author-email: packages@tensorflow.org\n",
      "License: Apache 2.0\n",
      "Location: c:\\users\\gjaischool\\.conda\\envs\\nv38\\lib\\site-packages\n",
      "Requires: absl-py, astunparse, flatbuffers, gast, google-pasta, grpcio, h5py, keras, keras-preprocessing, libclang, numpy, opt-einsum, packaging, protobuf, setuptools, six, tensorboard, tensorflow-estimator, tensorflow-io-gcs-filesystem, termcolor, typing-extensions, wrapt\n",
      "Required-by: pykospacing\n",
      "\n",
      "Epoch 1/200\n",
      "1214/1214 - 24s - loss: 4.2195 - accuracy: 0.2174 - 24s/epoch - 20ms/step\n",
      "Epoch 2/200\n",
      "1214/1214 - 23s - loss: 3.1312 - accuracy: 0.4086 - 23s/epoch - 19ms/step\n",
      "Epoch 3/200\n",
      "1214/1214 - 21s - loss: 2.6786 - accuracy: 0.4783 - 21s/epoch - 17ms/step\n",
      "Epoch 4/200\n",
      "1214/1214 - 21s - loss: 2.5141 - accuracy: 0.4989 - 21s/epoch - 18ms/step\n",
      "Epoch 5/200\n",
      "1214/1214 - 26s - loss: 2.4428 - accuracy: 0.5059 - 26s/epoch - 21ms/step\n",
      "Epoch 6/200\n",
      "1214/1214 - 24s - loss: 2.4042 - accuracy: 0.5072 - 24s/epoch - 20ms/step\n",
      "Epoch 7/200\n",
      "1214/1214 - 25s - loss: 2.3824 - accuracy: 0.5082 - 25s/epoch - 21ms/step\n",
      "Epoch 8/200\n",
      "1214/1214 - 20s - loss: 2.3706 - accuracy: 0.5090 - 20s/epoch - 16ms/step\n",
      "Epoch 9/200\n",
      "1214/1214 - 24s - loss: 2.3610 - accuracy: 0.5094 - 24s/epoch - 20ms/step\n",
      "Epoch 10/200\n",
      "1214/1214 - 25s - loss: 2.3562 - accuracy: 0.5104 - 25s/epoch - 20ms/step\n",
      "Epoch 11/200\n",
      "1214/1214 - 24s - loss: 2.3527 - accuracy: 0.5093 - 24s/epoch - 20ms/step\n",
      "Epoch 12/200\n",
      "1214/1214 - 24s - loss: 2.3495 - accuracy: 0.5102 - 24s/epoch - 20ms/step\n",
      "Epoch 13/200\n",
      "1214/1214 - 22s - loss: 2.3475 - accuracy: 0.5094 - 22s/epoch - 18ms/step\n",
      "Epoch 14/200\n",
      "1214/1214 - 20s - loss: 2.3463 - accuracy: 0.5092 - 20s/epoch - 17ms/step\n",
      "Epoch 15/200\n",
      "1214/1214 - 18s - loss: 2.3446 - accuracy: 0.5113 - 18s/epoch - 15ms/step\n",
      "Epoch 16/200\n",
      "1214/1214 - 19s - loss: 2.3436 - accuracy: 0.5116 - 19s/epoch - 16ms/step\n",
      "Epoch 17/200\n",
      "1214/1214 - 20s - loss: 2.3425 - accuracy: 0.5101 - 20s/epoch - 16ms/step\n",
      "Epoch 18/200\n",
      "1214/1214 - 20s - loss: 2.3411 - accuracy: 0.5105 - 20s/epoch - 17ms/step\n",
      "Epoch 19/200\n",
      "1214/1214 - 22s - loss: 2.3409 - accuracy: 0.5114 - 22s/epoch - 18ms/step\n",
      "Epoch 20/200\n",
      "1214/1214 - 24s - loss: 2.3397 - accuracy: 0.5122 - 24s/epoch - 20ms/step\n",
      "Epoch 21/200\n",
      "1214/1214 - 24s - loss: 2.3398 - accuracy: 0.5110 - 24s/epoch - 20ms/step\n",
      "Epoch 22/200\n",
      "1214/1214 - 23s - loss: 2.3394 - accuracy: 0.5101 - 23s/epoch - 19ms/step\n",
      "Epoch 23/200\n",
      "1214/1214 - 22s - loss: 2.3390 - accuracy: 0.5111 - 22s/epoch - 18ms/step\n",
      "Epoch 24/200\n",
      "1214/1214 - 21s - loss: 2.3385 - accuracy: 0.5113 - 21s/epoch - 17ms/step\n",
      "Epoch 25/200\n",
      "1214/1214 - 22s - loss: 2.3384 - accuracy: 0.5111 - 22s/epoch - 18ms/step\n",
      "Epoch 26/200\n",
      "1214/1214 - 23s - loss: 2.3376 - accuracy: 0.5123 - 23s/epoch - 19ms/step\n",
      "Epoch 27/200\n",
      "1214/1214 - 23s - loss: 2.3371 - accuracy: 0.5116 - 23s/epoch - 19ms/step\n",
      "Epoch 28/200\n",
      "1214/1214 - 26s - loss: 2.3375 - accuracy: 0.5119 - 26s/epoch - 21ms/step\n",
      "Epoch 29/200\n",
      "1214/1214 - 24s - loss: 2.3373 - accuracy: 0.5112 - 24s/epoch - 19ms/step\n",
      "Epoch 30/200\n",
      "1214/1214 - 23s - loss: 2.3372 - accuracy: 0.5116 - 23s/epoch - 19ms/step\n",
      "Epoch 31/200\n",
      "1214/1214 - 23s - loss: 2.3361 - accuracy: 0.5120 - 23s/epoch - 19ms/step\n",
      "Epoch 32/200\n",
      "1214/1214 - 20s - loss: 2.3364 - accuracy: 0.5107 - 20s/epoch - 17ms/step\n",
      "Epoch 33/200\n",
      "1214/1214 - 26s - loss: 2.3359 - accuracy: 0.5121 - 26s/epoch - 21ms/step\n",
      "Epoch 34/200\n",
      "1214/1214 - 25s - loss: 2.3360 - accuracy: 0.5119 - 25s/epoch - 20ms/step\n",
      "Epoch 35/200\n",
      "1214/1214 - 23s - loss: 2.3354 - accuracy: 0.5126 - 23s/epoch - 19ms/step\n",
      "Epoch 36/200\n",
      "1214/1214 - 24s - loss: 2.3354 - accuracy: 0.5124 - 24s/epoch - 20ms/step\n",
      "Epoch 37/200\n",
      "1214/1214 - 24s - loss: 2.3356 - accuracy: 0.5111 - 24s/epoch - 20ms/step\n",
      "Epoch 38/200\n",
      "1214/1214 - 25s - loss: 2.3353 - accuracy: 0.5113 - 25s/epoch - 21ms/step\n",
      "Epoch 39/200\n",
      "1214/1214 - 24s - loss: 2.3346 - accuracy: 0.5111 - 24s/epoch - 20ms/step\n",
      "Epoch 40/200\n",
      "1214/1214 - 24s - loss: 2.3352 - accuracy: 0.5122 - 24s/epoch - 20ms/step\n",
      "Epoch 41/200\n",
      "1214/1214 - 24s - loss: 2.3354 - accuracy: 0.5112 - 24s/epoch - 20ms/step\n",
      "Epoch 42/200\n",
      "1214/1214 - 24s - loss: 2.3345 - accuracy: 0.5124 - 24s/epoch - 19ms/step\n",
      "Epoch 43/200\n",
      "1214/1214 - 24s - loss: 2.3344 - accuracy: 0.5121 - 24s/epoch - 20ms/step\n",
      "Epoch 44/200\n",
      "1214/1214 - 23s - loss: 2.3345 - accuracy: 0.5115 - 23s/epoch - 19ms/step\n",
      "Epoch 45/200\n",
      "1214/1214 - 24s - loss: 2.3341 - accuracy: 0.5113 - 24s/epoch - 20ms/step\n",
      "Epoch 46/200\n",
      "1214/1214 - 24s - loss: 2.3347 - accuracy: 0.5116 - 24s/epoch - 20ms/step\n",
      "Epoch 47/200\n",
      "1214/1214 - 24s - loss: 2.3337 - accuracy: 0.5112 - 24s/epoch - 19ms/step\n",
      "Epoch 48/200\n",
      "1214/1214 - 24s - loss: 2.3340 - accuracy: 0.5122 - 24s/epoch - 20ms/step\n",
      "Epoch 49/200\n",
      "1214/1214 - 24s - loss: 2.3341 - accuracy: 0.5129 - 24s/epoch - 20ms/step\n",
      "Epoch 50/200\n",
      "1214/1214 - 24s - loss: 2.3341 - accuracy: 0.5120 - 24s/epoch - 20ms/step\n",
      "Epoch 51/200\n",
      "1214/1214 - 24s - loss: 2.3342 - accuracy: 0.5119 - 24s/epoch - 19ms/step\n",
      "Epoch 52/200\n",
      "1214/1214 - 23s - loss: 2.3338 - accuracy: 0.5122 - 23s/epoch - 19ms/step\n",
      "Epoch 53/200\n",
      "1214/1214 - 23s - loss: 2.3344 - accuracy: 0.5122 - 23s/epoch - 19ms/step\n",
      "Epoch 54/200\n",
      "1214/1214 - 24s - loss: 2.3336 - accuracy: 0.5116 - 24s/epoch - 20ms/step\n",
      "Epoch 55/200\n",
      "1214/1214 - 24s - loss: 2.3330 - accuracy: 0.5120 - 24s/epoch - 20ms/step\n",
      "Epoch 56/200\n",
      "1214/1214 - 23s - loss: 2.3336 - accuracy: 0.5118 - 23s/epoch - 19ms/step\n",
      "Epoch 57/200\n",
      "1214/1214 - 23s - loss: 2.3331 - accuracy: 0.5122 - 23s/epoch - 19ms/step\n",
      "Epoch 58/200\n",
      "1214/1214 - 24s - loss: 2.3336 - accuracy: 0.5117 - 24s/epoch - 20ms/step\n",
      "Epoch 59/200\n",
      "1214/1214 - 25s - loss: 2.3329 - accuracy: 0.5118 - 25s/epoch - 21ms/step\n",
      "Epoch 60/200\n",
      "1214/1214 - 25s - loss: 2.3337 - accuracy: 0.5119 - 25s/epoch - 20ms/step\n",
      "Epoch 61/200\n",
      "1214/1214 - 25s - loss: 2.3331 - accuracy: 0.5119 - 25s/epoch - 21ms/step\n",
      "Epoch 62/200\n",
      "1214/1214 - 26s - loss: 2.3331 - accuracy: 0.5124 - 26s/epoch - 21ms/step\n",
      "Epoch 63/200\n",
      "1214/1214 - 26s - loss: 2.3329 - accuracy: 0.5120 - 26s/epoch - 22ms/step\n",
      "Epoch 64/200\n",
      "1214/1214 - 26s - loss: 2.3332 - accuracy: 0.5118 - 26s/epoch - 21ms/step\n",
      "Epoch 65/200\n",
      "1214/1214 - 27s - loss: 2.3333 - accuracy: 0.5116 - 27s/epoch - 22ms/step\n",
      "Epoch 66/200\n",
      "1214/1214 - 26s - loss: 2.3331 - accuracy: 0.5122 - 26s/epoch - 21ms/step\n",
      "Epoch 67/200\n",
      "1214/1214 - 26s - loss: 2.3330 - accuracy: 0.5125 - 26s/epoch - 21ms/step\n",
      "Epoch 68/200\n",
      "1214/1214 - 25s - loss: 2.3331 - accuracy: 0.5111 - 25s/epoch - 21ms/step\n",
      "Epoch 69/200\n",
      "1214/1214 - 24s - loss: 2.3332 - accuracy: 0.5123 - 24s/epoch - 20ms/step\n",
      "Epoch 70/200\n",
      "1214/1214 - 26s - loss: 2.3332 - accuracy: 0.5119 - 26s/epoch - 21ms/step\n",
      "Epoch 71/200\n",
      "1214/1214 - 26s - loss: 2.3334 - accuracy: 0.5116 - 26s/epoch - 22ms/step\n",
      "Epoch 72/200\n",
      "1214/1214 - 29s - loss: 2.3319 - accuracy: 0.5123 - 29s/epoch - 24ms/step\n",
      "Epoch 73/200\n",
      "1214/1214 - 26s - loss: 2.3325 - accuracy: 0.5125 - 26s/epoch - 21ms/step\n",
      "Epoch 74/200\n",
      "1214/1214 - 26s - loss: 2.3322 - accuracy: 0.5119 - 26s/epoch - 21ms/step\n",
      "Epoch 75/200\n",
      "1214/1214 - 25s - loss: 2.3328 - accuracy: 0.5109 - 25s/epoch - 20ms/step\n",
      "Epoch 76/200\n",
      "1214/1214 - 25s - loss: 2.3325 - accuracy: 0.5126 - 25s/epoch - 21ms/step\n",
      "Epoch 77/200\n",
      "1214/1214 - 29s - loss: 2.3325 - accuracy: 0.5112 - 29s/epoch - 24ms/step\n",
      "Epoch 78/200\n",
      "1214/1214 - 29s - loss: 2.3332 - accuracy: 0.5118 - 29s/epoch - 24ms/step\n",
      "Epoch 79/200\n",
      "1214/1214 - 27s - loss: 2.3326 - accuracy: 0.5119 - 27s/epoch - 22ms/step\n",
      "Epoch 80/200\n",
      "1214/1214 - 25s - loss: 2.3322 - accuracy: 0.5122 - 25s/epoch - 21ms/step\n",
      "Epoch 81/200\n",
      "1214/1214 - 25s - loss: 2.3323 - accuracy: 0.5126 - 25s/epoch - 20ms/step\n",
      "Epoch 82/200\n",
      "1214/1214 - 27s - loss: 2.3322 - accuracy: 0.5118 - 27s/epoch - 22ms/step\n",
      "Epoch 83/200\n",
      "1214/1214 - 27s - loss: 2.3325 - accuracy: 0.5118 - 27s/epoch - 22ms/step\n",
      "Epoch 84/200\n",
      "1214/1214 - 29s - loss: 2.3328 - accuracy: 0.5116 - 29s/epoch - 24ms/step\n",
      "Epoch 85/200\n",
      "1214/1214 - 27s - loss: 2.3324 - accuracy: 0.5122 - 27s/epoch - 22ms/step\n",
      "Epoch 86/200\n",
      "1214/1214 - 26s - loss: 2.3328 - accuracy: 0.5116 - 26s/epoch - 21ms/step\n",
      "Epoch 87/200\n",
      "1214/1214 - 26s - loss: 2.3323 - accuracy: 0.5113 - 26s/epoch - 21ms/step\n",
      "Epoch 88/200\n",
      "1214/1214 - 24s - loss: 2.3323 - accuracy: 0.5123 - 24s/epoch - 20ms/step\n",
      "Epoch 89/200\n",
      "1214/1214 - 26s - loss: 2.3324 - accuracy: 0.5115 - 26s/epoch - 21ms/step\n",
      "Epoch 90/200\n",
      "1214/1214 - 27s - loss: 2.3331 - accuracy: 0.5116 - 27s/epoch - 23ms/step\n",
      "Epoch 91/200\n",
      "1214/1214 - 25s - loss: 2.3319 - accuracy: 0.5121 - 25s/epoch - 21ms/step\n",
      "Epoch 92/200\n",
      "1214/1214 - 25s - loss: 2.3321 - accuracy: 0.5126 - 25s/epoch - 20ms/step\n",
      "Epoch 93/200\n",
      "1214/1214 - 26s - loss: 2.3324 - accuracy: 0.5119 - 26s/epoch - 22ms/step\n",
      "Epoch 94/200\n",
      "1214/1214 - 23s - loss: 2.3321 - accuracy: 0.5110 - 23s/epoch - 19ms/step\n",
      "Epoch 95/200\n",
      "1214/1214 - 22s - loss: 2.3320 - accuracy: 0.5122 - 22s/epoch - 18ms/step\n",
      "Epoch 96/200\n",
      "1214/1214 - 21s - loss: 2.3323 - accuracy: 0.5119 - 21s/epoch - 17ms/step\n",
      "Epoch 97/200\n",
      "1214/1214 - 21s - loss: 2.3321 - accuracy: 0.5112 - 21s/epoch - 17ms/step\n",
      "Epoch 98/200\n",
      "1214/1214 - 22s - loss: 2.3319 - accuracy: 0.5123 - 22s/epoch - 18ms/step\n",
      "Epoch 99/200\n",
      "1214/1214 - 22s - loss: 2.3321 - accuracy: 0.5120 - 22s/epoch - 19ms/step\n",
      "Epoch 100/200\n",
      "1214/1214 - 25s - loss: 2.3318 - accuracy: 0.5120 - 25s/epoch - 21ms/step\n",
      "Epoch 101/200\n",
      "1214/1214 - 26s - loss: 2.3320 - accuracy: 0.5118 - 26s/epoch - 21ms/step\n",
      "Epoch 102/200\n",
      "1214/1214 - 25s - loss: 2.3312 - accuracy: 0.5121 - 25s/epoch - 20ms/step\n",
      "Epoch 103/200\n",
      "1214/1214 - 25s - loss: 2.3322 - accuracy: 0.5118 - 25s/epoch - 20ms/step\n",
      "Epoch 104/200\n",
      "1214/1214 - 23s - loss: 2.3324 - accuracy: 0.5120 - 23s/epoch - 19ms/step\n",
      "Epoch 105/200\n",
      "1214/1214 - 22s - loss: 2.3320 - accuracy: 0.5123 - 22s/epoch - 18ms/step\n",
      "Epoch 106/200\n",
      "1214/1214 - 24s - loss: 2.3314 - accuracy: 0.5115 - 24s/epoch - 20ms/step\n",
      "Epoch 107/200\n",
      "1214/1214 - 21s - loss: 2.3316 - accuracy: 0.5120 - 21s/epoch - 17ms/step\n",
      "Epoch 108/200\n",
      "1214/1214 - 23s - loss: 2.3317 - accuracy: 0.5123 - 23s/epoch - 19ms/step\n",
      "Epoch 109/200\n",
      "1214/1214 - 23s - loss: 2.3319 - accuracy: 0.5121 - 23s/epoch - 19ms/step\n",
      "Epoch 110/200\n",
      "1214/1214 - 22s - loss: 2.3318 - accuracy: 0.5123 - 22s/epoch - 18ms/step\n",
      "Epoch 111/200\n",
      "1214/1214 - 23s - loss: 2.3323 - accuracy: 0.5120 - 23s/epoch - 19ms/step\n",
      "Epoch 112/200\n",
      "1214/1214 - 23s - loss: 2.3313 - accuracy: 0.5118 - 23s/epoch - 19ms/step\n",
      "Epoch 113/200\n",
      "1214/1214 - 24s - loss: 2.3318 - accuracy: 0.5123 - 24s/epoch - 19ms/step\n",
      "Epoch 114/200\n",
      "1214/1214 - 23s - loss: 2.3317 - accuracy: 0.5109 - 23s/epoch - 19ms/step\n",
      "Epoch 115/200\n",
      "1214/1214 - 23s - loss: 2.3317 - accuracy: 0.5112 - 23s/epoch - 19ms/step\n",
      "Epoch 116/200\n",
      "1214/1214 - 23s - loss: 2.3320 - accuracy: 0.5126 - 23s/epoch - 19ms/step\n",
      "Epoch 117/200\n",
      "1214/1214 - 23s - loss: 2.3315 - accuracy: 0.5114 - 23s/epoch - 19ms/step\n",
      "Epoch 118/200\n",
      "1214/1214 - 23s - loss: 2.3316 - accuracy: 0.5129 - 23s/epoch - 19ms/step\n",
      "Epoch 119/200\n",
      "1214/1214 - 23s - loss: 2.3325 - accuracy: 0.5115 - 23s/epoch - 19ms/step\n",
      "Epoch 120/200\n",
      "1214/1214 - 24s - loss: 2.3321 - accuracy: 0.5112 - 24s/epoch - 19ms/step\n",
      "Epoch 121/200\n",
      "1214/1214 - 23s - loss: 2.3315 - accuracy: 0.5110 - 23s/epoch - 19ms/step\n",
      "Epoch 122/200\n",
      "1214/1214 - 23s - loss: 2.3323 - accuracy: 0.5114 - 23s/epoch - 19ms/step\n",
      "Epoch 123/200\n",
      "1214/1214 - 22s - loss: 2.3312 - accuracy: 0.5114 - 22s/epoch - 18ms/step\n",
      "Epoch 124/200\n",
      "1214/1214 - 21s - loss: 2.3320 - accuracy: 0.5114 - 21s/epoch - 17ms/step\n",
      "Epoch 125/200\n",
      "1214/1214 - 23s - loss: 2.3316 - accuracy: 0.5128 - 23s/epoch - 19ms/step\n",
      "Epoch 126/200\n",
      "1214/1214 - 24s - loss: 2.3318 - accuracy: 0.5128 - 24s/epoch - 20ms/step\n",
      "Epoch 127/200\n",
      "1214/1214 - 25s - loss: 2.3316 - accuracy: 0.5115 - 25s/epoch - 20ms/step\n",
      "Epoch 128/200\n",
      "1214/1214 - 25s - loss: 2.3311 - accuracy: 0.5122 - 25s/epoch - 20ms/step\n",
      "Epoch 129/200\n",
      "1214/1214 - 25s - loss: 2.3310 - accuracy: 0.5122 - 25s/epoch - 21ms/step\n",
      "Epoch 130/200\n",
      "1214/1214 - 26s - loss: 2.3315 - accuracy: 0.5116 - 26s/epoch - 21ms/step\n",
      "Epoch 131/200\n",
      "1214/1214 - 29s - loss: 2.3315 - accuracy: 0.5125 - 29s/epoch - 24ms/step\n",
      "Epoch 132/200\n",
      "1214/1214 - 28s - loss: 2.3312 - accuracy: 0.5120 - 28s/epoch - 23ms/step\n",
      "Epoch 133/200\n",
      "1214/1214 - 27s - loss: 2.3316 - accuracy: 0.5115 - 27s/epoch - 22ms/step\n",
      "Epoch 134/200\n",
      "1214/1214 - 26s - loss: 2.3314 - accuracy: 0.5128 - 26s/epoch - 22ms/step\n",
      "Epoch 135/200\n",
      "1214/1214 - 27s - loss: 2.3314 - accuracy: 0.5123 - 27s/epoch - 22ms/step\n",
      "Epoch 136/200\n",
      "1214/1214 - 26s - loss: 2.3318 - accuracy: 0.5114 - 26s/epoch - 22ms/step\n",
      "Epoch 137/200\n",
      "1214/1214 - 27s - loss: 2.3313 - accuracy: 0.5116 - 27s/epoch - 22ms/step\n",
      "Epoch 138/200\n",
      "1214/1214 - 29s - loss: 2.3317 - accuracy: 0.5123 - 29s/epoch - 24ms/step\n",
      "Epoch 139/200\n",
      "1214/1214 - 27s - loss: 2.3316 - accuracy: 0.5124 - 27s/epoch - 23ms/step\n",
      "Epoch 140/200\n",
      "1214/1214 - 25s - loss: 2.3315 - accuracy: 0.5110 - 25s/epoch - 21ms/step\n",
      "Epoch 141/200\n",
      "1214/1214 - 25s - loss: 2.3311 - accuracy: 0.5117 - 25s/epoch - 20ms/step\n",
      "Epoch 142/200\n",
      "1214/1214 - 25s - loss: 2.3310 - accuracy: 0.5124 - 25s/epoch - 21ms/step\n",
      "Epoch 143/200\n",
      "1214/1214 - 29s - loss: 2.3318 - accuracy: 0.5119 - 29s/epoch - 24ms/step\n",
      "Epoch 144/200\n",
      "1214/1214 - 28s - loss: 2.3315 - accuracy: 0.5119 - 28s/epoch - 23ms/step\n",
      "Epoch 145/200\n",
      "1214/1214 - 27s - loss: 2.3315 - accuracy: 0.5113 - 27s/epoch - 22ms/step\n",
      "Epoch 146/200\n",
      "1214/1214 - 28s - loss: 2.3312 - accuracy: 0.5112 - 28s/epoch - 23ms/step\n",
      "Epoch 147/200\n",
      "1214/1214 - 27s - loss: 2.3308 - accuracy: 0.5123 - 27s/epoch - 22ms/step\n",
      "Epoch 148/200\n",
      "1214/1214 - 26s - loss: 2.3310 - accuracy: 0.5127 - 26s/epoch - 22ms/step\n",
      "Epoch 149/200\n",
      "1214/1214 - 27s - loss: 2.3313 - accuracy: 0.5124 - 27s/epoch - 22ms/step\n",
      "Epoch 150/200\n",
      "1214/1214 - 27s - loss: 2.3309 - accuracy: 0.5127 - 27s/epoch - 23ms/step\n",
      "Epoch 151/200\n",
      "1214/1214 - 26s - loss: 2.3305 - accuracy: 0.5116 - 26s/epoch - 22ms/step\n",
      "Epoch 152/200\n",
      "1214/1214 - 29s - loss: 2.3315 - accuracy: 0.5115 - 29s/epoch - 24ms/step\n",
      "Epoch 153/200\n",
      "1214/1214 - 32s - loss: 2.3304 - accuracy: 0.5127 - 32s/epoch - 26ms/step\n",
      "Epoch 154/200\n",
      "1214/1214 - 31s - loss: 2.3309 - accuracy: 0.5116 - 31s/epoch - 26ms/step\n",
      "Epoch 155/200\n",
      "1214/1214 - 31s - loss: 2.3309 - accuracy: 0.5118 - 31s/epoch - 26ms/step\n",
      "Epoch 156/200\n",
      "1214/1214 - 28s - loss: 2.3311 - accuracy: 0.5116 - 28s/epoch - 23ms/step\n",
      "Epoch 157/200\n",
      "1214/1214 - 28s - loss: 2.3309 - accuracy: 0.5107 - 28s/epoch - 23ms/step\n",
      "Epoch 158/200\n",
      "1214/1214 - 28s - loss: 2.3307 - accuracy: 0.5116 - 28s/epoch - 23ms/step\n",
      "Epoch 159/200\n",
      "1214/1214 - 30s - loss: 2.3311 - accuracy: 0.5116 - 30s/epoch - 25ms/step\n",
      "Epoch 160/200\n",
      "1214/1214 - 30s - loss: 2.3312 - accuracy: 0.5123 - 30s/epoch - 25ms/step\n",
      "Epoch 161/200\n",
      "1214/1214 - 26s - loss: 2.3309 - accuracy: 0.5113 - 26s/epoch - 22ms/step\n",
      "Epoch 162/200\n",
      "1214/1214 - 24s - loss: 2.3310 - accuracy: 0.5125 - 24s/epoch - 20ms/step\n",
      "Epoch 163/200\n",
      "1214/1214 - 25s - loss: 2.3310 - accuracy: 0.5119 - 25s/epoch - 21ms/step\n",
      "Epoch 164/200\n",
      "1214/1214 - 25s - loss: 2.3302 - accuracy: 0.5127 - 25s/epoch - 21ms/step\n",
      "Epoch 165/200\n",
      "1214/1214 - 24s - loss: 2.3307 - accuracy: 0.5125 - 24s/epoch - 20ms/step\n",
      "Epoch 166/200\n",
      "1214/1214 - 24s - loss: 2.3308 - accuracy: 0.5129 - 24s/epoch - 20ms/step\n",
      "Epoch 167/200\n",
      "1214/1214 - 25s - loss: 2.3313 - accuracy: 0.5117 - 25s/epoch - 21ms/step\n",
      "Epoch 168/200\n",
      "1214/1214 - 29s - loss: 2.3310 - accuracy: 0.5120 - 29s/epoch - 24ms/step\n",
      "Epoch 169/200\n",
      "1214/1214 - 26s - loss: 2.3310 - accuracy: 0.5121 - 26s/epoch - 22ms/step\n",
      "Epoch 170/200\n",
      "1214/1214 - 27s - loss: 2.3307 - accuracy: 0.5117 - 27s/epoch - 22ms/step\n",
      "Epoch 171/200\n",
      "1214/1214 - 47s - loss: 2.3309 - accuracy: 0.5121 - 47s/epoch - 39ms/step\n",
      "Epoch 172/200\n",
      "1214/1214 - 37s - loss: 2.3304 - accuracy: 0.5122 - 37s/epoch - 31ms/step\n",
      "Epoch 173/200\n",
      "1214/1214 - 36s - loss: 2.3306 - accuracy: 0.5118 - 36s/epoch - 30ms/step\n",
      "Epoch 174/200\n",
      "1214/1214 - 39s - loss: 2.3311 - accuracy: 0.5123 - 39s/epoch - 32ms/step\n",
      "Epoch 175/200\n",
      "1214/1214 - 40s - loss: 2.3312 - accuracy: 0.5114 - 40s/epoch - 33ms/step\n",
      "Epoch 176/200\n",
      "1214/1214 - 38s - loss: 2.3307 - accuracy: 0.5117 - 38s/epoch - 31ms/step\n",
      "Epoch 177/200\n",
      "1214/1214 - 35s - loss: 2.3310 - accuracy: 0.5119 - 35s/epoch - 29ms/step\n",
      "Epoch 178/200\n",
      "1214/1214 - 37s - loss: 2.3304 - accuracy: 0.5130 - 37s/epoch - 31ms/step\n",
      "Epoch 179/200\n",
      "1214/1214 - 36s - loss: 2.3303 - accuracy: 0.5115 - 36s/epoch - 30ms/step\n",
      "Epoch 180/200\n",
      "1214/1214 - 38s - loss: 2.3308 - accuracy: 0.5119 - 38s/epoch - 31ms/step\n",
      "Epoch 181/200\n",
      "1214/1214 - 34s - loss: 2.3306 - accuracy: 0.5117 - 34s/epoch - 28ms/step\n",
      "Epoch 182/200\n",
      "1214/1214 - 36s - loss: 2.3309 - accuracy: 0.5112 - 36s/epoch - 30ms/step\n",
      "Epoch 183/200\n",
      "1214/1214 - 38s - loss: 2.3306 - accuracy: 0.5114 - 38s/epoch - 31ms/step\n",
      "Epoch 184/200\n",
      "1214/1214 - 36s - loss: 2.3306 - accuracy: 0.5121 - 36s/epoch - 30ms/step\n",
      "Epoch 185/200\n",
      "1214/1214 - 34s - loss: 2.3304 - accuracy: 0.5113 - 34s/epoch - 28ms/step\n",
      "Epoch 186/200\n",
      "1214/1214 - 36s - loss: 2.3310 - accuracy: 0.5120 - 36s/epoch - 29ms/step\n",
      "Epoch 187/200\n",
      "1214/1214 - 37s - loss: 2.3302 - accuracy: 0.5121 - 37s/epoch - 30ms/step\n",
      "Epoch 188/200\n",
      "1214/1214 - 31s - loss: 2.3306 - accuracy: 0.5125 - 31s/epoch - 25ms/step\n",
      "Epoch 189/200\n",
      "1214/1214 - 29s - loss: 2.3309 - accuracy: 0.5121 - 29s/epoch - 24ms/step\n",
      "Epoch 190/200\n",
      "1214/1214 - 29s - loss: 2.3304 - accuracy: 0.5121 - 29s/epoch - 24ms/step\n",
      "Epoch 191/200\n",
      "1214/1214 - 27s - loss: 2.3305 - accuracy: 0.5127 - 27s/epoch - 22ms/step\n",
      "Epoch 192/200\n",
      "1214/1214 - 31s - loss: 2.3304 - accuracy: 0.5129 - 31s/epoch - 26ms/step\n",
      "Epoch 193/200\n",
      "1214/1214 - 28s - loss: 2.3304 - accuracy: 0.5115 - 28s/epoch - 23ms/step\n",
      "Epoch 194/200\n",
      "1214/1214 - 25s - loss: 2.3306 - accuracy: 0.5112 - 25s/epoch - 21ms/step\n",
      "Epoch 195/200\n",
      "1214/1214 - 25s - loss: 2.3307 - accuracy: 0.5123 - 25s/epoch - 21ms/step\n",
      "Epoch 196/200\n",
      "1214/1214 - 26s - loss: 2.3303 - accuracy: 0.5125 - 26s/epoch - 21ms/step\n",
      "Epoch 197/200\n",
      "1214/1214 - 26s - loss: 2.3301 - accuracy: 0.5112 - 26s/epoch - 21ms/step\n",
      "Epoch 198/200\n",
      "1214/1214 - 25s - loss: 2.3301 - accuracy: 0.5128 - 25s/epoch - 21ms/step\n",
      "Epoch 199/200\n",
      "1214/1214 - 28s - loss: 2.3303 - accuracy: 0.5121 - 28s/epoch - 23ms/step\n",
      "Epoch 200/200\n",
      "1214/1214 - 23s - loss: 2.3304 - accuracy: 0.5121 - 23s/epoch - 19ms/step\n"
     ]
    }
   ],
   "source": [
    "# 'RNN_2' 모듈을 가져오기 위한 경로를 sys.path에 추가\n",
    "import sys\n",
    "sys.path.append(r'C:\\Users\\GJAISCHOOL\\Desktop\\X_filter\\Algorithm\\RNN')\n",
    " \n",
    "# 'RNN' 모듈을 import\n",
    "from RNN import *"
   ]
  },
  {
   "cell_type": "code",
   "execution_count": 40,
   "metadata": {},
   "outputs": [
    {
     "name": "stdout",
     "output_type": "stream",
     "text": [
      "혐오 표현입니다.\n"
     ]
    }
   ],
   "source": [
    "def badword_find(sent):\n",
    "    badword_df = pd.read_excel(r'C:\\Users\\GJAISCHOOL\\Desktop\\X_filter\\Algorithm\\dataset\\word_list.xlsx')\n",
    "    found_bad_word = False  # 입력 문장에 단어가 발견되었는지를 나타내는 플래그\n",
    "    for idx, row in badword_df.iterrows():\n",
    "        if row[\"WORD\"] in sent:\n",
    "            # 'WORD'가 입력 문장에 포함된 경우\n",
    "            new_word = row[\"대체어\"]\n",
    "            if not pd.isnull(new_word):\n",
    "                RNN_result = sentence_generation(new_word, 2) + \" \"\n",
    "                sent = sent.replace(row[\"WORD\"], RNN_result)\n",
    "                found_bad_word = True\n",
    "            else:\n",
    "                sent = sent.replace(row[\"WORD\"], \"*\" * len(row[\"WORD\"]))\n",
    "                found_bad_word = True\n",
    "    \n",
    "    if not found_bad_word:\n",
    "        # result = \"@\" * len(input_sentence)\n",
    "        sent = \"혐오 표현입니다.\"\n",
    "    return sent\n",
    "\n",
    "# 테스트\n",
    "input_sentence = \"엄마가 죽었으면 좋겠어\"\n",
    "speak_result = badword_find(input_sentence)\n",
    "print(speak_result)"
   ]
  },
  {
   "cell_type": "code",
   "execution_count": 53,
   "metadata": {},
   "outputs": [],
   "source": [
    "def speak_pre(sent):\n",
    "    sentence = sentence_predict(sent)\n",
    "    if sentence[0] == True:\n",
    "        return sent\n",
    "    elif sentence[0] == False:\n",
    "        return badword_find(sent)\n",
    "    \n",
    "def speak(sent):\n",
    "    speak_pre(sent)\n",
    "    sentence = sentence_predict(sent)\n",
    "    if sentence == True:\n",
    "        return sent\n",
    "    elif sent == \"혐오 표현입니다.\":\n",
    "        return sent\n",
    "    elif sentence == False:\n",
    "        return badword_find(sent)"
   ]
  },
  {
   "cell_type": "code",
   "execution_count": 54,
   "metadata": {},
   "outputs": [],
   "source": [
    "import re\n",
    "import kss\n",
    "from pykospacing import Spacing\n",
    "from soynlp.normalizer import repeat_normalize\n",
    "\n",
    "# 띄어쓰기 설정\n",
    "spacing = Spacing()"
   ]
  },
  {
   "cell_type": "code",
   "execution_count": 55,
   "metadata": {},
   "outputs": [],
   "source": [
    "# 특수문자 제거\n",
    "def cleanse(text):\n",
    "    pattern = re.compile(r'\\s+')\n",
    "    text = re.sub(pattern, ' ', text)\n",
    "    text = re.sub('[^가-힣ㄱ-ㅎㅏ|a-zA-Z0-9]','', text)\n",
    "    return text"
   ]
  },
  {
   "cell_type": "code",
   "execution_count": 56,
   "metadata": {},
   "outputs": [
    {
     "data": {
      "text/plain": [
       "'아버지가 방에 들어가신다'"
      ]
     },
     "execution_count": 56,
     "metadata": {},
     "output_type": "execute_result"
    }
   ],
   "source": [
    "def clean_and_repeat_normalize(text):\n",
    "    cleansed_text = cleanse(text)                                             # 특수문자 제거\n",
    "    normalized_text = repeat_normalize(cleansed_text, num_repeats=2)          # 중복문자 제거\n",
    "    input_data = re.sub(r'\\d', '', normalized_text)                           # 제거\n",
    "    normalized_text = spacing(input_data)                                     # 띄어쓰기 보정 \n",
    "\n",
    "    return normalized_text\n",
    "\n",
    "clean_and_repeat_normalize(\"아버지가방에들어가신다\")"
   ]
  },
  {
   "cell_type": "code",
   "execution_count": 57,
   "metadata": {},
   "outputs": [],
   "source": [
    "def final_output():\n",
    "    input_text = clean_and_repeat_normalize(input())\n",
    "    sentences = kss.split_sentences(input_text)\n",
    "\n",
    "    sentences_list = []\n",
    "    for sentence in sentences:\n",
    "        speak(sentence)\n",
    "        sentences_list.append(sentence) \n",
    "\n",
    "    long_test = ' '.join(sentences_list)\n",
    "    print(long_test)\n",
    "    return long_test"
   ]
  },
  {
   "cell_type": "code",
   "execution_count": 58,
   "metadata": {},
   "outputs": [
    {
     "name": "stdout",
     "output_type": "stream",
     "text": [
      "씨발\n"
     ]
    },
    {
     "data": {
      "text/plain": [
       "'씨발'"
      ]
     },
     "execution_count": 58,
     "metadata": {},
     "output_type": "execute_result"
    }
   ],
   "source": [
    "# 씨1@발 이게 맞아?\n",
    "final_output()"
   ]
  },
  {
   "cell_type": "code",
   "execution_count": null,
   "metadata": {},
   "outputs": [],
   "source": []
  },
  {
   "cell_type": "code",
   "execution_count": null,
   "metadata": {},
   "outputs": [],
   "source": []
  }
 ],
 "metadata": {
  "kernelspec": {
   "display_name": "nv37",
   "language": "python",
   "name": "python3"
  },
  "language_info": {
   "codemirror_mode": {
    "name": "ipython",
    "version": 3
   },
   "file_extension": ".py",
   "mimetype": "text/x-python",
   "name": "python",
   "nbconvert_exporter": "python",
   "pygments_lexer": "ipython3",
   "version": "3.8.18"
  }
 },
 "nbformat": 4,
 "nbformat_minor": 2
}
