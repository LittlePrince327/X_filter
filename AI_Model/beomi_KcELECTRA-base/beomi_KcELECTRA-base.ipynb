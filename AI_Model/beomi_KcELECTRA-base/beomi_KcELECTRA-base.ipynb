{
 "cells": [
  {
   "cell_type": "markdown",
   "metadata": {},
   "source": [
    "# beomi/KcELECTRA-base"
   ]
  },
  {
   "cell_type": "code",
   "execution_count": 1,
   "metadata": {},
   "outputs": [
    {
     "name": "stdout",
     "output_type": "stream",
     "text": [
      "[name: \"/device:CPU:0\"\n",
      "device_type: \"CPU\"\n",
      "memory_limit: 268435456\n",
      "locality {\n",
      "}\n",
      "incarnation: 5274656770775562694\n",
      "xla_global_id: -1\n",
      ", name: \"/device:GPU:0\"\n",
      "device_type: \"GPU\"\n",
      "memory_limit: 82444615680\n",
      "locality {\n",
      "  bus_id: 1\n",
      "  links {\n",
      "  }\n",
      "}\n",
      "incarnation: 12169920593960793228\n",
      "physical_device_desc: \"device: 0, name: NVIDIA H100 80GB HBM3, pci bus id: 0000:00:05.0, compute capability: 9.0\"\n",
      "xla_global_id: 416903419\n",
      "]\n"
     ]
    }
   ],
   "source": [
    "from tensorflow.python.client import device_lib\n",
    "print(device_lib.list_local_devices())"
   ]
  },
  {
   "cell_type": "code",
   "execution_count": 2,
   "metadata": {},
   "outputs": [
    {
     "name": "stdout",
     "output_type": "stream",
     "text": [
      "device: cuda:0\n"
     ]
    }
   ],
   "source": [
    "import re\n",
    "import torch\n",
    "import pandas as pd\n",
    "\n",
    "# GPU 설정\n",
    "# 없을 시 CPU\n",
    "# CPU로 뜨지만, GPU 잘만 돌아감\n",
    "device = torch.device('cuda:0' if torch.cuda.is_available() else 'cpu')\n",
    "print(\"device:\", device)"
   ]
  },
  {
   "cell_type": "code",
   "execution_count": 3,
   "metadata": {},
   "outputs": [
    {
     "name": "stdout",
     "output_type": "stream",
     "text": [
      "(214189, 2)\n"
     ]
    },
    {
     "data": {
      "text/html": [
       "<div>\n",
       "<style scoped>\n",
       "    .dataframe tbody tr th:only-of-type {\n",
       "        vertical-align: middle;\n",
       "    }\n",
       "\n",
       "    .dataframe tbody tr th {\n",
       "        vertical-align: top;\n",
       "    }\n",
       "\n",
       "    .dataframe thead th {\n",
       "        text-align: right;\n",
       "    }\n",
       "</style>\n",
       "<table border=\"1\" class=\"dataframe\">\n",
       "  <thead>\n",
       "    <tr style=\"text-align: right;\">\n",
       "      <th></th>\n",
       "      <th>Sentence</th>\n",
       "      <th>label</th>\n",
       "    </tr>\n",
       "  </thead>\n",
       "  <tbody>\n",
       "    <tr>\n",
       "      <th>0</th>\n",
       "      <td>좌배 까는건 ㅇㅂ</td>\n",
       "      <td>1</td>\n",
       "    </tr>\n",
       "    <tr>\n",
       "      <th>1</th>\n",
       "      <td>개소리야 니가 빨갱이를 옹호하고 드루킹을 ㅇㅇ짓이라고 말못해서 삐진거야 빨갱아</td>\n",
       "      <td>1</td>\n",
       "    </tr>\n",
       "    <tr>\n",
       "      <th>2</th>\n",
       "      <td>애새끼가 초딩도 아니고 ㅋㅋㅋㅋ</td>\n",
       "      <td>1</td>\n",
       "    </tr>\n",
       "    <tr>\n",
       "      <th>3</th>\n",
       "      <td>731부대의 후예라 그런지 가학적인 아이디어는 세계최고임 이래서 애교만 떨어도 돈 ...</td>\n",
       "      <td>1</td>\n",
       "    </tr>\n",
       "    <tr>\n",
       "      <th>4</th>\n",
       "      <td>재앙이한건햇노</td>\n",
       "      <td>1</td>\n",
       "    </tr>\n",
       "  </tbody>\n",
       "</table>\n",
       "</div>"
      ],
      "text/plain": [
       "                                            Sentence  label\n",
       "0                                          좌배 까는건 ㅇㅂ      1\n",
       "1        개소리야 니가 빨갱이를 옹호하고 드루킹을 ㅇㅇ짓이라고 말못해서 삐진거야 빨갱아      1\n",
       "2                                  애새끼가 초딩도 아니고 ㅋㅋㅋㅋ      1\n",
       "3  731부대의 후예라 그런지 가학적인 아이디어는 세계최고임 이래서 애교만 떨어도 돈 ...      1\n",
       "4                                            재앙이한건햇노      1"
      ]
     },
     "execution_count": 3,
     "metadata": {},
     "output_type": "execute_result"
    }
   ],
   "source": [
    "# 엑셀 파일에서 데이터프레임 읽기\n",
    "df = pd.read_excel(r\"C:\\Users\\administrator\\Desktop\\X_filter\\AI_Model\\dataset\\sentence_data(cp).xlsx\")\n",
    "\n",
    "print(df.shape)\n",
    "df.head()"
   ]
  },
  {
   "cell_type": "code",
   "execution_count": 4,
   "metadata": {},
   "outputs": [],
   "source": [
    "null_idx = df[df.label.isnull()].index                             # 해당 index에 null 값 확인\n",
    "df.loc[null_idx, \"Sentence\"]                                       # null 값이 존재한 인덱스의 content 값 불러오기\n",
    "\n",
    "# lable은 content의 가장 끝 문장열로 설정\n",
    "df.loc[null_idx, \"label\"] = df.loc[null_idx, \"Sentence\"].apply(lambda x: x[-1])\n",
    "\n",
    "# content는 \"\\t\" 앞부분까지의 문자열로 설정\n",
    "df.loc[null_idx, \"Sentence\"] = df.loc[null_idx, \"Sentence\"].apply(lambda x: x[-2])"
   ]
  },
  {
   "cell_type": "code",
   "execution_count": 5,
   "metadata": {},
   "outputs": [
    {
     "name": "stdout",
     "output_type": "stream",
     "text": [
      "중복 제거 전 학습 데이터셋 : 171351\n",
      "중복 제거 전 테스트 데이터셋 : 42838\n",
      "중복 제거 후 학습 데이터셋 : 167709\n",
      "중복 제거 후 테스트 데이터셋 : 42587\n"
     ]
    }
   ],
   "source": [
    "train_data = df.sample(frac=0.8, random_state=42)                 # train(80%), test(20%) 셋 구분 \n",
    "test_data = df.drop(train_data.index)                             # 랜덤으로 샘플링(랜덤으로 숫자 배치)\n",
    "\n",
    "# 데이터셋 갯수 확인\n",
    "print('중복 제거 전 학습 데이터셋 : {}'.format(len(train_data)))\n",
    "print('중복 제거 전 테스트 데이터셋 : {}'.format(len(test_data)))\n",
    "\n",
    "# 중복 데이터 제거\n",
    "train_data.drop_duplicates(subset=[\"Sentence\"], inplace=True)\n",
    "test_data.drop_duplicates(subset=[\"Sentence\"], inplace=True)\n",
    "\n",
    "# 데이터셋 갯수 확인\n",
    "print('중복 제거 후 학습 데이터셋 : {}'.format(len(train_data)))\n",
    "print('중복 제거 후 테스트 데이터셋 : {}'.format(len(test_data)))"
   ]
  },
  {
   "cell_type": "code",
   "execution_count": 6,
   "metadata": {},
   "outputs": [
    {
     "name": "stderr",
     "output_type": "stream",
     "text": [
      "c:\\Users\\administrator\\anaconda3\\envs\\Kc\\lib\\site-packages\\tqdm\\auto.py:21: TqdmWarning: IProgress not found. Please update jupyter and ipywidgets. See https://ipywidgets.readthedocs.io/en/stable/user_install.html\n",
      "  from .autonotebook import tqdm as notebook_tqdm\n"
     ]
    }
   ],
   "source": [
    "from transformers import ElectraTokenizer, ElectraForSequenceClassification, TFElectraForSequenceClassification\n",
    "from transformers import AutoTokenizer, AutoModelForSequenceClassification, TrainingArguments, Trainer\n",
    "import torch\n",
    "\n",
    "# KcELECTRA 모델 및 토크나이저 로드\n",
    "Kc_model = \"beomi/KcELECTRA-base\"\n",
    "Kc_tokenizer = AutoTokenizer.from_pretrained(Kc_model)"
   ]
  },
  {
   "cell_type": "code",
   "execution_count": 7,
   "metadata": {},
   "outputs": [
    {
     "data": {
      "text/html": [
       "<div>\n",
       "<style scoped>\n",
       "    .dataframe tbody tr th:only-of-type {\n",
       "        vertical-align: middle;\n",
       "    }\n",
       "\n",
       "    .dataframe tbody tr th {\n",
       "        vertical-align: top;\n",
       "    }\n",
       "\n",
       "    .dataframe thead th {\n",
       "        text-align: right;\n",
       "    }\n",
       "</style>\n",
       "<table border=\"1\" class=\"dataframe\">\n",
       "  <thead>\n",
       "    <tr style=\"text-align: right;\">\n",
       "      <th></th>\n",
       "      <th>Sentence</th>\n",
       "      <th>label</th>\n",
       "    </tr>\n",
       "  </thead>\n",
       "  <tbody>\n",
       "    <tr>\n",
       "      <th>146620</th>\n",
       "      <td>어후 나는 내 몸 하나 건사하기 힘들다 키키</td>\n",
       "      <td>0</td>\n",
       "    </tr>\n",
       "    <tr>\n",
       "      <th>205991</th>\n",
       "      <td>어른들이니까 고기가 좋지 않을까?</td>\n",
       "      <td>0</td>\n",
       "    </tr>\n",
       "    <tr>\n",
       "      <th>146625</th>\n",
       "      <td>친구들이랑 같이 자취하는데 넘 귀엽더라 ㅠ</td>\n",
       "      <td>0</td>\n",
       "    </tr>\n",
       "    <tr>\n",
       "      <th>89212</th>\n",
       "      <td>MBC ''좌빠''' 언론에다, ''라도''' 편향성 방송 제발 징계주어 나라망신 ...</td>\n",
       "      <td>1</td>\n",
       "    </tr>\n",
       "    <tr>\n",
       "      <th>57038</th>\n",
       "      <td>''시발''' 우리나라에는 한국사람들만 살게하고 #@이름# 동남아 ''짱깨''' '...</td>\n",
       "      <td>1</td>\n",
       "    </tr>\n",
       "    <tr>\n",
       "      <th>...</th>\n",
       "      <td>...</td>\n",
       "      <td>...</td>\n",
       "    </tr>\n",
       "    <tr>\n",
       "      <th>5887</th>\n",
       "      <td>2580 또 감성팔이했네 ㅋㅋㅋㅋㅋㅋㅋㅋㅋㅋㅋㅋㅋㅋㅋㅋㅋㅋㅋㅋㅋ</td>\n",
       "      <td>1</td>\n",
       "    </tr>\n",
       "    <tr>\n",
       "      <th>188969</th>\n",
       "      <td>뭔가 민망한 상황에서 당당하다고 해야 하나 키키</td>\n",
       "      <td>0</td>\n",
       "    </tr>\n",
       "    <tr>\n",
       "      <th>46252</th>\n",
       "      <td>Nc가 집행검이벤트 한후 ''폭망하'''는중인데. ㅉㅉ 그리고. 다음의상은. 란제리좀부탁</td>\n",
       "      <td>1</td>\n",
       "    </tr>\n",
       "    <tr>\n",
       "      <th>28357</th>\n",
       "      <td>북한이랑 비슷하네 아님 북한이 더할수도멀리있지않다 우리옆에도 있는데 시한폭탄 북한 ...</td>\n",
       "      <td>1</td>\n",
       "    </tr>\n",
       "    <tr>\n",
       "      <th>138568</th>\n",
       "      <td>응 키키 난 몇 번 본 듯? 키키1</td>\n",
       "      <td>0</td>\n",
       "    </tr>\n",
       "  </tbody>\n",
       "</table>\n",
       "<p>167709 rows × 2 columns</p>\n",
       "</div>"
      ],
      "text/plain": [
       "                                                 Sentence  label\n",
       "146620                           어후 나는 내 몸 하나 건사하기 힘들다 키키      0\n",
       "205991                                 어른들이니까 고기가 좋지 않을까?      0\n",
       "146625                            친구들이랑 같이 자취하는데 넘 귀엽더라 ㅠ      0\n",
       "89212   MBC ''좌빠''' 언론에다, ''라도''' 편향성 방송 제발 징계주어 나라망신 ...      1\n",
       "57038   ''시발''' 우리나라에는 한국사람들만 살게하고 #@이름# 동남아 ''짱깨''' '...      1\n",
       "...                                                   ...    ...\n",
       "5887                  2580 또 감성팔이했네 ㅋㅋㅋㅋㅋㅋㅋㅋㅋㅋㅋㅋㅋㅋㅋㅋㅋㅋㅋㅋㅋ      1\n",
       "188969                         뭔가 민망한 상황에서 당당하다고 해야 하나 키키      0\n",
       "46252   Nc가 집행검이벤트 한후 ''폭망하'''는중인데. ㅉㅉ 그리고. 다음의상은. 란제리좀부탁      1\n",
       "28357   북한이랑 비슷하네 아님 북한이 더할수도멀리있지않다 우리옆에도 있는데 시한폭탄 북한 ...      1\n",
       "138568                                응 키키 난 몇 번 본 듯? 키키1      0\n",
       "\n",
       "[167709 rows x 2 columns]"
      ]
     },
     "execution_count": 7,
     "metadata": {},
     "output_type": "execute_result"
    }
   ],
   "source": [
    "train_data"
   ]
  },
  {
   "cell_type": "code",
   "execution_count": 8,
   "metadata": {},
   "outputs": [],
   "source": [
    "tokenized_train_sentences = Kc_tokenizer( \n",
    "    list(train_data[\"Sentence\"]),           # train_data 리스트화\n",
    "    return_tensors=\"pt\",                    # pytorch의 tensor 형태로 변환\n",
    "    max_length=128,                         # 최대 토큰길이 설정\n",
    "    padding=True,                           # 학습 시 빈 값을 0으로 대체\n",
    "    truncation=True,                        # 초과 토큰 제거\n",
    "    add_special_tokens=True                 # 추가 토큰 설정\n",
    ")"
   ]
  },
  {
   "cell_type": "code",
   "execution_count": 9,
   "metadata": {},
   "outputs": [],
   "source": [
    "tokenized_test_sentences = Kc_tokenizer(\n",
    "    list(test_data[\"Sentence\"]),           # test_data 리스트화\n",
    "    return_tensors=\"pt\",\n",
    "    max_length=128,\n",
    "    padding=True,\n",
    "    truncation=True,\n",
    "    add_special_tokens=True\n",
    ")"
   ]
  },
  {
   "cell_type": "code",
   "execution_count": 10,
   "metadata": {},
   "outputs": [
    {
     "data": {
      "text/plain": [
       "'\\nCLS(분류 토큰)   : 시작을 알릴 때 사용\\nSEP(구분자 토큰) : 서로 다를 때 구분할 사용할 토큰\\nMASK            : 특정 토큰이 마스크화, 모델이 예측하도록 훈련\\nPAD             : 일관된 길이로 동일하게 만듦\\n                                                            '"
      ]
     },
     "execution_count": 10,
     "metadata": {},
     "output_type": "execute_result"
    }
   ],
   "source": [
    "\"\"\"\n",
    "CLS(분류 토큰)   : 시작을 알릴 때 사용\n",
    "SEP(구분자 토큰) : 서로 다를 때 구분할 사용할 토큰\n",
    "MASK            : 특정 토큰이 마스크화, 모델이 예측하도록 훈련\n",
    "PAD             : 일관된 길이로 동일하게 만듦\n",
    "                                                            \"\"\""
   ]
  },
  {
   "cell_type": "code",
   "execution_count": 11,
   "metadata": {},
   "outputs": [
    {
     "name": "stdout",
     "output_type": "stream",
     "text": [
      "Encoding(num_tokens=128, attributes=[ids, type_ids, tokens, offsets, attention_mask, special_tokens_mask, overflowing])\n",
      "========================================================================================================================================================================================================\n",
      "['Ġìĸ´íĽĦ', 'ĠëĤĺëĬĶ', 'ĠëĤ´', 'Ġëª¸', 'ĠíķĺëĤĺ', 'Ġê±´', 'ìĤ¬', 'íķĺê¸°', 'Ġíŀĺëĵ¤ëĭ¤', 'ĠíĤ¤', 'íĤ¤', '[PAD]', '[PAD]', '[PAD]', '[PAD]', '[PAD]', '[PAD]', '[PAD]', '[PAD]', '[PAD]', '[PAD]', '[PAD]', '[PAD]', '[PAD]', '[PAD]', '[PAD]', '[PAD]', '[PAD]', '[PAD]', '[PAD]', '[PAD]', '[PAD]', '[PAD]', '[PAD]', '[PAD]', '[PAD]', '[PAD]', '[PAD]', '[PAD]', '[PAD]', '[PAD]', '[PAD]', '[PAD]', '[PAD]', '[PAD]', '[PAD]', '[PAD]', '[PAD]', '[PAD]', '[PAD]', '[PAD]', '[PAD]', '[PAD]', '[PAD]', '[PAD]', '[PAD]', '[PAD]', '[PAD]', '[PAD]', '[PAD]', '[PAD]', '[PAD]', '[PAD]', '[PAD]', '[PAD]', '[PAD]', '[PAD]', '[PAD]', '[PAD]', '[PAD]', '[PAD]', '[PAD]', '[PAD]', '[PAD]', '[PAD]', '[PAD]', '[PAD]', '[PAD]', '[PAD]', '[PAD]', '[PAD]', '[PAD]', '[PAD]', '[PAD]', '[PAD]', '[PAD]', '[PAD]', '[PAD]', '[PAD]', '[PAD]', '[PAD]', '[PAD]', '[PAD]', '[PAD]', '[PAD]', '[PAD]', '[PAD]', '[PAD]', '[PAD]', '[PAD]', '[PAD]', '[PAD]', '[PAD]', '[PAD]', '[PAD]', '[PAD]', '[PAD]', '[PAD]', '[PAD]', '[PAD]', '[PAD]', '[PAD]', '[PAD]', '[PAD]', '[PAD]', '[PAD]', '[PAD]', '[PAD]', '[PAD]', '[PAD]', '[PAD]', '[PAD]', '[PAD]', '[PAD]', '[PAD]', '[PAD]', '[PAD]', '[PAD]']\n",
      "========================================================================================================================================================================================================\n",
      "[27108, 2265, 666, 2246, 981, 1020, 342, 1472, 6805, 1981, 749, 3, 3, 3, 3, 3, 3, 3, 3, 3, 3, 3, 3, 3, 3, 3, 3, 3, 3, 3, 3, 3, 3, 3, 3, 3, 3, 3, 3, 3, 3, 3, 3, 3, 3, 3, 3, 3, 3, 3, 3, 3, 3, 3, 3, 3, 3, 3, 3, 3, 3, 3, 3, 3, 3, 3, 3, 3, 3, 3, 3, 3, 3, 3, 3, 3, 3, 3, 3, 3, 3, 3, 3, 3, 3, 3, 3, 3, 3, 3, 3, 3, 3, 3, 3, 3, 3, 3, 3, 3, 3, 3, 3, 3, 3, 3, 3, 3, 3, 3, 3, 3, 3, 3, 3, 3, 3, 3, 3, 3, 3, 3, 3, 3, 3, 3, 3, 3]\n"
     ]
    }
   ],
   "source": [
    "print(tokenized_train_sentences[0])        # 0번째 문장에 해당하는 객체\n",
    "print(\"=\"*200) \n",
    "print(tokenized_train_sentences[0].tokens) # 0번째 문장에 토큰의 목록\n",
    "print(\"=\"*200)\n",
    "print(tokenized_train_sentences[0].ids)    # 0번째 문장에 대한 고유 ID"
   ]
  },
  {
   "cell_type": "code",
   "execution_count": 12,
   "metadata": {},
   "outputs": [],
   "source": [
    "class CurseDataset(torch.utils.data.Dataset):                                        # 학습을 위한 데이터셋 만들기     \n",
    "    def __init__(self, encoding, labels):                                            # pytorch에서 학습할 수 있게 데이터셋 생성\n",
    "        self.encodings = encoding                                                    # Feature Data / 'Sentence'\n",
    "        self.labels = labels                                                         # Target Data / 'Label'\n",
    "    \n",
    "    def __getitem__(self, idx):\n",
    "        item = {key: torch.tensor(val[idx]) for key, val in self.encodings.items()} # self.encodings 딕셔너리 내의 값 중에 val를 torch.tensor로 변환해 하여\n",
    "        item[\"labels\"] = torch.tensor(self.labels[idx])                             # key: toch.tensor(val[ix])라는 item 딕셔너리 형성\n",
    "        return item                                                                 # 새로운 labels 키 값에 value torch.tensor(self.labels[idx]) 쌍을 생성\n",
    "    \n",
    "    def __len__(self):\n",
    "        return len(self.labels)                                                     # self.labels 길이 반환"
   ]
  },
  {
   "cell_type": "code",
   "execution_count": 13,
   "metadata": {},
   "outputs": [],
   "source": [
    "# train_set, test_set에 대한 데이터셋을 각각 생성\n",
    "train_label = train_data[\"label\"].values\n",
    "test_label = test_data[\"label\"].values\n",
    "\n",
    "train_dataset = CurseDataset(tokenized_train_sentences, train_label)\n",
    "test_dataset = CurseDataset(tokenized_test_sentences, test_label)"
   ]
  },
  {
   "cell_type": "code",
   "execution_count": 14,
   "metadata": {},
   "outputs": [
    {
     "name": "stderr",
     "output_type": "stream",
     "text": [
      "Some weights of the model checkpoint at beomi/KcELECTRA-base were not used when initializing ElectraForSequenceClassification: ['discriminator_predictions.dense.weight', 'discriminator_predictions.dense_prediction.bias', 'discriminator_predictions.dense.bias', 'discriminator_predictions.dense_prediction.weight']\n",
      "- This IS expected if you are initializing ElectraForSequenceClassification from the checkpoint of a model trained on another task or with another architecture (e.g. initializing a BertForSequenceClassification model from a BertForPreTraining model).\n",
      "- This IS NOT expected if you are initializing ElectraForSequenceClassification from the checkpoint of a model that you expect to be exactly identical (initializing a BertForSequenceClassification model from a BertForSequenceClassification model).\n",
      "Some weights of ElectraForSequenceClassification were not initialized from the model checkpoint at beomi/KcELECTRA-base and are newly initialized: ['classifier.dense.bias', 'classifier.dense.weight', 'classifier.out_proj.weight', 'classifier.out_proj.bias']\n",
      "You should probably TRAIN this model on a down-stream task to be able to use it for predictions and inference.\n"
     ]
    },
    {
     "data": {
      "text/plain": [
       "ElectraForSequenceClassification(\n",
       "  (electra): ElectraModel(\n",
       "    (embeddings): ElectraEmbeddings(\n",
       "      (word_embeddings): Embedding(30000, 768, padding_idx=3)\n",
       "      (position_embeddings): Embedding(512, 768)\n",
       "      (token_type_embeddings): Embedding(2, 768)\n",
       "      (LayerNorm): LayerNorm((768,), eps=1e-12, elementwise_affine=True)\n",
       "      (dropout): Dropout(p=0.1, inplace=False)\n",
       "    )\n",
       "    (encoder): ElectraEncoder(\n",
       "      (layer): ModuleList(\n",
       "        (0-11): 12 x ElectraLayer(\n",
       "          (attention): ElectraAttention(\n",
       "            (self): ElectraSelfAttention(\n",
       "              (query): Linear(in_features=768, out_features=768, bias=True)\n",
       "              (key): Linear(in_features=768, out_features=768, bias=True)\n",
       "              (value): Linear(in_features=768, out_features=768, bias=True)\n",
       "              (dropout): Dropout(p=0.1, inplace=False)\n",
       "            )\n",
       "            (output): ElectraSelfOutput(\n",
       "              (dense): Linear(in_features=768, out_features=768, bias=True)\n",
       "              (LayerNorm): LayerNorm((768,), eps=1e-12, elementwise_affine=True)\n",
       "              (dropout): Dropout(p=0.1, inplace=False)\n",
       "            )\n",
       "          )\n",
       "          (intermediate): ElectraIntermediate(\n",
       "            (dense): Linear(in_features=768, out_features=3072, bias=True)\n",
       "            (intermediate_act_fn): GELUActivation()\n",
       "          )\n",
       "          (output): ElectraOutput(\n",
       "            (dense): Linear(in_features=3072, out_features=768, bias=True)\n",
       "            (LayerNorm): LayerNorm((768,), eps=1e-12, elementwise_affine=True)\n",
       "            (dropout): Dropout(p=0.1, inplace=False)\n",
       "          )\n",
       "        )\n",
       "      )\n",
       "    )\n",
       "  )\n",
       "  (classifier): ElectraClassificationHead(\n",
       "    (dense): Linear(in_features=768, out_features=768, bias=True)\n",
       "    (dropout): Dropout(p=0.1, inplace=False)\n",
       "    (out_proj): Linear(in_features=768, out_features=2, bias=True)\n",
       "  )\n",
       ")"
      ]
     },
     "execution_count": 14,
     "metadata": {},
     "output_type": "execute_result"
    }
   ],
   "source": [
    "Kc_model = AutoModelForSequenceClassification.from_pretrained(Kc_model, num_labels=2)   # 사전 학습된 모델 찾아오기\n",
    "Kc_model.to(device)                                                                     # num_labels 평가지표 확인"
   ]
  },
  {
   "cell_type": "code",
   "execution_count": 15,
   "metadata": {},
   "outputs": [
    {
     "name": "stderr",
     "output_type": "stream",
     "text": [
      " 76%|███████▌  | 500/656 [03:50<01:11,  2.17it/s]"
     ]
    },
    {
     "name": "stdout",
     "output_type": "stream",
     "text": [
      "{'loss': 0.4448, 'learning_rate': 1.1890243902439025e-05, 'epoch': 0.76}\n"
     ]
    },
    {
     "name": "stderr",
     "output_type": "stream",
     "text": [
      "C:\\Users\\administrator\\AppData\\Local\\Temp\\2\\ipykernel_624\\1869798269.py:7: UserWarning: To copy construct from a tensor, it is recommended to use sourceTensor.clone().detach() or sourceTensor.clone().detach().requires_grad_(True), rather than torch.tensor(sourceTensor).\n",
      "  item = {key: torch.tensor(val[idx]) for key, val in self.encodings.items()} # self.encodings 딕셔너리 내의 값 중에 val를 torch.tensor로 변환해 하여\n",
      "100%|██████████| 656/656 [05:04<00:00,  2.15it/s]\n"
     ]
    },
    {
     "name": "stdout",
     "output_type": "stream",
     "text": [
      "{'train_runtime': 304.783, 'train_samples_per_second': 550.257, 'train_steps_per_second': 2.152, 'train_loss': 0.44456370283917684, 'epoch': 1.0}\n"
     ]
    },
    {
     "name": "stderr",
     "output_type": "stream",
     "text": [
      "100%|█████████▉| 664/666 [00:30<00:00, 21.85it/s]c:\\Users\\administrator\\anaconda3\\envs\\Kc\\lib\\site-packages\\sklearn\\metrics\\_classification.py:1471: UndefinedMetricWarning: Precision and F-score are ill-defined and being set to 0.0 in labels with no predicted samples. Use `zero_division` parameter to control this behavior.\n",
      "  _warn_prf(average, modifier, msg_start, len(result))\n",
      "100%|██████████| 666/666 [00:30<00:00, 21.98it/s]\n"
     ]
    }
   ],
   "source": [
    "from sklearn.model_selection import ParameterGrid\n",
    "import matplotlib.pyplot as plt\n",
    "from sklearn.metrics import precision_recall_fscore_support, accuracy_score\n",
    "from transformers import Trainer, TrainingArguments\n",
    "\n",
    "# Define the initial TrainingArguments\n",
    "training_args = TrainingArguments(\n",
    "    output_dir='./results',\n",
    "    num_train_epochs=1,\n",
    "    per_device_train_batch_size=8,\n",
    "    per_device_eval_batch_size=64,\n",
    "    logging_dir='./logs',\n",
    "    logging_steps=500,\n",
    "    save_total_limit=2,\n",
    ")\n",
    "\n",
    "# 학습과정에서 사용할 평가지표를 위한 함수 설정\n",
    "def compute_metrics(pred):\n",
    "    labels = pred.label_ids\n",
    "    preds = pred.predictions.argmax(-1)\n",
    "\n",
    "    # 다중 클래스 분류의 경우 아래처럼 수정\n",
    "    precision, recall, f1, _ = precision_recall_fscore_support(labels, preds, average='weighted')\n",
    "\n",
    "    # 정확도 구하기\n",
    "    acc = accuracy_score(labels, preds)\n",
    "    \n",
    "    return {\n",
    "        'accuracy': acc,\n",
    "        'f1': f1,\n",
    "        'precision': precision,\n",
    "        'recall': recall\n",
    "    }\n",
    "\n",
    "\n",
    "\n",
    "# Define a range of batch sizes to try\n",
    "batch_sizes_to_try = [2, 4, 8, 16, 32, 64, 128, 256]\n",
    "\n",
    "# Create a grid of hyperparameters to search\n",
    "param_grid = {\n",
    "    'per_device_train_batch_size': batch_sizes_to_try,\n",
    "}\n",
    "\n",
    "# Generate all combinations of hyperparameters\n",
    "param_combinations = list(ParameterGrid(param_grid))\n",
    "\n",
    "# Results list for storing metrics\n",
    "results_list = []\n",
    "\n",
    "# Iterate over each combination of hyperparameters\n",
    "for params in param_combinations:\n",
    "    # Update the batch size in the training arguments\n",
    "    training_args.per_device_train_batch_size = params['per_device_train_batch_size']\n",
    "    \n",
    "    # Create a new Trainer with updated batch size\n",
    "    trainer = Trainer(\n",
    "        model=Kc_model,\n",
    "        args=training_args,\n",
    "        train_dataset=train_dataset,\n",
    "        eval_dataset=test_dataset,\n",
    "        compute_metrics=compute_metrics,\n",
    "    )\n",
    "    \n",
    "    # Train the model\n",
    "    trainer.train()\n",
    "    \n",
    "    # Evaluate and store the metrics\n",
    "    metrics = trainer.evaluate()\n",
    "    results_dict = {\n",
    "        'batch_size': params['per_device_train_batch_size'],\n",
    "        'metrics': metrics,\n",
    "    }\n",
    "    results_list.append(results_dict)\n",
    "\n"
   ]
  },
  {
   "cell_type": "code",
   "execution_count": 16,
   "metadata": {},
   "outputs": [
    {
     "data": {
      "image/png": "[encoded data removed]",
      "text/plain": [
       "<Figure size 1000x500 with 1 Axes>"
      ]
     },
     "metadata": {},
     "output_type": "display_data"
    }
   ],
   "source": [
    "import matplotlib.pyplot as plt\n",
    "\n",
    "# 주어진 데이터\n",
    "batch_sizes = [4, 8, 16, 32, 64]\n",
    "eval_accuracy = [0.8838049367850692, 0.8646397752358017, 0.8747742323901264, 0.8709612683122617, 0.8700581978727674]\n",
    "eval_recall = [0.8838049367850692, 0.8646397752358017, 0.8747742323901264, 0.8709612683122617, 0.8700581978727674]\n",
    "\n",
    "# 그래프 그리기\n",
    "plt.figure(figsize=(10, 5))\n",
    "\n",
    "# Eval Accuracy 그래프\n",
    "plt.plot(batch_sizes, eval_accuracy, marker='o', label='Eval Accuracy', color='blue')\n",
    "\n",
    "# Eval Recall 그래프\n",
    "plt.plot(batch_sizes, eval_recall, marker='o', label='Eval Recall', color='green')\n",
    "\n",
    "# 그래프 설정\n",
    "plt.title('Eval Accuracy and Recall vs Batch Size')\n",
    "plt.xlabel('Batch Size')\n",
    "plt.ylabel('Score')\n",
    "plt.legend()\n",
    "plt.grid(True)\n",
    "\n",
    "# 그래프 보이기\n",
    "plt.show()\n"
   ]
  },
  {
   "cell_type": "code",
   "execution_count": 17,
   "metadata": {},
   "outputs": [
    {
     "ename": "SyntaxError",
     "evalue": "invalid syntax (1214336881.py, line 1)",
     "output_type": "error",
     "traceback": [
      "\u001b[1;36m  Cell \u001b[1;32mIn[17], line 1\u001b[1;36m\u001b[0m\n\u001b[1;33m    배치 크기: 4, 메트릭: {'eval_loss': 0.40799680352211, 'eval_accuracy': 0.8838049367850692, 'eval_f1': 0.8837942889526615, 'eval_precision': 0.8838708761686718, 'eval_recall': 0.8838049367850692, 'eval_runtime': 7.0443, 'eval_samples_per_second': 1414.765, 'eval_steps_per_second': 22.146, 'epoch': 1.0}\u001b[0m\n\u001b[1;37m       ^\u001b[0m\n\u001b[1;31mSyntaxError\u001b[0m\u001b[1;31m:\u001b[0m invalid syntax\n"
     ]
    }
   ],
   "source": [
    "배치 크기: 4, 메트릭: {'eval_loss': 0.40799680352211, 'eval_accuracy': 0.8838049367850692, 'eval_f1': 0.8837942889526615, 'eval_precision': 0.8838708761686718, 'eval_recall': 0.8838049367850692, 'eval_runtime': 7.0443, 'eval_samples_per_second': 1414.765, 'eval_steps_per_second': 22.146, 'epoch': 1.0}\n",
    "\n",
    "배치 크기: 8, 메트릭: {'eval_loss': 0.34564298391342163, 'eval_accuracy': 0.8646397752358017, 'eval_f1': 0.8643090477038273, 'eval_precision': 0.8687827109620981, 'eval_recall': 0.8646397752358017, 'eval_runtime': 7.0755, 'eval_samples_per_second': 1408.521, 'eval_steps_per_second': 22.048, 'epoch': 1.0}\n",
    "\n",
    "배치 크기: 16, 메트릭: {'eval_loss': 0.33332547545433044, 'eval_accuracy': 0.8747742323901264, 'eval_f1': 0.874774862814322, 'eval_precision': 0.874777254761814, 'eval_recall': 0.8747742323901264, 'eval_runtime': 7.0825, 'eval_samples_per_second': 1407.128, 'eval_steps_per_second': 22.026, 'epoch': 1.0}\n",
    "\n",
    "배치 크기: 32, 메트릭: {'eval_loss': 0.35686635971069336, 'eval_accuracy': 0.8709612683122617, 'eval_f1': 0.8709583632658499, 'eval_precision': 0.8710851870502736, 'eval_recall': 0.8709612683122617, 'eval_runtime': 7.0757, 'eval_samples_per_second': 1408.481, 'eval_steps_per_second': 22.047, 'epoch': 1.0}\n",
    "\n",
    "배치 크기: 64, 메트릭: {'eval_loss': 0.34407153725624084, 'eval_accuracy': 0.8700581978727674, 'eval_f1': 0.8700228815082413, 'eval_precision': 0.8706682011245421, 'eval_recall': 0.8700581978727674, 'eval_runtime': 7.0775, 'eval_samples_per_second': 1408.116, 'eval_steps_per_second': 22.042, 'epoch': 1.0}\n"
   ]
  },
  {
   "cell_type": "code",
   "execution_count": 19,
   "metadata": {},
   "outputs": [
    {
     "data": {
      "image/png": "[encoded data removed]",
      "text/plain": [
       "<Figure size 1000x600 with 1 Axes>"
      ]
     },
     "metadata": {},
     "output_type": "display_data"
    }
   ],
   "source": [
    "import matplotlib.pyplot as plt\n",
    "\n",
    "# 주어진 데이터\n",
    "batch_sizes = [2, 4, 8, 16, 32, 64, 128, 256]\n",
    "accuracies = [0.941766266701106, 0.5489468617183647, 0.5489468617183647, 0.45105313828163524, 0.45105313828163524, 0.45105313828163524, 0.45105313828163524, 0.45105313828163524]\n",
    "recalls = [0.941766266701106, 0.5489468617183647, 0.5489468617183647, 0.45105313828163524, 0.45105313828163524, 0.45105313828163524, 0.45105313828163524, 0.45105313828163524]\n",
    "\n",
    "# 그래프 그리기\n",
    "plt.figure(figsize=(10, 6))\n",
    "\n",
    "plt.plot(batch_sizes, accuracies, marker='o', label='Accuracy')\n",
    "plt.plot(batch_sizes, recalls, marker='o', label='Recall')\n",
    "\n",
    "plt.title('Accuracy and Recall vs Batch Size')\n",
    "plt.xlabel('Batch Size')\n",
    "plt.ylabel('Metric Value')\n",
    "plt.legend()\n",
    "plt.grid(True)\n",
    "plt.show()\n"
   ]
  },
  {
   "cell_type": "code",
   "execution_count": 18,
   "metadata": {},
   "outputs": [
    {
     "name": "stdout",
     "output_type": "stream",
     "text": [
      "배치 크기: 2, 메트릭: {'eval_loss': 0.2695576548576355, 'eval_accuracy': 0.941766266701106, 'eval_f1': 0.941874847524921, 'eval_precision': 0.9432284099734813, 'eval_recall': 0.941766266701106, 'eval_runtime': 30.2647, 'eval_samples_per_second': 1407.15, 'eval_steps_per_second': 22.006, 'epoch': 1.0}\n",
      "정확도: 0.941766266701106\n",
      "재현율: 0.941766266701106\n",
      "배치 크기: 4, 메트릭: {'eval_loss': 2.563800573348999, 'eval_accuracy': 0.5489468617183647, 'eval_f1': 0.389093602160295, 'eval_precision': 0.30134265699044144, 'eval_recall': 0.5489468617183647, 'eval_runtime': 30.1013, 'eval_samples_per_second': 1414.789, 'eval_steps_per_second': 22.125, 'epoch': 1.0}\n",
      "정확도: 0.5489468617183647\n",
      "재현율: 0.5489468617183647\n",
      "배치 크기: 8, 메트릭: {'eval_loss': 0.7014555335044861, 'eval_accuracy': 0.5489468617183647, 'eval_f1': 0.389093602160295, 'eval_precision': 0.30134265699044144, 'eval_recall': 0.5489468617183647, 'eval_runtime': 30.12, 'eval_samples_per_second': 1413.911, 'eval_steps_per_second': 22.112, 'epoch': 1.0}\n",
      "정확도: 0.5489468617183647\n",
      "재현율: 0.5489468617183647\n",
      "배치 크기: 16, 메트릭: {'eval_loss': 0.9478512406349182, 'eval_accuracy': 0.45105313828163524, 'eval_f1': 0.2804155522445444, 'eval_precision': 0.20344893355371196, 'eval_recall': 0.45105313828163524, 'eval_runtime': 30.164, 'eval_samples_per_second': 1411.847, 'eval_steps_per_second': 22.079, 'epoch': 1.0}\n",
      "정확도: 0.45105313828163524\n",
      "재현율: 0.45105313828163524\n",
      "배치 크기: 32, 메트릭: {'eval_loss': 1.027661919593811, 'eval_accuracy': 0.45105313828163524, 'eval_f1': 0.2804155522445444, 'eval_precision': 0.20344893355371196, 'eval_recall': 0.45105313828163524, 'eval_runtime': 30.1166, 'eval_samples_per_second': 1414.069, 'eval_steps_per_second': 22.114, 'epoch': 1.0}\n",
      "정확도: 0.45105313828163524\n",
      "재현율: 0.45105313828163524\n",
      "배치 크기: 64, 메트릭: {'eval_loss': 1.0985397100448608, 'eval_accuracy': 0.45105313828163524, 'eval_f1': 0.2804155522445444, 'eval_precision': 0.20344893355371196, 'eval_recall': 0.45105313828163524, 'eval_runtime': 30.1549, 'eval_samples_per_second': 1412.273, 'eval_steps_per_second': 22.086, 'epoch': 1.0}\n",
      "정확도: 0.45105313828163524\n",
      "재현율: 0.45105313828163524\n",
      "배치 크기: 128, 메트릭: {'eval_loss': 1.107046365737915, 'eval_accuracy': 0.45105313828163524, 'eval_f1': 0.2804155522445444, 'eval_precision': 0.20344893355371196, 'eval_recall': 0.45105313828163524, 'eval_runtime': 30.2986, 'eval_samples_per_second': 1405.575, 'eval_steps_per_second': 21.981, 'epoch': 1.0}\n",
      "정확도: 0.45105313828163524\n",
      "재현율: 0.45105313828163524\n",
      "배치 크기: 256, 메트릭: {'eval_loss': 1.1124783754348755, 'eval_accuracy': 0.45105313828163524, 'eval_f1': 0.2804155522445444, 'eval_precision': 0.20344893355371196, 'eval_recall': 0.45105313828163524, 'eval_runtime': 30.3389, 'eval_samples_per_second': 1403.71, 'eval_steps_per_second': 21.952, 'epoch': 1.0}\n",
      "정확도: 0.45105313828163524\n",
      "재현율: 0.45105313828163524\n",
      "메트릭스에서 'precision' 키를 찾을 수 없습니다.\n",
      "메트릭스에서 'f1' 키를 찾을 수 없습니다.\n"
     ]
    },
    {
     "data": {
      "image/png": "[encoded data removed]",
      "text/plain": [
       "<Figure size 640x480 with 1 Axes>"
      ]
     },
     "metadata": {},
     "output_type": "display_data"
    }
   ],
   "source": [
    "import matplotlib.pyplot as plt\n",
    "from matplotlib import font_manager, rc\n",
    "from sklearn.model_selection import ParameterGrid\n",
    "from sklearn.metrics import precision_recall_fscore_support, accuracy_score\n",
    "from transformers import Trainer, TrainingArguments\n",
    "\n",
    "# 폰트 설정 (한글 폰트 사용을 위해)\n",
    "font_path = \"C:/Windows/Fonts/malgun.ttf\"  # 한글 폰트 경로에 맞게 수정\n",
    "font_name = font_manager.FontProperties(fname=font_path).get_name()\n",
    "rc('font', family=font_name)\n",
    "\n",
    "# 코드 계속...\n",
    "\n",
    "# 결과 및 사용 가능한 키 출력\n",
    "# 'metrics' 딕셔너리에서 사용 가능한 키 출력\n",
    "for result in results_list:\n",
    "    print(f\"배치 크기: {result['batch_size']}, 메트릭: {result['metrics']}\")\n",
    "\n",
    "    # 'accuracy' 값에 액세스\n",
    "    accuracy_value = result['metrics'].get('eval_accuracy', None)\n",
    "    recall_value = result['metrics'].get('eval_recall', None)  # 'eval_recall'로 수정\n",
    "    if accuracy_value is not None:\n",
    "        print(f\"정확도: {accuracy_value}\")\n",
    "    else:\n",
    "        print(\"정확도 키를 찾을 수 없습니다.\")\n",
    "    if recall_value is not None:\n",
    "        print(f\"재현율: {recall_value}\")\n",
    "    else:\n",
    "        print(\"재현율 키를 찾을 수 없습니다.\")\n",
    "\n",
    "# 그래프에 포함할 메트릭 키 선택\n",
    "metric_key = 'eval_accuracy'\n",
    "\n",
    "# 결과 그래프 그리기\n",
    "plt.plot([result['batch_size'] for result in results_list], [result['metrics'][metric_key] for result in results_list], label='정확도')\n",
    "plt.plot([result['batch_size'] for result in results_list], [result['metrics']['eval_recall'] for result in results_list], label='재현율')\n",
    "\n",
    "# 'precision' 키가 있는지 확인하고, 있으면 플로팅\n",
    "if all('precision' in result['metrics'] for result in results_list):\n",
    "    plt.plot([result['batch_size'] for result in results_list], [result['metrics']['precision'] for result in results_list], label='정밀도')\n",
    "else:\n",
    "    print(\"메트릭스에서 'precision' 키를 찾을 수 없습니다.\")\n",
    "\n",
    "# 'f1' 키가 있는지 확인하고, 있으면 플로팅\n",
    "if all('f1' in result['metrics'] for result in results_list):\n",
    "    plt.plot([result['batch_size'] for result in results_list], [result['metrics']['f1'] for result in results_list], label='F1 점수')\n",
    "else:\n",
    "    print(\"메트릭스에서 'f1' 키를 찾을 수 없습니다.\")\n",
    "\n",
    "plt.xlabel('배치 크기')\n",
    "plt.ylabel('메트릭')\n",
    "plt.legend()\n",
    "plt.show()\n"
   ]
  },
  {
   "cell_type": "code",
   "execution_count": null,
   "metadata": {},
   "outputs": [],
   "source": [
    "import matplotlib.pyplot as plt\n",
    "from matplotlib import font_manager, rc\n",
    "from sklearn.model_selection import ParameterGrid\n",
    "from sklearn.metrics import precision_recall_fscore_support, accuracy_score\n",
    "from transformers import Trainer, TrainingArguments\n",
    "\n",
    "# 폰트 설정 (한글 폰트 사용을 위해)\n",
    "font_path = \"C:/Windows/Fonts/malgun.ttf\"  # 한글 폰트 경로에 맞게 수정\n",
    "font_name = font_manager.FontProperties(fname=font_path).get_name()\n",
    "rc('font', family=font_name)\n",
    "\n",
    "# 코드 계속...\n",
    "\n",
    "# 결과 및 사용 가능한 키 출력\n",
    "# 'metrics' 딕셔너리에서 사용 가능한 키 출력\n",
    "for result in results_list:\n",
    "    print(f\"배치 크기: {result['batch_size']}, 메트릭: {result['metrics']}\")\n",
    "\n",
    "    # 'accuracy' 값에 액세스\n",
    "    accuracy_value = result['metrics'].get('eval_accuracy', None)\n",
    "    recall_value = result['metrics'].get('eval_recall', None)  # 'eval_recall'로 수정\n",
    "    if accuracy_value is not None:\n",
    "        print(f\"정확도: {accuracy_value}\")\n",
    "    else:\n",
    "        print(\"정확도 키를 찾을 수 없습니다.\")\n",
    "    if recall_value is not None:\n",
    "        print(f\"재현율: {recall_value}\")\n",
    "    else:\n",
    "        print(\"재현율 키를 찾을 수 없습니다.\")\n",
    "\n",
    "# 그래프에 포함할 메트릭 키 선택\n",
    "metric_key = 'eval_accuracy'\n",
    "\n",
    "# 결과 그래프 그리기\n",
    "plt.plot([result['batch_size'] for result in results_list], [result['metrics'][metric_key] for result in results_list], label='정확도')\n",
    "plt.plot([result['batch_size'] for result in results_list], [result['metrics']['eval_recall'] for result in results_list], label='재현율')\n",
    "\n",
    "# 'precision' 키가 있는지 확인하고, 있으면 플로팅\n",
    "if all('precision' in result['metrics'] for result in results_list):\n",
    "    plt.plot([result['batch_size'] for result in results_list], [result['metrics']['precision'] for result in results_list], label='정밀도')\n",
    "else:\n",
    "    print(\"메트릭스에서 'precision' 키를 찾을 수 없습니다.\")\n",
    "\n",
    "# 'f1' 키가 있는지 확인하고, 있으면 플로팅\n",
    "if all('f1' in result['metrics'] for result in results_list):\n",
    "    plt.plot([result['batch_size'] for result in results_list], [result['metrics']['f1'] for result in results_list], label='F1 점수')\n",
    "else:\n",
    "    print(\"메트릭스에서 'f1' 키를 찾을 수 없습니다.\")\n",
    "\n",
    "plt.xlabel('배치 크기')\n",
    "plt.ylabel('메트릭')\n",
    "plt.legend()\n",
    "plt.show()\n"
   ]
  },
  {
   "cell_type": "code",
   "execution_count": null,
   "metadata": {},
   "outputs": [],
   "source": [
    "from sklearn.model_selection import ParameterGrid\n",
    "import matplotlib.pyplot as plt\n",
    "from sklearn.metrics import precision_recall_fscore_support, accuracy_score\n"
   ]
  },
  {
   "cell_type": "code",
   "execution_count": null,
   "metadata": {},
   "outputs": [],
   "source": [
    "# Define the initial TrainingArguments\n",
    "training_args = TrainingArguments(\n",
    "    output_dir='./results',\n",
    "    num_train_epochs=1,\n",
    "    per_device_train_batch_size=8,\n",
    "    per_device_eval_batch_size=64,\n",
    "    logging_dir='./logs',\n",
    "    logging_steps=500,\n",
    "    save_total_limit=2,\n",
    ")"
   ]
  },
  {
   "cell_type": "code",
   "execution_count": null,
   "metadata": {},
   "outputs": [],
   "source": [
    "# 학습과정에서 사용할 평가지표를 위한 함수 설정\n",
    "def compute_metrics(pred):\n",
    "  labels = pred.label_ids\n",
    "  preds = pred.predictions.argmax(-1)\n",
    "  # 정밀도, 재현율, f1 구하기 \n",
    "  precision, recall, f1, _ = precision_recall_fscore_support(labels, preds, average='binary')\n",
    "  # 정확도 구하기\n",
    "  acc = accuracy_score(labels, preds)\n",
    "  return{\n",
    "      'accuracy': acc,\n",
    "      'f1': f1,\n",
    "      'precision': precision,\n",
    "      'recall': recall\n",
    "  }"
   ]
  },
  {
   "cell_type": "code",
   "execution_count": null,
   "metadata": {},
   "outputs": [],
   "source": [
    "# Define a range of batch sizes to try\n",
    "batch_sizes_to_try = [4, 8, 16, 32, 64]\n",
    "\n",
    "# Create a grid of hyperparameters to search\n",
    "param_grid = {\n",
    "    'per_device_train_batch_size': batch_sizes_to_try,\n",
    "}\n"
   ]
  },
  {
   "cell_type": "code",
   "execution_count": null,
   "metadata": {},
   "outputs": [],
   "source": [
    "# Generate all combinations of hyperparameters\n",
    "param_combinations = list(ParameterGrid(param_grid))\n",
    "\n",
    "# Results list for storing metrics\n",
    "results_list = []"
   ]
  },
  {
   "cell_type": "code",
   "execution_count": null,
   "metadata": {},
   "outputs": [],
   "source": [
    "# Iterate over each combination of hyperparameters\n",
    "for params in param_combinations:\n",
    "    # Update the batch size in the training arguments\n",
    "    training_args.per_device_train_batch_size = params['per_device_train_batch_size']\n",
    "    \n",
    "    # Create a new Trainer with updated batch size\n",
    "    trainer = Trainer(\n",
    "        model=Kc_model,\n",
    "        args=training_args,\n",
    "        train_dataset=train_dataset,\n",
    "        eval_dataset=test_dataset,\n",
    "        compute_metrics=compute_metrics,\n",
    "    )"
   ]
  },
  {
   "cell_type": "code",
   "execution_count": null,
   "metadata": {},
   "outputs": [],
   "source": [
    " # Evaluate and store the metrics\n",
    "    metrics = trainer.evaluate()\n",
    "    results_dict = {\n",
    "        'batch_size': params['per_device_train_batch_size'],\n",
    "        'metrics': metrics,\n",
    "    }\n",
    "    results_list.append(results_dict)"
   ]
  },
  {
   "cell_type": "code",
   "execution_count": null,
   "metadata": {},
   "outputs": [],
   "source": [
    "# Print results\n",
    "for result in results_list:\n",
    "    print(f\"Batch Size: {result['batch_size']}, Metrics: {result['metrics']}\")\n",
    "\n",
    "# Plotting the results\n",
    "batch_sizes = [result['batch_size'] for result in results_list]\n",
    "accuracies = [result['metrics']['accuracy'] for result in results_list]\n",
    "recalls = [result['metrics']['recall'] for result in results_list]\n",
    "\n",
    "plt.plot(batch_sizes, accuracies, label='Accuracy')\n",
    "plt.plot(batch_sizes, recalls, label='Recall')\n",
    "plt.xlabel('Batch Size')\n",
    "plt.ylabel('Metrics')\n",
    "plt.legend()\n",
    "plt.show()"
   ]
  },
  {
   "cell_type": "code",
   "execution_count": null,
   "metadata": {},
   "outputs": [],
   "source": [
    "from sklearn.model_selection import ParameterGrid\n",
    "import matplotlib.pyplot as plt\n",
    "from sklearn.metrics import precision_recall_fscore_support, accuracy_score\n",
    "\n",
    "# Define the initial TrainingArguments\n",
    "training_args = TrainingArguments(\n",
    "    output_dir='./results',\n",
    "    num_train_epochs=1,\n",
    "    per_device_train_batch_size=8,\n",
    "    per_device_eval_batch_size=64,\n",
    "    logging_dir='./logs',\n",
    "    logging_steps=500,\n",
    "    save_total_limit=2,\n",
    ")\n",
    "\n",
    "\n",
    "# 학습과정에서 사용할 평가지표를 위한 함수 설정\n",
    "def compute_metrics(pred):\n",
    "  labels = pred.label_ids\n",
    "  preds = pred.predictions.argmax(-1)\n",
    "  # 정밀도, 재현율, f1 구하기 \n",
    "  precision, recall, f1, _ = precision_recall_fscore_support(labels, preds, average='binary')\n",
    "  # 정확도 구하기\n",
    "  acc = accuracy_score(labels, preds)\n",
    "  return{\n",
    "      'accuracy': acc,\n",
    "      'f1': f1,\n",
    "      'precision': precision,\n",
    "      'recall': recall\n",
    "  }\n",
    "# Define a range of batch sizes to try\n",
    "batch_sizes_to_try = [4, 8, 16, 32, 64]\n",
    "\n",
    "# Create a grid of hyperparameters to search\n",
    "param_grid = {\n",
    "    'per_device_train_batch_size': batch_sizes_to_try,\n",
    "}\n",
    "\n",
    "# Generate all combinations of hyperparameters\n",
    "param_combinations = list(ParameterGrid(param_grid))\n",
    "\n",
    "# Results list for storing metrics\n",
    "results_list = []\n",
    "\n",
    "# Iterate over each combination of hyperparameters\n",
    "for params in param_combinations:\n",
    "    # Update the batch size in the training arguments\n",
    "    training_args.per_device_train_batch_size = params['per_device_train_batch_size']\n",
    "    \n",
    "    # Create a new Trainer with updated batch size\n",
    "    trainer = Trainer(\n",
    "        model=Kc_model,\n",
    "        args=training_args,\n",
    "        train_dataset=train_dataset,\n",
    "        eval_dataset=test_dataset,\n",
    "        compute_metrics=compute_metrics,\n",
    "    )\n",
    "    \n",
    "    # Train the model\n",
    "    trainer.train()\n",
    "    \n",
    "    # Evaluate and store the metrics\n",
    "    metrics = trainer.evaluate()\n",
    "    results_dict = {\n",
    "        'batch_size': params['per_device_train_batch_size'],\n",
    "        'metrics': metrics,\n",
    "    }\n",
    "    results_list.append(results_dict)\n",
    "\n",
    "# Print results\n",
    "for result in results_list:\n",
    "    print(f\"Batch Size: {result['batch_size']}, Metrics: {result['metrics']}\")\n",
    "\n",
    "# Plotting the results\n",
    "batch_sizes = [result['batch_size'] for result in results_list]\n",
    "accuracies = [result['metrics']['accuracy'] for result in results_list]\n",
    "recalls = [result['metrics']['recall'] for result in results_list]\n",
    "\n",
    "plt.plot(batch_sizes, accuracies, label='Accuracy')\n",
    "plt.plot(batch_sizes, recalls, label='Recall')\n",
    "plt.xlabel('Batch Size')\n",
    "plt.ylabel('Metrics')\n",
    "plt.legend()\n",
    "plt.show()\n"
   ]
  },
  {
   "cell_type": "code",
   "execution_count": null,
   "metadata": {},
   "outputs": [],
   "source": [
    "from sklearn.model_selection import ParameterGrid\n",
    "import matplotlib.pyplot as plt\n",
    "from sklearn.metrics import precision_recall_fscore_support, accuracy_score\n",
    "from transformers import Trainer, TrainingArguments\n",
    "\n",
    "# Define the initial TrainingArguments\n",
    "training_args = TrainingArguments(\n",
    "    output_dir='./results',\n",
    "    num_train_epochs=1,\n",
    "    per_device_train_batch_size=8,\n",
    "    per_device_eval_batch_size=64,\n",
    "    logging_dir='./logs',\n",
    "    logging_steps=500,\n",
    "    save_total_limit=2,\n",
    ")"
   ]
  },
  {
   "cell_type": "code",
   "execution_count": null,
   "metadata": {},
   "outputs": [],
   "source": [
    "# 학습과정에서 사용할 평가지표를 위한 함수 설정\n",
    "def compute_metrics(pred):\n",
    "  labels = pred.label_ids\n",
    "  preds = pred.predictions.argmax(-1)\n",
    "  # 정밀도, 재현율, f1 구하기 \n",
    "  precision, recall, f1, _ = precision_recall_fscore_support(labels, preds, average='binary')\n",
    "  # 정확도 구하기\n",
    "  acc = accuracy_score(labels, preds)\n",
    "  return{\n",
    "      'accuracy': acc,\n",
    "      'f1': f1,\n",
    "      'precision': precision,\n",
    "      'recall': recall\n",
    "  }"
   ]
  },
  {
   "cell_type": "code",
   "execution_count": null,
   "metadata": {},
   "outputs": [],
   "source": [
    "# Define a range of batch sizes to try\n",
    "batch_sizes_to_try = [4, 8, 16, 32, 64]\n",
    "\n",
    "# Create a grid of hyperparameters to search\n",
    "param_grid = {\n",
    "    'per_device_train_batch_size': batch_sizes_to_try,\n",
    "}\n",
    "\n",
    "# Generate all combinations of hyperparameters\n",
    "param_combinations = list(ParameterGrid(param_grid))\n",
    "\n",
    "# Results list for storing metrics\n",
    "results_list = []"
   ]
  },
  {
   "cell_type": "code",
   "execution_count": null,
   "metadata": {},
   "outputs": [],
   "source": [
    "# Iterate over each combination of hyperparameters\n",
    "for params in param_combinations:\n",
    "    # Update the batch size in the training arguments\n",
    "    training_args.per_device_train_batch_size = params['per_device_train_batch_size']\n",
    "    \n",
    "    # Create a new Trainer with updated batch size\n",
    "    trainer = Trainer(\n",
    "        model=Kc_model,\n",
    "        args=training_args,\n",
    "        train_dataset=train_dataset,\n",
    "        eval_dataset=test_dataset,\n",
    "        compute_metrics=compute_metrics,\n",
    "    )\n",
    "    \n",
    "    # Train the model\n",
    "    trainer.train()\n",
    "    \n",
    "    # Evaluate and store the metrics\n",
    "    metrics = trainer.evaluate()\n",
    "    results_dict = {\n",
    "        'batch_size': params['per_device_train_batch_size'],\n",
    "        'metrics': metrics,\n",
    "    }\n",
    "    results_list.append(results_dict)"
   ]
  },
  {
   "cell_type": "code",
   "execution_count": null,
   "metadata": {},
   "outputs": [],
   "source": [
    "for result in results_list:\n",
    "    print(f\"Batch Size: {result['batch_size']}, Metrics: {result['metrics']}\")\n",
    "\n",
    "    # Print available keys in the 'metrics' dictionary\n",
    "    available_keys = result['metrics'].keys()\n",
    "    print(f\"Available keys: {available_keys}\")\n",
    "\n",
    "# Plotting the results\n",
    "batch_sizes = [result['batch_size'] for result in results_list]\n",
    "# Use an available metric key instead of 'accuracy', for example, 'f1'\n",
    "metric_key = 'f1'  # You can change this to another available metric\n",
    "metrics_values = [result['metrics'][metric_key] for result in results_list]\n",
    "\n",
    "plt.plot(batch_sizes, metrics_values, label=metric_key)\n",
    "plt.xlabel('Batch Size')\n",
    "plt.ylabel('Metrics')\n",
    "plt.legend()\n",
    "plt.show()"
   ]
  },
  {
   "cell_type": "code",
   "execution_count": null,
   "metadata": {},
   "outputs": [],
   "source": [
    "def sentence_predict(sent):\n",
    "    Kc_model.eval()\n",
    "\n",
    "    Kc_tokenized_sent = Kc_tokenizer(\n",
    "        text_target=sent,\n",
    "        return_tensors=\"pt\",\n",
    "        truncation=True,\n",
    "        add_special_tokens=True,\n",
    "        max_length=128\n",
    "    )\n",
    "\n",
    "    Kc_tokenized_sent.to(device)\n",
    "\n",
    "    with torch.no_grad():\n",
    "        outputs = Kc_model(\n",
    "        input_ids=Kc_tokenized_sent[\"input_ids\"],\n",
    "        attention_mask=Kc_tokenized_sent[\"attention_mask\"],\n",
    "        token_type_ids=Kc_tokenized_sent[\"token_type_ids\"]\n",
    "    )\n",
    "\n",
    "    logits = outputs[0]\n",
    "    logits = logits.detach().cpu()\n",
    "    result = logits.argmax(-1)\n",
    "    if result == 0:\n",
    "        return False, sent\n",
    "    elif result == 1:\n",
    "        return True, sent\n"
   ]
  },
  {
   "cell_type": "code",
   "execution_count": null,
   "metadata": {},
   "outputs": [],
   "source": [
    "print(sentence_predict(\"화이팅\"))\n",
    "print(sentence_predict(\"이게 맞아?\"))"
   ]
  },
  {
   "cell_type": "code",
   "execution_count": null,
   "metadata": {},
   "outputs": [],
   "source": [
    "# 'RNN_2' 모듈을 가져오기 위한 경로를 sys.path에 추가\n",
    "import sys\n",
    "sys.path.append(r'C:\\Users\\administrator\\Desktop\\X_filter\\Algorithm\\RNN')\n",
    " \n",
    "# 'RNN' 모듈을 import\n",
    "from RNN import *"
   ]
  },
  {
   "cell_type": "code",
   "execution_count": null,
   "metadata": {},
   "outputs": [],
   "source": [
    "def badword_find(sent):\n",
    "    badword_df = pd.read_excel(r'C:\\Users\\GJAISCHOOL\\Desktop\\X_filter\\Algorithm\\dataset\\word_list (완성).xlsx')\n",
    "    found_bad_word = False  # 입력 문장에 단어가 발견되었는지를 나타내는 플래그\n",
    "    for idx, row in badword_df.iterrows():\n",
    "        if row[\"WORD\"] in sent:\n",
    "            # 'WORD'가 입력 문장에 포함된 경우\n",
    "            new_word = row[\"대체어\"]\n",
    "            if not pd.isnull(new_word):\n",
    "                # RNN_result = sentence_generation(new_word, 2) + \" \"\n",
    "                sent = sent.replace(row[\"WORD\"], new_word)\n",
    "                found_bad_word = True\n",
    "            else:\n",
    "                sent = sent.replace(row[\"WORD\"], \"*\" * len(row[\"WORD\"]))\n",
    "                found_bad_word = True\n",
    "    \n",
    "    if not found_bad_word:\n",
    "        # result = \"@\" * len(input_sentence)\n",
    "        sent = \"혐오 표현입니다.\"\n",
    "    return sent\n",
    "\n",
    "# 테스트\n",
    "input_sentence = \"씨발\"\n",
    "speak_result = badword_find(input_sentence)\n",
    "print(speak_result)"
   ]
  },
  {
   "cell_type": "code",
   "execution_count": null,
   "metadata": {},
   "outputs": [],
   "source": [
    "def speak_pre(sent):\n",
    "    is_malicious, _ = sentence_predict(sent)\n",
    "    if not is_malicious:\n",
    "        return sent\n",
    "    else:\n",
    "        return badword_find(sent)\n",
    "\n",
    "def speak(sent):\n",
    "    is_malicious, sent_result = sentence_predict(sent)\n",
    "    if not is_malicious:\n",
    "        return sent\n",
    "    else:\n",
    "        return badword_find(sent_result)"
   ]
  },
  {
   "cell_type": "code",
   "execution_count": null,
   "metadata": {},
   "outputs": [],
   "source": [
    "import re\n",
    "import kss\n",
    "from pykospacing import Spacing\n",
    "from soynlp.normalizer import repeat_normalize\n",
    "\n",
    "# 띄어쓰기 설정\n",
    "spacing = Spacing()"
   ]
  },
  {
   "cell_type": "code",
   "execution_count": null,
   "metadata": {},
   "outputs": [],
   "source": [
    "# 특수문자 제거\n",
    "def cleanse(text):\n",
    "    pattern = re.compile(r'\\s+')\n",
    "    text = re.sub(pattern, ' ', text)\n",
    "    text = re.sub('[^가-힣ㄱ-ㅎㅏ|a-zA-Z0-9]','', text)\n",
    "    return text"
   ]
  },
  {
   "cell_type": "code",
   "execution_count": null,
   "metadata": {},
   "outputs": [],
   "source": [
    "def clean_and_repeat_normalize(text):\n",
    "    cleansed_text = cleanse(text)                                             # 특수문자 제거\n",
    "    normalized_text = repeat_normalize(cleansed_text, num_repeats=2)          # 중복문자 제거\n",
    "    input_data = re.sub(r'\\d', '', normalized_text)                           # 제거\n",
    "    normalized_text = spacing(input_data)                                     # 띄어쓰기 보정 \n",
    "\n",
    "    return normalized_text\n",
    "\n",
    "clean_and_repeat_normalize(\"아버지가방에들어가신다\")"
   ]
  },
  {
   "cell_type": "code",
   "execution_count": null,
   "metadata": {},
   "outputs": [],
   "source": [
    "def final_output():\n",
    "    input_text = clean_and_repeat_normalize(input(\"텍스트를 입력하세요: \"))\n",
    "    sentences = kss.split_sentences(input_text)\n",
    "\n",
    "    sentences_list = []\n",
    "    for sentence in sentences:\n",
    "        result = speak(sentence)\n",
    "        sentences_list.append(result) \n",
    "\n",
    "    long_test = ' '.join(sentences_list)\n",
    "    return long_test"
   ]
  },
  {
   "cell_type": "code",
   "execution_count": null,
   "metadata": {},
   "outputs": [],
   "source": [
    "# 시발 정작 지네들 자식은 몸쓰는일 안시킬거면서 개지랄떠네 ㅋㅋㅋ\n",
    "final_output()"
   ]
  },
  {
   "cell_type": "code",
   "execution_count": null,
   "metadata": {},
   "outputs": [],
   "source": [
    "import subprocess\n",
    "result_1 = subprocess.run(['pip', 'install', 'tensorflow'], capture_output=True, text=True)   # 필요 라이브러리 설치\n",
    "result_2 = subprocess.run(['pip', 'show', 'tensorflow'], capture_output=True, text=True)\n",
    "print(result_1.stdout)\n",
    "print(result_2.stdout)                                               \n",
    "\n",
    "import numpy as np\n",
    "import pandas as pd\n",
    "from tensorflow.keras.utils import to_categorical\n",
    "from tensorflow.keras.preprocessing.text import Tokenizer\n",
    "from tensorflow.keras.preprocessing.sequence import pad_sequences\n",
    "\n",
    "df = pd.read_csv(r'C:\\Users\\GJAISCHOOL\\Desktop\\sentence pl data1113 수정.csv')\n",
    "\n",
    "sentences = df['Sentence'].tolist()\n",
    "rnn_tokenizer = Tokenizer()\n",
    "rnn_tokenizer.fit_on_texts(sentences)\n",
    "\n",
    "vocab_size = len(rnn_tokenizer.word_index) + 1                          # 어휘 사전에 크기 계산 \n",
    "\n",
    "sequences = list()                                                      # 각 문장을 단어 시퀀스로 변환하고, 문장의 부분 시퀀스를 생성하여 리스트에 추가\n",
    "for line in sentences:\n",
    "    encoded = rnn_tokenizer.texts_to_sequences([line])[0]               # 현재 문장을 정수로 시퀀스로 변수\n",
    "    for i in range(1, len(encoded)):                                    # 문장의 부분 시퀀스를 생성하고 리스트에 추가\n",
    "        sequence = encoded[: i+1]\n",
    "        sequences.append(sequence)\n",
    "\n",
    "max_len = max(len(l) for l in sequences)                                # 모든 샘플에서 길이가 가장 긴 샘플의 길이 출력\n",
    "sequences = pad_sequences(sequences, maxlen=max_len, padding='pre')     # 시퀀스 데이터를 패딩하여 일정한 길이로 만듦 (여기서는 가장 긴 샘플의 길이로 패딩)\n",
    "\n",
    "sequences = np.array(sequences)                                         # 패딩이 된 시퀀스를 넘파이 배열로 변환\n",
    "                                                                        # 입력 및 출력 데이터 생성\n",
    "X = sequences[:, :-1]                                                   # 시퀀스에서 마지막 단어를 제외한 부분은 입력(X)\n",
    "y = sequences[:, -1]                                                    # 시퀀스에 마지막 단어는 출력\n",
    "y = to_categorical(y, num_classes=vocab_size)                           # 출력(y)을 one-hot 인코딩 형태로 변환\n",
    "\n",
    "from tensorflow.keras.models import Sequential\n",
    "from tensorflow.keras.layers import Embedding, Dense, SimpleRNN\n",
    "\n",
    "embedding_dim = 10                                                      # 임베딩 차원을 10으로 10차원의 실수 벡터로 표현\n",
    "hidden_units = 32                                                       # 순환 신경망 내 내부에서의 뉴련의 수\n",
    "\n",
    "RNN_model = Sequential()                                                    \n",
    "RNN_model.add(Embedding(vocab_size, embedding_dim))                     # Embedding 레이어 추가: 어휘 사전의 크기를 입력으로 받고, 지정된 임베딩 차원으로 단어를 임베딩\n",
    "RNN_model.add(SimpleRNN(hidden_units))                                  # 지정된 은닉 유닛 수를 가진 단순한 RNN 레이어\n",
    "RNN_model.add(Dense(vocab_size, activation='softmax'))                  # 출력 레이어 추가 : 어휘 사전의 크길르 가진 Dense 레이어를 사용하며, 활성화 함수는 softmax\n",
    "RNN_model.compile(loss='categorical_crossentropy', optimizer='adam', metrics=['accuracy'])\n",
    "                                                                        # 모델 컴파일: 다중 클래스 분류 문제이므로 categorical_crossentropy 손실 함수와 Adam 옵티마이저 사용\n",
    "RNN_model.fit(X, y, epochs=20, verbose=2)                               # 모델 학습: 입력(X) 및 출력(y) 데이터를 사용하여 주어진 에폭 동안 모델을 학습\n",
    "\n",
    "def sentence_generation(current_word, n, temperature=1.0, model=RNN_model, tokenizer=rnn_tokenizer):\n",
    "    init_word = current_word                                            # 시작 단어와 문장을 저장할 빈 문자열 초기화\n",
    "    sentence = ''\n",
    "\n",
    "    for _ in range(n):                                                  # n개 단어 만큼 문자 생성\n",
    "        encoded = rnn_tokenizer.texts_to_sequences([current_word])[0]   # 현재 단어를 토크나이저를 사용하여 정수 시퀀스로 변환 \n",
    "                                                                        # ex) \"Hello, how are you?\" => \"Hello\"가 1, \"how\"가 2, \"are\"가 3, \"you\"가 4라고 할 때 => [1, 2, 3, 4]\n",
    "        encoded = pad_sequences([encoded], maxlen=5, padding='pre')     # 시퀀스가 5로 설정하고, 부족하면 앞쪽에 0을 채워넣고 부족하면 앞부분을 자른다.\n",
    "                                                                        # 만약 뒤쪽으로 바꾸고싶으면 padding='post를 주면 된다.\n",
    "        result = RNN_model.predict(encoded, verbose=0)                  # 모델의 다음단어 예측\n",
    "        result = result / temperature                                   # 확률에 온도를 적용하여 랜덤성 조절\n",
    "        result = np.exp(result) / np.sum(np.exp(result), axis=1)        # 소프트맥스를 적용하여 최종 확률 얻기\n",
    "        sampled_index = np.random.choice(len(result[0]), p=result[0])   # 예측된 확률을 기반으로 다음 단어 샘플링\n",
    "        word = rnn_tokenizer.index_word[sampled_index]\n",
    "\n",
    "        current_word = current_word + ' ' + word                        # 현재 단어와 문장 업데이트\n",
    "        sentence = sentence + ' ' + word\n",
    "\n",
    "    sentence = init_word + sentence\n",
    "    return sentence"
   ]
  },
  {
   "cell_type": "code",
   "execution_count": null,
   "metadata": {},
   "outputs": [],
   "source": []
  }
 ],
 "metadata": {
  "kernelspec": {
   "display_name": "nv37",
   "language": "python",
   "name": "python3"
  },
  "language_info": {
   "codemirror_mode": {
    "name": "ipython",
    "version": 3
   },
   "file_extension": ".py",
   "mimetype": "text/x-python",
   "name": "python",
   "nbconvert_exporter": "python",
   "pygments_lexer": "ipython3",
   "version": "3.8.18"
  }
 },
 "nbformat": 4,
 "nbformat_minor": 2
}
