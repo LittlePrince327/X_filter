{
 "cells": [
  {
   "cell_type": "code",
   "execution_count": null,
   "metadata": {},
   "outputs": [],
   "source": [
    "!pip install --upgrade pip\n",
    "!pip install Kiwipiepy\n",
    "\n",
    "!pip show kiwipiepy"
   ]
  },
  {
   "cell_type": "code",
   "execution_count": null,
   "metadata": {},
   "outputs": [],
   "source": [
    "# 텍스트 직접 정의하기\n",
    "text1=\"우크라이나 전쟁과 팬데믹 장기화로 러시아는 물가가 치솟고 주식은 떡락을 쳐서 블라디미르 푸틴은 맛이 갔다. 쌤통이닿ㅎㅎ 거짓말쟁이 푸틴 자업자득이네욬ㅋㅋ\"\n",
    "text2=\"위드코로나(with Corona) 시국에 바이든 대통령은 푸틴과 시진핑, 그리고 김정은까지 몰디브에 초대했다. 모히또에 호주산 소고기 투뿔 꽃등심으로 스테이크를 구워 줬더니 모두 기분이 좋아서 업되었다고 한다.\"\n",
    "text3=\"젤렌스키는 코로나일구에서 막 회복해서 키이우에서 군사력 보강과 민주화와 방역을 지휘하고 있다네요. 근데 키이우가 어디죠? 키예프 아닌가요?\""
   ]
  },
  {
   "cell_type": "code",
   "execution_count": null,
   "metadata": {},
   "outputs": [],
   "source": [
    "from kiwipiepy import Kiwi\n",
    "kiwi = Kiwi()"
   ]
  },
  {
   "cell_type": "code",
   "execution_count": null,
   "metadata": {},
   "outputs": [],
   "source": [
    "kiwi.tokenize(text1)"
   ]
  },
  {
   "cell_type": "code",
   "execution_count": null,
   "metadata": {},
   "outputs": [],
   "source": [
    "kiwi.tokenize(text2)"
   ]
  },
  {
   "cell_type": "code",
   "execution_count": null,
   "metadata": {},
   "outputs": [],
   "source": [
    "kiwi.tokenize(text3)"
   ]
  },
  {
   "cell_type": "code",
   "execution_count": null,
   "metadata": {},
   "outputs": [],
   "source": [
    "from kiwipiepy import Kiwi\n",
    "kiwi= Kiwi(num_workers=0, model_path=None, load_default_dict=True, integrate_allomorph=False)"
   ]
  },
  {
   "cell_type": "code",
   "execution_count": null,
   "metadata": {},
   "outputs": [],
   "source": [
    "kiwi.tokenize(text1)"
   ]
  },
  {
   "cell_type": "code",
   "execution_count": null,
   "metadata": {},
   "outputs": [],
   "source": [
    "kiwi.tokenize(text2)"
   ]
  },
  {
   "cell_type": "code",
   "execution_count": null,
   "metadata": {},
   "outputs": [],
   "source": [
    "kiwi.tokenize(text3)"
   ]
  },
  {
   "cell_type": "code",
   "execution_count": null,
   "metadata": {},
   "outputs": [],
   "source": [
    "kiwi.add_user_word(\"떡상\", tag='NNG', score=0.0)\n",
    "kiwi.add_user_word(\"위드코로나\", tag='NNG', score=0.0)"
   ]
  },
  {
   "cell_type": "code",
   "execution_count": null,
   "metadata": {},
   "outputs": [],
   "source": [
    "# 초성체 문제\n",
    "kiwi.tokenize(text1, normalize_coda=True)"
   ]
  },
  {
   "cell_type": "code",
   "execution_count": null,
   "metadata": {},
   "outputs": [],
   "source": [
    "def concatenate_morphs(result):\n",
    "    ret = []\n",
    "    prev_tag = None\n",
    "    for form, tag, start, length in result:\n",
    "        if prev_tag in ('XR', 'NNG') and tag in ('XSA', 'XSV'):\n",
    "            ret[-1] = (ret[-1][0] + form, tag.replace('XS', 'V'), ret[-1][2], start + length - ret[-1][2])\n",
    "        elif  prev_tag in ('XR', 'NNG') and tag in ('XSN'):\n",
    "            ret[-1] = (ret[-1][0] + form, tag.replace('XSN', 'NNG'), ret[-1][2], start + length - ret[-1][2])\n",
    "        else:\n",
    "            ret.append((form, tag, start, length))\n",
    "        prev_tag = tag\n",
    "    return ret\n",
    "kiwi = Kiwi(num_workers=0, model_path=None, load_default_dict=True, integrate_allomorph=False)\n",
    "\n",
    "kiwi.add_user_word(\"떡상\", tag='NNG', score=0.0)\n",
    "kiwi.add_user_word(\"떡락\", tag='NNG', score=0.0)\n",
    "kiwi.add_user_word(\"팬데믹\", tag='NNG', score=0.0)\n",
    "kiwi.add_user_word(\"위드코로나\", tag='NNG', score=0.0)\n",
    "kiwi.add_user_word(\"코로나19\", tag='NNG', score=0.0)\n",
    "kiwi.add_user_word(\"키이우\", tag='NNP', score=0.0)\n",
    "kiwi.add_user_word(\"꽃등심\", tag='NNG', score=0.0)\n",
    "kiwi.add_user_word(\"쌤통\", tag='NNG', score=0.0)\n",
    "\n",
    "# kiwi.prepare()\n",
    "result, score = kiwi.analyze(text3, normalize_coda=True)[0]\n",
    "concat_result = concatenate_morphs(result)\n",
    "for word in concat_result :\n",
    "  print(word) # [('회복하', 'VV', 16, 3)('여서', 'EC', 18, 2)('키이우', 'NNP', 21, 3)('에서', 'JKB', 24, 2)...]"
   ]
  },
  {
   "cell_type": "code",
   "execution_count": null,
   "metadata": {},
   "outputs": [],
   "source": [
    "# 형태소/태그 형태소/태그 형태소/태그......\n",
    "print(\" \".join(form + \"/\" + tag for form, tag, _, _ in concat_result)) # 사랑하/VV + ᆫ다고/EC + 얘기하/VV + 어/EC + 보/VX + 어요/EF"
   ]
  },
  {
   "cell_type": "code",
   "execution_count": 6,
   "metadata": {},
   "outputs": [],
   "source": [
    "from kiwipiepy import Kiwi\n",
    "kiwi = Kiwi()\n",
    "import sys"
   ]
  },
  {
   "cell_type": "code",
   "execution_count": 29,
   "metadata": {},
   "outputs": [
    {
     "name": "stdout",
     "output_type": "stream",
     "text": [
      "단어를 입력하세요 (종료하려면 'exit'를 입력하세요): 안녕하세요\n",
      "Token(form='안녕', tag='NNG', start=0, len=2)\n",
      " \n",
      "Token(form='하', tag='XSA', start=2, len=1)\n",
      " \n",
      "Token(form='세요', tag='EF', start=3, len=2)\n",
      " \n",
      "단어를 입력하세요 (종료하려면 'exit'를 입력하세요): 게다가 휠베이스는 앞 뒤 바퀴에 배터리가 들어가는 특성상\n",
      "Token(form='게다가', tag='MAG', start=0, len=3)\n",
      " \n",
      "Token(form='휠', tag='NNG', start=4, len=1)\n",
      " \n",
      "Token(form='베이스', tag='NNG', start=5, len=3)\n",
      " \n",
      "Token(form='는', tag='JX', start=8, len=1)\n",
      " \n",
      "Token(form='앞', tag='NNG', start=10, len=1)\n",
      " \n",
      "Token(form='뒤', tag='NNG', start=12, len=1)\n",
      " \n",
      "Token(form='바퀴', tag='NNG', start=14, len=2)\n",
      " \n",
      "Token(form='에', tag='JKB', start=16, len=1)\n",
      " \n",
      "Token(form='배터리', tag='NNG', start=18, len=3)\n",
      " \n",
      "Token(form='가', tag='JKS', start=21, len=1)\n",
      " \n",
      "Token(form='들어가', tag='VV', start=23, len=3)\n",
      " \n",
      "Token(form='는', tag='ETM', start=26, len=1)\n",
      " \n",
      "Token(form='특성', tag='NNG', start=28, len=2)\n",
      " \n",
      "Token(form='상', tag='XSN', start=30, len=1)\n",
      " \n",
      "단어를 입력하세요 (종료하려면 'exit'를 입력하세요): 따라서 후륜조향이 필수입니다\n",
      "Token(form='따라서', tag='MAJ', start=0, len=3)\n",
      " \n",
      "Token(form='후륜조향', tag='NNG', start=4, len=4)\n",
      " \n",
      "Token(form='이', tag='JKS', start=8, len=1)\n",
      " \n",
      "Token(form='필수', tag='NNG', start=10, len=2)\n",
      " \n",
      "Token(form='이', tag='VCP', start=12, len=1)\n",
      " \n",
      "Token(form='ᆸ니다', tag='EF', start=12, len=3)\n",
      " \n",
      "단어를 입력하세요 (종료하려면 'exit'를 입력하세요): 메르세데스벤츠차량을이용하는오너이면서메르세데스미디지털서비스\n",
      "Token(form='메르세데스', tag='NNP', start=0, len=5)\n",
      " \n",
      "Token(form='벤츠', tag='NNG', start=5, len=2)\n",
      " \n",
      "Token(form='차량', tag='NNG', start=7, len=2)\n",
      " \n",
      "Token(form='을', tag='JKO', start=9, len=1)\n",
      " \n",
      "Token(form='이용', tag='NNG', start=10, len=2)\n",
      " \n",
      "Token(form='하', tag='XSV', start=12, len=1)\n",
      " \n",
      "Token(form='는', tag='ETM', start=13, len=1)\n",
      " \n",
      "Token(form='오너', tag='NNG', start=14, len=2)\n",
      " \n",
      "Token(form='이', tag='VCP', start=16, len=1)\n",
      " \n",
      "Token(form='면서', tag='EC', start=17, len=2)\n",
      " \n",
      "Token(form='메르세데스', tag='NNP', start=19, len=5)\n",
      " \n",
      "Token(form='미', tag='NNG', start=24, len=1)\n",
      " \n",
      "Token(form='디지털', tag='NNG', start=25, len=3)\n",
      " \n",
      "Token(form='서비스', tag='NNG', start=28, len=3)\n",
      " \n",
      "단어를 입력하세요 (종료하려면 'exit'를 입력하세요): 디지털 서비스는 메르세데스 미 스토어에서 구매하실수 있습니다\n",
      "Token(form='디지털', tag='NNG', start=0, len=3)\n",
      " \n",
      "Token(form='서비스', tag='NNG', start=4, len=3)\n",
      " \n",
      "Token(form='는', tag='JX', start=7, len=1)\n",
      " \n",
      "Token(form='메르세데스', tag='NNP', start=9, len=5)\n",
      " \n",
      "Token(form='미', tag='NNP', start=15, len=1)\n",
      " \n",
      "Token(form='스토어', tag='NNG', start=17, len=3)\n",
      " \n",
      "Token(form='에서', tag='JKB', start=20, len=2)\n",
      " \n",
      "Token(form='구매', tag='NNG', start=23, len=2)\n",
      " \n",
      "Token(form='하', tag='XSV', start=25, len=1)\n",
      " \n",
      "Token(form='시', tag='EP', start=26, len=1)\n",
      " \n",
      "Token(form='ᆯ', tag='ETM', start=26, len=1)\n",
      " \n",
      "Token(form='수', tag='NNB', start=27, len=1)\n",
      " \n",
      "Token(form='있', tag='VA', start=29, len=1)\n",
      " \n",
      "Token(form='습니다', tag='EF', start=30, len=3)\n",
      " \n",
      "단어를 입력하세요 (종료하려면 'exit'를 입력하세요): 드디어 패밀리룩을 이뤘습니다\n",
      "Token(form='드디어', tag='MAG', start=0, len=3)\n",
      " \n",
      "Token(form='패밀리', tag='NNG', start=4, len=3)\n",
      " \n",
      "Token(form='룩', tag='NNG', start=7, len=1)\n",
      " \n",
      "Token(form='을', tag='JKO', start=8, len=1)\n",
      " \n",
      "Token(form='이루', tag='VV', start=10, len=2)\n",
      " \n",
      "Token(form='었', tag='EP', start=11, len=1)\n",
      " \n",
      "Token(form='습니다', tag='EF', start=12, len=3)\n",
      " \n",
      "단어를 입력하세요 (종료하려면 'exit'를 입력하세요): 헤드램프와 테일램프가 버티컬 형식으로 바뀐게 옆에서도 크게 티가 납니다\n",
      "Token(form='헤드', tag='NNG', start=0, len=2)\n",
      " \n",
      "Token(form='램프', tag='NNG', start=2, len=2)\n",
      " \n",
      "Token(form='와', tag='JC', start=4, len=1)\n",
      " \n",
      "Token(form='테일램프', tag='NNG', start=6, len=4)\n",
      " \n",
      "Token(form='가', tag='JKS', start=10, len=1)\n",
      " \n",
      "Token(form='버티컬', tag='NNG', start=12, len=3)\n",
      " \n",
      "Token(form='형식', tag='NNG', start=16, len=2)\n",
      " \n",
      "Token(form='으로', tag='JKB', start=18, len=2)\n",
      " \n",
      "Token(form='바뀌', tag='VV', start=21, len=2)\n",
      " \n",
      "Token(form='ᆫ', tag='ETM', start=22, len=1)\n",
      " \n",
      "Token(form='것', tag='NNB', start=23, len=1)\n",
      " \n",
      "Token(form='이', tag='JKS', start=23, len=1)\n",
      " \n",
      "Token(form='옆', tag='NNG', start=25, len=1)\n",
      " \n",
      "Token(form='에서', tag='JKB', start=26, len=2)\n",
      " \n",
      "Token(form='도', tag='JX', start=28, len=1)\n",
      " \n",
      "Token(form='크', tag='VA', start=30, len=1)\n",
      " \n",
      "Token(form='게', tag='EC', start=31, len=1)\n",
      " \n",
      "Token(form='티', tag='NNG', start=33, len=1)\n",
      " \n",
      "Token(form='가', tag='JKS', start=34, len=1)\n",
      " \n",
      "Token(form='나', tag='VV', start=36, len=1)\n",
      " \n",
      "Token(form='ᆸ니다', tag='EF', start=36, len=3)\n",
      " \n",
      "단어를 입력하세요 (종료하려면 'exit'를 입력하세요): 지금카니발정말다만족하는데, 승차감이 너무 화물차 느낌이라 토요타 시에나, 혼다 오딧세이에 자꾸만 관심이 갑니다\n",
      "Token(form='지금', tag='MAG', start=0, len=2)\n",
      " \n",
      "Token(form='카니발', tag='NNG', start=2, len=3)\n",
      " \n",
      "Token(form='정말', tag='MAG', start=5, len=2)\n",
      " \n",
      "Token(form='다', tag='MAG', start=7, len=1)\n",
      " \n",
      "Token(form='만족', tag='NNG', start=8, len=2)\n",
      " \n",
      "Token(form='하', tag='XSV', start=10, len=1)\n",
      " \n",
      "Token(form='는데', tag='EC', start=11, len=2)\n",
      " \n",
      "Token(form=',', tag='SP', start=13, len=1)\n",
      " \n",
      "Token(form='승차감', tag='NNG', start=15, len=3)\n",
      " \n",
      "Token(form='이', tag='JKS', start=18, len=1)\n",
      " \n",
      "Token(form='너무', tag='MAG', start=20, len=2)\n",
      " \n",
      "Token(form='화물차', tag='NNG', start=23, len=3)\n",
      " \n",
      "Token(form='느낌', tag='NNG', start=27, len=2)\n",
      " \n",
      "Token(form='이', tag='VCP', start=29, len=1)\n",
      " \n",
      "Token(form='라', tag='EC', start=30, len=1)\n",
      " \n",
      "Token(form='토요타', tag='NNP', start=32, len=3)\n",
      " \n",
      "Token(form='시에나', tag='NNP', start=36, len=3)\n",
      " \n",
      "Token(form=',', tag='SP', start=39, len=1)\n",
      " \n",
      "Token(form='혼다', tag='NNP', start=41, len=2)\n",
      " \n",
      "Token(form='오딧세이', tag='NNP', start=44, len=4)\n",
      " \n",
      "Token(form='에', tag='JKB', start=48, len=1)\n",
      " \n",
      "Token(form='자꾸', tag='MAG', start=50, len=2)\n",
      " \n",
      "Token(form='만', tag='JX', start=52, len=1)\n",
      " \n",
      "Token(form='관심', tag='NNG', start=54, len=2)\n",
      " \n",
      "Token(form='이', tag='JKS', start=56, len=1)\n",
      " \n",
      "Token(form='가', tag='VV', start=58, len=1)\n",
      " \n",
      "Token(form='ᆸ니다', tag='EF', start=58, len=3)\n",
      " \n",
      "단어를 입력하세요 (종료하려면 'exit'를 입력하세요): exit\n"
     ]
    }
   ],
   "source": [
    "import sys\n",
    "from kiwipiepy import Kiwi\n",
    "\n",
    "# Kiwi 인스턴스 생성\n",
    "kiwi = Kiwi()\n",
    "\n",
    "while True:\n",
    "    # 사용자로부터 단어 입력 받기\n",
    "    word = input(\"단어를 입력하세요 (종료하려면 'exit'를 입력하세요): \")\n",
    "    \n",
    "    # 'exit'를 입력하면 루프 종료\n",
    "    if word.lower() == 'exit':\n",
    "        break\n",
    "    \n",
    "    tokens = kiwi.tokenize(word, normalize_coda=True)\n",
    "    \n",
    "    # 토큰 출력\n",
    "    for token in tokens:\n",
    "        print(token)\n",
    "        print(\" \")\n",
    "    \n",
    "\n"
   ]
  },
  {
   "cell_type": "code",
   "execution_count": 15,
   "metadata": {},
   "outputs": [
    {
     "data": {
      "text/plain": [
       "Token(form='안녕', tag='NNG', start=0, len=2)"
      ]
     },
     "execution_count": 15,
     "metadata": {},
     "output_type": "execute_result"
    }
   ],
   "source": [
    "tokens = kiwi.tokenize(word, normalize_coda=True)\n",
    "type(tokens)\n",
    "tokens[0]"
   ]
  },
  {
   "cell_type": "markdown",
   "metadata": {},
   "source": [
    "kiwi.add_user_word(\"코로나 19\", tag='NNG', score=0.0)\n",
    "kiwi.add_user_word(\"18년\", tag='NNG', score=0.0)\n",
    "kiwi.add_user_word(\"같은\", tag='VA', score=0.0)\n",
    "kiwi.add_user_word(\"시발놈\", tag='NNG', score=0.0)\n",
    "kiwi.add_user_word(\"다니다\", tag='VV', score=0.0)\n",
    "kiwi.add_user_word(\"보면\", tag='VV', score=0.0)\n",
    "kiwi.add_user_word(\"차키\", tag='NNG', score=0.0)\n",
    "kiwi.add_user_word(\"없을\", tag='VA', score=0.0)\n",
    "kiwi.add_user_word(\"패밀리룩\", tag='NNG', score=0.0)\n",
    "kiwi.add_user_word(\"헤드램프\", tag='NNG', score=0.0)"
   ]
  }
 ],
 "metadata": {
  "kernelspec": {
   "display_name": "cvenv",
   "language": "python",
   "name": "cvenv"
  },
  "language_info": {
   "codemirror_mode": {
    "name": "ipython",
    "version": 3
   },
   "file_extension": ".py",
   "mimetype": "text/x-python",
   "name": "python",
   "nbconvert_exporter": "python",
   "pygments_lexer": "ipython3",
   "version": "3.8.18"
  }
 },
 "nbformat": 4,
 "nbformat_minor": 2
}
