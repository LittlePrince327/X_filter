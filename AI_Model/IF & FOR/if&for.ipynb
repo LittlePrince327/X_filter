{
 "cells": [
  {
   "cell_type": "markdown",
   "metadata": {},
   "source": []
  },
  {
   "cell_type": "markdown",
   "metadata": {},
   "source": [
    "# IF&FOR문을 이용한 비속어 필터링"
   ]
  },
  {
   "cell_type": "code",
   "execution_count": 12,
   "metadata": {},
   "outputs": [
    {
     "name": "stdout",
     "output_type": "stream",
     "text": [
      "Collecting git+https://github.com/haven-jeon/PyKoSpacing.git\n",
      "  Cloning https://github.com/haven-jeon/PyKoSpacing.git to c:\\users\\gjaischool\\appdata\\local\\temp\\pip-req-build-l26d0lku\n",
      "  Resolved https://github.com/haven-jeon/PyKoSpacing.git to commit d1e2f93759b1bcc74b6aaa345a62c08701e5546e\n",
      "  Preparing metadata (setup.py): started\n",
      "  Preparing metadata (setup.py): finished with status 'done'\n",
      "Requirement already satisfied: tensorflow==2.9.3 in c:\\users\\gjaischool\\.conda\\envs\\nv38\\lib\\site-packages (from pykospacing==0.5) (2.9.3)\n",
      "Requirement already satisfied: h5py==3.1.0 in c:\\users\\gjaischool\\.conda\\envs\\nv38\\lib\\site-packages (from pykospacing==0.5) (3.1.0)\n",
      "Collecting argparse>=1.4.0 (from pykospacing==0.5)\n",
      "  Using cached argparse-1.4.0-py2.py3-none-any.whl (23 kB)\n",
      "Requirement already satisfied: numpy>=1.17.5 in c:\\users\\gjaischool\\.conda\\envs\\nv38\\lib\\site-packages (from h5py==3.1.0->pykospacing==0.5) (1.24.4)\n",
      "Requirement already satisfied: absl-py>=1.0.0 in c:\\users\\gjaischool\\.conda\\envs\\nv38\\lib\\site-packages (from tensorflow==2.9.3->pykospacing==0.5) (2.0.0)\n",
      "Requirement already satisfied: astunparse>=1.6.0 in c:\\users\\gjaischool\\.conda\\envs\\nv38\\lib\\site-packages (from tensorflow==2.9.3->pykospacing==0.5) (1.6.3)\n",
      "Requirement already satisfied: flatbuffers<2,>=1.12 in c:\\users\\gjaischool\\.conda\\envs\\nv38\\lib\\site-packages (from tensorflow==2.9.3->pykospacing==0.5) (1.12)\n",
      "Requirement already satisfied: gast<=0.4.0,>=0.2.1 in c:\\users\\gjaischool\\.conda\\envs\\nv38\\lib\\site-packages (from tensorflow==2.9.3->pykospacing==0.5) (0.4.0)\n",
      "Requirement already satisfied: google-pasta>=0.1.1 in c:\\users\\gjaischool\\.conda\\envs\\nv38\\lib\\site-packages (from tensorflow==2.9.3->pykospacing==0.5) (0.2.0)\n",
      "Requirement already satisfied: keras-preprocessing>=1.1.1 in c:\\users\\gjaischool\\.conda\\envs\\nv38\\lib\\site-packages (from tensorflow==2.9.3->pykospacing==0.5) (1.1.2)\n",
      "Requirement already satisfied: libclang>=13.0.0 in c:\\users\\gjaischool\\.conda\\envs\\nv38\\lib\\site-packages (from tensorflow==2.9.3->pykospacing==0.5) (16.0.6)\n",
      "Requirement already satisfied: opt-einsum>=2.3.2 in c:\\users\\gjaischool\\.conda\\envs\\nv38\\lib\\site-packages (from tensorflow==2.9.3->pykospacing==0.5) (3.3.0)\n",
      "Requirement already satisfied: packaging in c:\\users\\gjaischool\\.conda\\envs\\nv38\\lib\\site-packages (from tensorflow==2.9.3->pykospacing==0.5) (23.2)\n",
      "Requirement already satisfied: protobuf<3.20,>=3.9.2 in c:\\users\\gjaischool\\.conda\\envs\\nv38\\lib\\site-packages (from tensorflow==2.9.3->pykospacing==0.5) (3.19.6)\n",
      "Requirement already satisfied: setuptools in c:\\users\\gjaischool\\.conda\\envs\\nv38\\lib\\site-packages (from tensorflow==2.9.3->pykospacing==0.5) (68.0.0)\n",
      "Requirement already satisfied: six>=1.12.0 in c:\\users\\gjaischool\\.conda\\envs\\nv38\\lib\\site-packages (from tensorflow==2.9.3->pykospacing==0.5) (1.16.0)\n",
      "Requirement already satisfied: termcolor>=1.1.0 in c:\\users\\gjaischool\\.conda\\envs\\nv38\\lib\\site-packages (from tensorflow==2.9.3->pykospacing==0.5) (2.3.0)\n",
      "Requirement already satisfied: typing-extensions>=3.6.6 in c:\\users\\gjaischool\\.conda\\envs\\nv38\\lib\\site-packages (from tensorflow==2.9.3->pykospacing==0.5) (4.8.0)\n",
      "Requirement already satisfied: wrapt>=1.11.0 in c:\\users\\gjaischool\\.conda\\envs\\nv38\\lib\\site-packages (from tensorflow==2.9.3->pykospacing==0.5) (1.15.0)\n",
      "Requirement already satisfied: tensorflow-io-gcs-filesystem>=0.23.1 in c:\\users\\gjaischool\\.conda\\envs\\nv38\\lib\\site-packages (from tensorflow==2.9.3->pykospacing==0.5) (0.31.0)\n",
      "Requirement already satisfied: grpcio<2.0,>=1.24.3 in c:\\users\\gjaischool\\.conda\\envs\\nv38\\lib\\site-packages (from tensorflow==2.9.3->pykospacing==0.5) (1.59.0)\n",
      "Requirement already satisfied: tensorboard<2.10,>=2.9 in c:\\users\\gjaischool\\.conda\\envs\\nv38\\lib\\site-packages (from tensorflow==2.9.3->pykospacing==0.5) (2.9.1)\n",
      "Requirement already satisfied: tensorflow-estimator<2.10.0,>=2.9.0rc0 in c:\\users\\gjaischool\\.conda\\envs\\nv38\\lib\\site-packages (from tensorflow==2.9.3->pykospacing==0.5) (2.9.0)\n",
      "Requirement already satisfied: keras<2.10.0,>=2.9.0rc0 in c:\\users\\gjaischool\\.conda\\envs\\nv38\\lib\\site-packages (from tensorflow==2.9.3->pykospacing==0.5) (2.9.0)\n",
      "Requirement already satisfied: wheel<1.0,>=0.23.0 in c:\\users\\gjaischool\\.conda\\envs\\nv38\\lib\\site-packages (from astunparse>=1.6.0->tensorflow==2.9.3->pykospacing==0.5) (0.41.2)\n",
      "Requirement already satisfied: google-auth<3,>=1.6.3 in c:\\users\\gjaischool\\.conda\\envs\\nv38\\lib\\site-packages (from tensorboard<2.10,>=2.9->tensorflow==2.9.3->pykospacing==0.5) (2.23.3)\n",
      "Requirement already satisfied: google-auth-oauthlib<0.5,>=0.4.1 in c:\\users\\gjaischool\\.conda\\envs\\nv38\\lib\\site-packages (from tensorboard<2.10,>=2.9->tensorflow==2.9.3->pykospacing==0.5) (0.4.6)\n",
      "Requirement already satisfied: markdown>=2.6.8 in c:\\users\\gjaischool\\.conda\\envs\\nv38\\lib\\site-packages (from tensorboard<2.10,>=2.9->tensorflow==2.9.3->pykospacing==0.5) (3.5)\n",
      "Requirement already satisfied: requests<3,>=2.21.0 in c:\\users\\gjaischool\\.conda\\envs\\nv38\\lib\\site-packages (from tensorboard<2.10,>=2.9->tensorflow==2.9.3->pykospacing==0.5) (2.31.0)\n",
      "Requirement already satisfied: tensorboard-data-server<0.7.0,>=0.6.0 in c:\\users\\gjaischool\\.conda\\envs\\nv38\\lib\\site-packages (from tensorboard<2.10,>=2.9->tensorflow==2.9.3->pykospacing==0.5) (0.6.1)\n",
      "Requirement already satisfied: tensorboard-plugin-wit>=1.6.0 in c:\\users\\gjaischool\\.conda\\envs\\nv38\\lib\\site-packages (from tensorboard<2.10,>=2.9->tensorflow==2.9.3->pykospacing==0.5) (1.8.1)\n",
      "Requirement already satisfied: werkzeug>=1.0.1 in c:\\users\\gjaischool\\.conda\\envs\\nv38\\lib\\site-packages (from tensorboard<2.10,>=2.9->tensorflow==2.9.3->pykospacing==0.5) (3.0.1)\n",
      "Requirement already satisfied: cachetools<6.0,>=2.0.0 in c:\\users\\gjaischool\\.conda\\envs\\nv38\\lib\\site-packages (from google-auth<3,>=1.6.3->tensorboard<2.10,>=2.9->tensorflow==2.9.3->pykospacing==0.5) (5.3.2)\n",
      "Requirement already satisfied: pyasn1-modules>=0.2.1 in c:\\users\\gjaischool\\.conda\\envs\\nv38\\lib\\site-packages (from google-auth<3,>=1.6.3->tensorboard<2.10,>=2.9->tensorflow==2.9.3->pykospacing==0.5) (0.3.0)\n",
      "Requirement already satisfied: rsa<5,>=3.1.4 in c:\\users\\gjaischool\\.conda\\envs\\nv38\\lib\\site-packages (from google-auth<3,>=1.6.3->tensorboard<2.10,>=2.9->tensorflow==2.9.3->pykospacing==0.5) (4.9)\n",
      "Requirement already satisfied: requests-oauthlib>=0.7.0 in c:\\users\\gjaischool\\.conda\\envs\\nv38\\lib\\site-packages (from google-auth-oauthlib<0.5,>=0.4.1->tensorboard<2.10,>=2.9->tensorflow==2.9.3->pykospacing==0.5) (1.3.1)\n",
      "Requirement already satisfied: importlib-metadata>=4.4 in c:\\users\\gjaischool\\.conda\\envs\\nv38\\lib\\site-packages (from markdown>=2.6.8->tensorboard<2.10,>=2.9->tensorflow==2.9.3->pykospacing==0.5) (6.8.0)\n",
      "Requirement already satisfied: charset-normalizer<4,>=2 in c:\\users\\gjaischool\\.conda\\envs\\nv38\\lib\\site-packages (from requests<3,>=2.21.0->tensorboard<2.10,>=2.9->tensorflow==2.9.3->pykospacing==0.5) (3.3.1)\n",
      "Requirement already satisfied: idna<4,>=2.5 in c:\\users\\gjaischool\\.conda\\envs\\nv38\\lib\\site-packages (from requests<3,>=2.21.0->tensorboard<2.10,>=2.9->tensorflow==2.9.3->pykospacing==0.5) (3.4)\n",
      "Requirement already satisfied: urllib3<3,>=1.21.1 in c:\\users\\gjaischool\\.conda\\envs\\nv38\\lib\\site-packages (from requests<3,>=2.21.0->tensorboard<2.10,>=2.9->tensorflow==2.9.3->pykospacing==0.5) (2.0.7)\n",
      "Requirement already satisfied: certifi>=2017.4.17 in c:\\users\\gjaischool\\.conda\\envs\\nv38\\lib\\site-packages (from requests<3,>=2.21.0->tensorboard<2.10,>=2.9->tensorflow==2.9.3->pykospacing==0.5) (2023.7.22)\n",
      "Requirement already satisfied: MarkupSafe>=2.1.1 in c:\\users\\gjaischool\\.conda\\envs\\nv38\\lib\\site-packages (from werkzeug>=1.0.1->tensorboard<2.10,>=2.9->tensorflow==2.9.3->pykospacing==0.5) (2.1.3)\n",
      "Requirement already satisfied: zipp>=0.5 in c:\\users\\gjaischool\\.conda\\envs\\nv38\\lib\\site-packages (from importlib-metadata>=4.4->markdown>=2.6.8->tensorboard<2.10,>=2.9->tensorflow==2.9.3->pykospacing==0.5) (3.17.0)\n",
      "Requirement already satisfied: pyasn1<0.6.0,>=0.4.6 in c:\\users\\gjaischool\\.conda\\envs\\nv38\\lib\\site-packages (from pyasn1-modules>=0.2.1->google-auth<3,>=1.6.3->tensorboard<2.10,>=2.9->tensorflow==2.9.3->pykospacing==0.5) (0.5.0)\n",
      "Requirement already satisfied: oauthlib>=3.0.0 in c:\\users\\gjaischool\\.conda\\envs\\nv38\\lib\\site-packages (from requests-oauthlib>=0.7.0->google-auth-oauthlib<0.5,>=0.4.1->tensorboard<2.10,>=2.9->tensorflow==2.9.3->pykospacing==0.5) (3.2.2)\n",
      "Installing collected packages: argparse\n",
      "Successfully installed argparse-1.4.0\n"
     ]
    },
    {
     "name": "stderr",
     "output_type": "stream",
     "text": [
      "  Running command git clone --filter=blob:none --quiet https://github.com/haven-jeon/PyKoSpacing.git 'C:\\Users\\GJAISCHOOL\\AppData\\Local\\Temp\\pip-req-build-l26d0lku'\n"
     ]
    },
    {
     "name": "stdout",
     "output_type": "stream",
     "text": [
      "Name: soynlp\n",
      "Version: 0.0.493\n",
      "Summary: Unsupervised Korean Natural Language Processing Toolkits\n",
      "Home-page: https://github.com/lovit/soynlp\n",
      "Author: Lovit\n",
      "Author-email: soy.lovit@gmail.com\n",
      "License: UNKNOWN\n",
      "Location: c:\\users\\gjaischool\\.conda\\envs\\nv38\\lib\\site-packages\n",
      "Requires: numpy, psutil, scikit-learn, scipy\n",
      "Required-by: \n",
      "---\n",
      "Name: requests\n",
      "Version: 2.31.0\n",
      "Summary: Python HTTP for Humans.\n",
      "Home-page: https://requests.readthedocs.io\n",
      "Author: Kenneth Reitz\n",
      "Author-email: me@kennethreitz.org\n",
      "License: Apache 2.0\n",
      "Location: c:\\users\\gjaischool\\.conda\\envs\\nv38\\lib\\site-packages\n",
      "Requires: certifi, charset-normalizer, idna, urllib3\n",
      "Required-by: huggingface-hub, requests-oauthlib, tensorboard, transformers\n",
      "---\n",
      "Name: tensorflow\n",
      "Version: 2.9.3\n",
      "Summary: TensorFlow is an open source machine learning framework for everyone.\n",
      "Home-page: https://www.tensorflow.org/\n",
      "Author: Google Inc.\n",
      "Author-email: packages@tensorflow.org\n",
      "License: Apache 2.0\n",
      "Location: c:\\users\\gjaischool\\.conda\\envs\\nv38\\lib\\site-packages\n",
      "Requires: absl-py, astunparse, flatbuffers, gast, google-pasta, grpcio, h5py, keras, keras-preprocessing, libclang, numpy, opt-einsum, packaging, protobuf, setuptools, six, tensorboard, tensorflow-estimator, tensorflow-io-gcs-filesystem, termcolor, typing-extensions, wrapt\n",
      "Required-by: pykospacing\n",
      "---\n",
      "Name: pandas\n",
      "Version: 2.0.3\n",
      "Summary: Powerful data structures for data analysis, time series, and statistics\n",
      "Home-page: \n",
      "Author: \n",
      "Author-email: The Pandas Development Team <pandas-dev@python.org>\n",
      "License: BSD 3-Clause License\n",
      "        \n",
      "        Copyright (c) 2008-2011, AQR Capital Management, LLC, Lambda Foundry, Inc. and PyData Development Team\n",
      "        All rights reserved.\n",
      "        \n",
      "        Copyright (c) 2011-2023, Open source contributors.\n",
      "        \n",
      "        Redistribution and use in source and binary forms, with or without\n",
      "        modification, are permitted provided that the following conditions are met:\n",
      "        \n",
      "        * Redistributions of source code must retain the above copyright notice, this\n",
      "          list of conditions and the following disclaimer.\n",
      "        \n",
      "        * Redistributions in binary form must reproduce the above copyright notice,\n",
      "          this list of conditions and the following disclaimer in the documentation\n",
      "          and/or other materials provided with the distribution.\n",
      "        \n",
      "        * Neither the name of the copyright holder nor the names of its\n",
      "          contributors may be used to endorse or promote products derived from\n",
      "          this software without specific prior written permission.\n",
      "        \n",
      "        THIS SOFTWARE IS PROVIDED BY THE COPYRIGHT HOLDERS AND CONTRIBUTORS \"AS IS\"\n",
      "        AND ANY EXPRESS OR IMPLIED WARRANTIES, INCLUDING, BUT NOT LIMITED TO, THE\n",
      "        IMPLIED WARRANTIES OF MERCHANTABILITY AND FITNESS FOR A PARTICULAR PURPOSE ARE\n",
      "        DISCLAIMED. IN NO EVENT SHALL THE COPYRIGHT HOLDER OR CONTRIBUTORS BE LIABLE\n",
      "        FOR ANY DIRECT, INDIRECT, INCIDENTAL, SPECIAL, EXEMPLARY, OR CONSEQUENTIAL\n",
      "        DAMAGES (INCLUDING, BUT NOT LIMITED TO, PROCUREMENT OF SUBSTITUTE GOODS OR\n",
      "        SERVICES; LOSS OF USE, DATA, OR PROFITS; OR BUSINESS INTERRUPTION) HOWEVER\n",
      "        CAUSED AND ON ANY THEORY OF LIABILITY, WHETHER IN CONTRACT, STRICT LIABILITY,\n",
      "        OR TORT (INCLUDING NEGLIGENCE OR OTHERWISE) ARISING IN ANY WAY OUT OF THE USE\n",
      "        OF THIS SOFTWARE, EVEN IF ADVISED OF THE POSSIBILITY OF SUCH DAMAGE.\n",
      "        \n",
      "Location: c:\\users\\gjaischool\\.conda\\envs\\nv38\\lib\\site-packages\n",
      "Requires: numpy, python-dateutil, pytz, tzdata\n",
      "Required-by: \n",
      "---\n",
      "Name: openpyxl\n",
      "Version: 3.1.2\n",
      "Summary: A Python library to read/write Excel 2010 xlsx/xlsm files\n",
      "Home-page: https://openpyxl.readthedocs.io\n",
      "Author: See AUTHORS\n",
      "Author-email: charlie.clark@clark-consulting.eu\n",
      "License: MIT\n",
      "Location: c:\\users\\gjaischool\\.conda\\envs\\nv38\\lib\\site-packages\n",
      "Requires: et-xmlfile\n",
      "Required-by: \n",
      "---\n",
      "Name: pykospacing\n",
      "Version: 0.5\n",
      "Summary: Python package for automatic Korean word spacing.\n",
      "Home-page: https://github.com/haven-jeon/PyKoSpacing\n",
      "Author: Heewon Jeon\n",
      "Author-email: madjakarta@gmail.com\n",
      "License: GPL-3\n",
      "Location: c:\\users\\gjaischool\\.conda\\envs\\nv38\\lib\\site-packages\n",
      "Requires: argparse, h5py, tensorflow\n",
      "Required-by: \n"
     ]
    }
   ],
   "source": [
    "# !pip install soynlp==0.0493\n",
    "# !pip install requests==2.13.0\n",
    "# !pip install tensorflow==2.9.3\n",
    "# !pip install pandas==2.0.3\n",
    "# !pip install openpyxl==3.1.2\n",
    "# !pip install git+https://github.com/haven-jeon/PyKoSpacing.git\n",
    "\n",
    "# !pip show soynlp requests tensorflow pandas openpyxl PyKoSpacing"
   ]
  },
  {
   "cell_type": "code",
   "execution_count": 9,
   "metadata": {},
   "outputs": [
    {
     "name": "stdout",
     "output_type": "stream",
     "text": [
      "['18년', '18놈', '18새끼', 'ㄱㅐㅅㅐㄲl', 'ㄱㅐㅈㅏ', '가슴만져', '가슴빨아', '가슴빨어', '가슴조물락', '가슴주물럭', '가슴쪼물딱', '가슴쪼물락', '가슴핧아', '가슴핧어', '강간', '개가튼년', '개가튼뇬', '개같은년', '개걸레', '개고치', '개너미', '개넘', '개년', '개놈', '개늠', '개똥', '개떵', '개떡', '개라슥', '개보지', '개부달', '개부랄', '개불랄', '개붕알', '개새', '개세', '개쓰래기', '개쓰레기', '개씁년', '개씁블', '개씁자지', '개씨발', '개씨블', '개자식', '개자지', '개잡년', '개젓가튼넘', '개좆', '개지랄', '개후라년', '개후라들놈', '개후라새끼', '걔잡년', '거시기', '걸래년', '걸레같은년', '걸레년', '걸레핀년', '게부럴', '게세끼', '게이', '게새끼', '게늠', '게자식', '게지랄놈', '고환', '귀두', '깨쌔끼', '난자마셔', '난자먹어', '난자핧아', '내꺼빨아', '내꺼핧아', '내버지', '내자지', '내잠지', '내조지', '너거애비', '노옴', '누나강간', '니기미', '니뿡', '니뽕', '니씨브랄', '니아범', '니아비', '니애미', '니애뷔', '니애비', '니할애비', '닝기미', '닌기미', '니미', '닳은년', '덜은새끼', '돈새끼', '돌으년', '돌은넘', '돌은새끼', '동생강간', '동성애자', '딸딸이', '똥구녁', '똥꾸뇽', '똥구뇽', '띠발뇬', '띠팔', '띠펄', '띠풀', '띠벌', '띠벨', '띠빌', '막대쑤셔줘', '막대핧아줘', '맛간년', '맛없는년', '맛이간년', '미친구녕', '미친구멍', '미친넘', '미친년', '미친놈', '미친눔', '미친새끼', '미친쇄리', '미친쇠리', '미친쉐이', '미친씨부랄', '미튄', '미티넘', '미틴', '미틴넘', '미틴년', '미틴놈', '미틴것', '백보지', '버따리자지', '버지구녕', '버지구멍', '버지냄새', '버지따먹기', '버지뚫어', '버지뜨더', '버지물마셔', '버지벌려', '버지벌료', '버지빨아', '버지빨어', '버지썰어', '버지쑤셔', '버지털', '버지핧아', '버짓물', '버짓물마셔', '벌창같은년', '벵신', '병닥', '병딱', '병신', '보쥐', '보지', '보지핧어', '보짓물', '보짓물마셔', '봉알', '부랄', '불알', '붕알', '붜지', '뷩딱', '븅쉰', '븅신', '빙띤', '빙신', '빠가십새', '빠가씹새', '빠구리', '빠굴이', '뻑큐', '뽕알', '뽀지', '뼝신', '사까시', '상년', '새꺄', '새뀌', '새끼', '색갸', '색끼', '색스', '색키', '샤발', '써글', '써글년', '성교', '세꺄', '세끼', '섹스', '섹스하자', '섹스해', '섹쓰', '섹히', '수셔', '쑤셔', '쉐끼', '쉑갸', '쉑쓰', '쉬발', '쉬방', '쉬밸년', '쉬벌', '쉬불', '쉬붕', '쉬빨', '쉬이발', '쉬이방', '쉬이벌', '쉬이불', '쉬이붕', '쉬이빨', '쉬이팔', '쉬이펄', '쉬이풀', '쉬팔', '쉬펄', '쉬풀', '쉽쌔', '시댕이', '시발', '시발년', '시발놈', '시발새끼', '시방새', '시밸', '시벌', '시불', '시붕', '시이발', '시이벌', '시이불', '시이붕', '시이팔', '시이펄', '시이풀', '시팍새끼', '시팔', '시팔넘', '시팔년', '시팔놈', '시팔새끼', '시펄', '실프', '십8', '십때끼', '십떼끼', '십버지', '십부랄', '십부럴', '십새', '십세이', '십셰리', '십쉐', '십자석', '십자슥', '십지랄', '십창녀', '십창', '십탱', '십탱구리', '십탱굴이', '느금마', '느금빠', '십팔새끼', 'ㅆㅂ', 'ㅆㅂㄹㅁ', 'ㅆㅂㄻ', 'ㅆㅣ', '쌍넘', '쌍년', '쌍놈', '쌍눔', '쌍보지', '쌔끼', '쌔리', '쌕스', '쌕쓰', '썅년', '썅놈', '썅뇬', '썅늠', '쓉새', '쓰바새끼', '쓰브랄쉽세', '씌발', '씌팔', '씨가랭넘', '씨가랭년', '씨가랭놈', '씨발', '씨발년', '씨발롬', '씨발병신', '씨방새', '씨방세', '씨밸', '씨뱅가리', '씨벌', '씨벌년', '씨벌쉐이', '씨부랄', '씨부럴', '씨불', '씨불알', '씨붕', '씨브럴', '씨블', '씨블년', '씨븡새끼', '씨빨', '씨이발', '씨이벌', '씨이불', '씨이붕', '씨이팔', '씨파넘', '씨팍새끼', '씨팍세끼', '씨팔', '씨펄', '씨퐁넘', '씨퐁뇬', '씨퐁보지', '씨퐁자지', '씹년', '씹물', '씹미랄', '씹버지', '씹보지', '씹부랄', '씹브랄', '씹빵구', '씹뽀지', '씹새', '씹새끼', '씹세', '씹쌔끼', '씹자석', '씹자슥', '씹자지', '씹지랄', '씹창', '씹창녀', '씹탱', '씹탱굴이', '씹탱이', '씹팔', '아가리', '애무', '애미', '애미랄', '애미보지', '애미씨뱅', '애미자지', '애미잡년', '애미좃물', '애비', '애자', '양아치', '어미강간', '어미따먹자', '어미쑤시자', '영자', '엄창', '에미', '에비', '염병', '염병할', '염뵹', '엿먹어라', '오랄', '오르가즘', '왕버지', '왕자지', '왕잠지', '왕털버지', '왕털보지', '왕털자지', '왕털잠지', '우미쑤셔', '운디네', '유두', '유두빨어', '유두핧어', '유방', '유방만져', '유방빨아', '유방주물럭', '유방쪼물딱', '유방쪼물럭', '유방핧아', '유방핧어', '이년', '자기핧아', '자지', '자지구녕', '자지구멍', '자지꽂아', '자지넣자', '자지뜨더', '자지뜯어', '자지박어', '자지빨아', '자지빨아줘', '자지빨어', '자지쑤셔', '자지쓰레기', '자지정개', '자지짤라', '자지털', '자지핧아', '자지핧아줘', '자지핧어', '작은보지', '잠지', '잠지뚫어', '잠지물마셔', '잠지털', '잠짓물마셔', '잡년', '잡놈', '저년', '점물', '젓가튼', '젓가튼쉐이', '젓같내', '젓같은', '젓까', '젓나', '젓냄새', '젓대가리', '젓떠', '젓마무리', '젓만이', '젓물', '젓물냄새', '젓밥', '정액마셔', '정액먹어', '정액발사', '정액짜', '정액핧아', '정자마셔', '정자먹어', '정자핧아', '젖같은', '젖까', '젖밥', '젖탱이', '조개넓은년', '조개따조', '조개마셔줘', '조개벌려조', '조개속물', '조개쑤셔줘', '조개핧아줘', '조까', '조또', '족같내', '족까', '족까내', '존나', '존나게', '존니', '졸라', '좀마니', '좀물', '좀쓰레기', '좁빠라라', '좃가튼뇬', '좃간년', '좃까', '좃까리', '좃깟네', '좃냄새', '좃넘', '좃대가리', '좃도', '좃또', '좃만아', '좃만이', '좃만한것', '좃만한쉐이', '좃물', '좃물냄새', '좃보지', '좃부랄', '좃빠구리', '좃빠네', '좃빠라라', '좃털', '좆같은놈', '좆같은새끼', '좆까', '좆까라', '좆나', '좆년', '좆도', '좆만아', '좆만한년', '좆만한놈', '좆만한새끼', '좆먹어', '좆물', '좆밥', '좆빨아', '좆새끼', '좆털', '좋만한것', '주글년', '주길년', '쥐랄', '지랄', '지랼', '지럴', '지뢀', '쪼까튼', '쪼다', '쪼다새끼', '찌랄', '찌질이', '창남', '창녀', '창녀버지', '창년', '처먹고', '처먹을', '쳐먹고', '쳐쑤셔박어', '촌씨브라리', '촌씨브랑이', '촌씨브랭이', '크리토리스', '큰보지', '클리토리스', '트랜스젠더', '페니스', '10새', '10새기', '10새리', '10세리', '10쉐이', '10쉑', '10스', '10쌔', '10쌔기', '10쎄', '10알', '10창', '10탱', '18', '18것', '18넘', '18노', '18뇬', '18럼', '18롬', '18새', '18색', '18세끼', '18세리', '18섹', '18쉑', '18스', '18아', 'G스팟', 'X끼', 'ass', 'bitch', 'bogi', 'boji', 'bozi', 'damm', 'fuck', 'g랄', 'jaji', 'jazi', 'jot', 'oral', 'sex', 'shit', 'shutup', 'sibal', 'sipal', 'si발', 'ssiba', 'suck', 'tlqkf', 'wtf', 'zot', 'z랄', 'ㄱㅐ', 'ㄲㅈ', 'ㄲㅏ', 'ㄲㅑ', 'ㄲㅣ', 'ㅁㅊ', 'ㅂㅅ', 'ㅄ', 'ㅅㅂ', 'ㅅㅂㄹㅁ', 'ㅅㅍ', 'ㅅㅐ', 'ㅆㅍ', 'ㅆ앙', 'ㅈㄹ', 'ㅍㅏ', 'ㅗ', '凸', '간나', '갈보', '같은년', '같은뇬', '개가튼넘', '개같네', '개같은', '개구라', '개뇬', '개대중', '개독', '개돼중', '개랄', '개뻥', '개뿔', '개새기', '개새끼', '개새키', '개색기', '개색끼', '개색키', '개색히', '개섀끼', '개세끼', '개세이', '개소리', '개쇳기', '개수작', '개쉐', '개쉐리', '개쉐이', '개쉑', '개쉽', '개스끼', '개시키', '개십새기', '개십새끼', '개쌔끼', '개쐑', '개쑈', '개씹', '개아들', '개자슥', '개접', '개좌식', '개처럼', '개허접', '걔새', '걔수작', '걔시끼', '걔시키', '걔썌', '걸레년', '게색기', '게색끼', '고츄', '곧츄', '곧휴', '곶츄', '곶휴', '광뇬', '구녕', '구라', '구멍', '그년', '그새끼', '까러', '깔어', '꺼져', '껃여', '껃져', '껒여', '꼬봉', '꼬우냐', '꼬추', '고추', '꼬츄', '꼳츄', '꼳휴', '꼴린다', '꼽냐', '꼽다', '꼽사리', '꽂추', '꽂츄', '냄비', '녜미', '놈현', '뇬', '눈까러', '눈깔', '눈깔어', '뉘미럴', '늬미', '늬미럴', '니귀미', '니미랄', '니미럴', '니미씹', '니아배', '니아베', '니어매', '니어메', '니엄마', '니어미', '닝기리', '닥쳐', '닥쵸', '닭쳐', '대가리', '대갈', '뎡신', '도라이', '돈놈', '돌아이', '돌은놈', '되질래', '뒈져', '뒈져라', '뒈진', '뒈진다', '뒈질', '뒤질래', '등신', '디져라', '디진다', '디질래', '딩시', '따식', '때놈', '또라이', '똘기', '똘아이', '똘추', '뙈놈', '뙤놈', '뙨넘', '뙨놈', '뚜쟁', '띠바', '띠발', '띠불', '랄지', '메친넘', '메친놈', '미췬', '미친', '미친스까이', '바랄년', '뱅마', '뱅신', '벼엉신', '병쉰', '병자', '부럴', '불할', '붕가', '붙어먹', '뷰웅', '븅', '빌어먹', '빌어먹을', '빙시', '빠가', '빠굴', '빠큐', '빡유', '빸유', '뻐큐', '뽀찌', '뽁큐', '삐리리', '사까아시', '사까아시이', '삿갓이', '상넘이', '상놈을', '상놈의', '상놈이', '새X', '새갸', '새새끼', '새키', '생쑈', '샫업', '샷업', '성노예', '세갸', '쇅끼', '쇡끼', '쇼하네', '쉐', '쉐기', '쉐리', '쉐에기', '쉐키', '쉑', '쉣', '쉨', '쉬박', '쉬밸', '쉬빡', '쉬뻘', '쉬탱', '쉬팍', '쉽세', '쉽알', '슈바', '슈발', '스패킹', '스팽', '시bal', '시끼', '시댕', '시뎅', '시랄', '시바', '시방', '시밬', '시부랄', '시부럴', '시부리', '시브랄', '시팍', '신발끈', '심발끈', '심탱', '십라', '십새끼', '십세', '십쉐이', '십스키', '십쌔', '싶알', '싸가지', '싹아지', '쌉년', '쌍뇬', '쌍쌍보지', '쌕', '쌩쑈', '쌰럽', '쌴년', '썅', '썡쇼', '써벌', '썩을년', '썩을놈', '쎄꺄', '쎄엑', '쎄엑스', '쎅쓰', '쑤시자', '쑤우시자', '쒸벌', '쒸뻘', '쒸팔', '쒸펄', '쓰바', '쓰박', '쓰발', '쓰벌', '쓰파', '쓰팔', '씁새', '씁얼', '씌파', '씨8', '씨가랭', '씨끼', '씨댕', '씨뎅', '씨바', '씨바랄', '씨박', '씨방', '씨뱅', '씨벨', '씨봉', '씨봉알', '씨부렁', '씨부리', '씨브랄', '씨빠', '씨뽀랄', '씨앙', '씨엑스', '씨파', '씨팍', '씨퐁', '씸년', '씸뇬', '씸새끼', '씹같', '씹뇬', '씹덕', '씹덕후', '씹새기', '씹새리', '씹쉐', '씹스키', '씹쌔', '씹이', '씹질', '씹퇭', '씹할', '씹헐', '아갈', '아갈빡', '아갈이', '아갈통', '아구창', '아구통', '아굴', '아닥', '아헤가오', '앰창', '얌마', '양넘', '양년', '양놈', '엠병', '엠창', '여물통', '염창', '엿같', '옘병', '옘빙', '오라질', '오라질년', '오입', '왜년', '왜놈', '욤병', '은년', '을년', '이새끼', '이새키', '이스끼', '이스키', '임마', '입싸', '자슥', '잡것', '잡넘', '저새끼', '접년', '정액', '젖꼭지', '젖꼮찌', '조까치', '조낸', '조랭', '조빠', '조쟁이', '조지냐', '조진다', '조질래', '조찐', '존만', '존만한', '졸래', '좁년', '좁밥', '좃', '좃만', '좃밥', '좃이', '좃찐', '좆', '좆같', '좆또', '좆만', '좆이', '좆찐', '좇같', '좇이', '좋같은', '좋만', '좌식', '주글', '주글래', '주데이', '주뎅', '주뎅이', '주둥아리', '주디', '주접', '주접떨', '죽고잡', '죽을래', '죽통', '쥐롤', '쥬디', '지X', '지ral', '지롤', '지미랄', '지스팟', '질싸', '짜식', '짜아식', '짜지', '짜찌', '쫍빱', '창놈', '쳐닥', '촌년', '촌놈', '캐년', '캐놈', '캐스끼', '캐스키', '캐시키', '탱구', '팔럼', '퍽큐', '헐보', '호구', '호로', '후라덜', '후라들', '후래자식', '후레자식', '후레', '후뢰', '후장', '새애액스', '세에엑스', '세애액스', '새에액스', '샥스', '쎽', '쎡', '쎾', '쏐', '쒝', '쒞', '챵년', '항문수셔', '항문쑤셔', '허덥', '허버리년', '허벌년', '허벌보지', '허벌자식', '허벌자지', '허접', '허젚', '허졉', '허좁', '헐렁보지', '혀로보지핧기', '호냥년', '호로새끼', '호로자슥', '호로자식', '호로짜식', '호루자슥', '호모', '호졉', '호좁', '후라덜넘', '후장꽂아', '후장뚫어', '흐접', '흐젚', '흐졉', 'fuckyou', 'nflavor', 'penis', 'pennis', 'pussy', '거유', '계집년', '고자', '근친', '노모', '때씹', '로리타', '망가', '스와핑', '씨발놈', '씹', '씹빨', '씹알', '암캐', '야사', '야애니', '에로', '유모', '은꼴', '자위', '종간나', '죽일년', '쥐좆', '직촬', '짱깨', '쪽바리', '포르노', '하드코어', '화냥년', '후레아들', '희쭈그리', '^l발', 'ㅅㅣ발', '^ㅣ발', '^^ㅣ발', '^ㅣ빨', '^^ㅣ빨', '육덕 ', '정신이상자 ', '몸값 ', '바보 ', '멍청 ', '따까리 ', '면상 ', '느자구 ', '귓빵망이 ', '귓빵맹이 ', '귓방망이 ', '싸갈탱 ', '거렁뱅이 ', '급식충 ', '꼴통 ', '니거 ', '나가 죽어 ', '똘만이 ', '빰맞을래 ', '야먀돌게하네 ', '뚜껑 열리게하네 ', '알빠 ', 'fuck ', '이기야 ', '레즈 ']\n"
     ]
    }
   ],
   "source": [
    "import pandas as pd\n",
    "\n",
    "# Excel 파일 읽기\n",
    "file_path = r'C:\\Users\\GJAISCHOOL\\Desktop\\X_filter\\알고리즘\\욕 데이터\\word_list.xlsx'\n",
    "df = pd.read_excel(file_path)\n",
    "\n",
    "# 워드 칼럼 값 추출하여 리스트에 저장\n",
    "word_list = df['WORD'].tolist()\n",
    "\n",
    "# word_list에 데이터가 저장되었습니다.\n",
    "print(word_list)\n"
   ]
  },
  {
   "cell_type": "code",
   "execution_count": 10,
   "metadata": {},
   "outputs": [],
   "source": [
    "import re\n",
    "from soynlp.normalizer import repeat_normalize\n",
    "from pykospacing import Spacing\n",
    "\n",
    "# 특수문자 제거\n",
    "def cleanse(text):\n",
    "    pattern = re.compile(r'\\s+')\n",
    "    text = re.sub(pattern, ' ', text)\n",
    "    text = re.sub('[^가-힣ㄱ-ㅎㅏ|a-zA-Z0-9]', '', text)\n",
    "    return text\n"
   ]
  },
  {
   "cell_type": "code",
   "execution_count": 11,
   "metadata": {},
   "outputs": [
    {
     "name": "stdout",
     "output_type": "stream",
     "text": [
      "믿고있었다구우쥐엔자아아아t씨발이게맞아기훈이형병1신같아아앙아아앙ㅋㅋ\n"
     ]
    }
   ],
   "source": [
    "spacing = Spacing()\n",
    "\n",
    "# 중복 제거\n",
    "def clean_and_repeat_normalize(text):\n",
    "    cleansed_text = cleanse(text)\n",
    "    normalized_text = repeat_normalize(cleansed_text, num_repeats=2)\n",
    "    input_data = re.sub(r'\\d', '', normalized_text)\n",
    "    # normalized_text = spacing(input_data)\n",
    "    return normalized_text\n",
    "\n",
    "input_text = '믿고 있$었다#구우 쥐엔@자아아아t씨발이게맞아? 기훈이형!!!병1신같아아!아아아앙아아아아아앙 ㅋㅋㅋㅋㅋㅋㅋㅋ'\n",
    "result = clean_and_repeat_normalize(input_text)\n",
    "print(result)"
   ]
  },
  {
   "cell_type": "code",
   "execution_count": 12,
   "metadata": {},
   "outputs": [
    {
     "name": "stdout",
     "output_type": "stream",
     "text": [
      "TLQKF이게맞아\n"
     ]
    }
   ],
   "source": [
    "input_text = clean_and_repeat_normalize(input())\n",
    "print(input_text)"
   ]
  },
  {
   "cell_type": "code",
   "execution_count": 14,
   "metadata": {},
   "outputs": [
    {
     "name": "stdout",
     "output_type": "stream",
     "text": [
      "해당 글은 비속어가 없습니다.\n",
      "TLQKF이게맞아\n"
     ]
    }
   ],
   "source": [
    "found_bad_words = False\n",
    "censored_text = input_text\n",
    "\n",
    "for bad_word in word_list:\n",
    "    if bad_word in censored_text:\n",
    "        found_bad_words = True\n",
    "        censored_text = censored_text.replace(bad_word, '*' * len(bad_word))\n",
    "\n",
    "if found_bad_words:\n",
    "    print(\"해당 글에는 비속어가 포함돼 있습니다.\")\n",
    "    print(\"처리된 텍스트:\")\n",
    "    print(censored_text)\n",
    "else:\n",
    "    print(\"해당 글은 비속어가 없습니다.\")\n",
    "    print(input_text)\n"
   ]
  },
  {
   "cell_type": "code",
   "execution_count": null,
   "metadata": {},
   "outputs": [],
   "source": []
  },
  {
   "cell_type": "code",
   "execution_count": null,
   "metadata": {},
   "outputs": [],
   "source": []
  },
  {
   "cell_type": "code",
   "execution_count": null,
   "metadata": {},
   "outputs": [],
   "source": []
  }
 ],
 "metadata": {
  "kernelspec": {
   "display_name": "deep_learing",
   "language": "python",
   "name": "python3"
  },
  "language_info": {
   "codemirror_mode": {
    "name": "ipython",
    "version": 3
   },
   "file_extension": ".py",
   "mimetype": "text/x-python",
   "name": "python",
   "nbconvert_exporter": "python",
   "pygments_lexer": "ipython3",
   "version": "3.8.18"
  }
 },
 "nbformat": 4,
 "nbformat_minor": 2
}
