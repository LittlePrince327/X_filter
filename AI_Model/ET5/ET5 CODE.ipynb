{
 "cells": [
  {
   "cell_type": "code",
   "execution_count": 1,
   "metadata": {},
   "outputs": [
    {
     "name": "stdout",
     "output_type": "stream",
     "text": [
      "Requirement already satisfied: tensorflow==2.11 in c:\\users\\gjaischool1\\appdata\\roaming\\python\\python38\\site-packages (2.11.0)\n",
      "Requirement already satisfied: tensorflow-intel==2.11.0 in c:\\users\\gjaischool1\\appdata\\roaming\\python\\python38\\site-packages (from tensorflow==2.11) (2.11.0)\n",
      "Requirement already satisfied: absl-py>=1.0.0 in c:\\users\\gjaischool1\\anaconda3\\envs\\kcelec\\lib\\site-packages (from tensorflow-intel==2.11.0->tensorflow==2.11) (2.0.0)\n",
      "Requirement already satisfied: astunparse>=1.6.0 in c:\\users\\gjaischool1\\anaconda3\\envs\\kcelec\\lib\\site-packages (from tensorflow-intel==2.11.0->tensorflow==2.11) (1.6.3)\n",
      "Requirement already satisfied: flatbuffers>=2.0 in c:\\users\\gjaischool1\\anaconda3\\envs\\kcelec\\lib\\site-packages (from tensorflow-intel==2.11.0->tensorflow==2.11) (23.5.26)\n",
      "Requirement already satisfied: gast<=0.4.0,>=0.2.1 in c:\\users\\gjaischool1\\anaconda3\\envs\\kcelec\\lib\\site-packages (from tensorflow-intel==2.11.0->tensorflow==2.11) (0.4.0)\n",
      "Requirement already satisfied: google-pasta>=0.1.1 in c:\\users\\gjaischool1\\anaconda3\\envs\\kcelec\\lib\\site-packages (from tensorflow-intel==2.11.0->tensorflow==2.11) (0.2.0)\n",
      "Requirement already satisfied: h5py>=2.9.0 in c:\\users\\gjaischool1\\anaconda3\\envs\\kcelec\\lib\\site-packages (from tensorflow-intel==2.11.0->tensorflow==2.11) (3.1.0)\n",
      "Requirement already satisfied: libclang>=13.0.0 in c:\\users\\gjaischool1\\anaconda3\\envs\\kcelec\\lib\\site-packages (from tensorflow-intel==2.11.0->tensorflow==2.11) (16.0.6)\n",
      "Requirement already satisfied: numpy>=1.20 in c:\\users\\gjaischool1\\anaconda3\\envs\\kcelec\\lib\\site-packages (from tensorflow-intel==2.11.0->tensorflow==2.11) (1.24.4)\n",
      "Requirement already satisfied: opt-einsum>=2.3.2 in c:\\users\\gjaischool1\\anaconda3\\envs\\kcelec\\lib\\site-packages (from tensorflow-intel==2.11.0->tensorflow==2.11) (3.3.0)\n",
      "Requirement already satisfied: packaging in c:\\users\\gjaischool1\\anaconda3\\envs\\kcelec\\lib\\site-packages (from tensorflow-intel==2.11.0->tensorflow==2.11) (23.2)\n",
      "Requirement already satisfied: protobuf<3.20,>=3.9.2 in c:\\users\\gjaischool1\\anaconda3\\envs\\kcelec\\lib\\site-packages (from tensorflow-intel==2.11.0->tensorflow==2.11) (3.19.6)\n",
      "Requirement already satisfied: setuptools in c:\\users\\gjaischool1\\anaconda3\\envs\\kcelec\\lib\\site-packages (from tensorflow-intel==2.11.0->tensorflow==2.11) (68.0.0)\n",
      "Requirement already satisfied: six>=1.12.0 in c:\\users\\gjaischool1\\anaconda3\\envs\\kcelec\\lib\\site-packages (from tensorflow-intel==2.11.0->tensorflow==2.11) (1.16.0)\n",
      "Requirement already satisfied: termcolor>=1.1.0 in c:\\users\\gjaischool1\\anaconda3\\envs\\kcelec\\lib\\site-packages (from tensorflow-intel==2.11.0->tensorflow==2.11) (2.3.0)\n",
      "Requirement already satisfied: typing-extensions>=3.6.6 in c:\\users\\gjaischool1\\anaconda3\\envs\\kcelec\\lib\\site-packages (from tensorflow-intel==2.11.0->tensorflow==2.11) (4.8.0)\n",
      "Requirement already satisfied: wrapt>=1.11.0 in c:\\users\\gjaischool1\\anaconda3\\envs\\kcelec\\lib\\site-packages (from tensorflow-intel==2.11.0->tensorflow==2.11) (1.15.0)\n",
      "Requirement already satisfied: grpcio<2.0,>=1.24.3 in c:\\users\\gjaischool1\\anaconda3\\envs\\kcelec\\lib\\site-packages (from tensorflow-intel==2.11.0->tensorflow==2.11) (1.59.0)\n",
      "Requirement already satisfied: tensorboard<2.12,>=2.11 in c:\\users\\gjaischool1\\anaconda3\\envs\\kcelec\\lib\\site-packages (from tensorflow-intel==2.11.0->tensorflow==2.11) (2.11.2)\n",
      "Requirement already satisfied: tensorflow-estimator<2.12,>=2.11.0 in c:\\users\\gjaischool1\\anaconda3\\envs\\kcelec\\lib\\site-packages (from tensorflow-intel==2.11.0->tensorflow==2.11) (2.11.0)\n",
      "Requirement already satisfied: keras<2.12,>=2.11.0 in c:\\users\\gjaischool1\\anaconda3\\envs\\kcelec\\lib\\site-packages (from tensorflow-intel==2.11.0->tensorflow==2.11) (2.11.0)\n",
      "Requirement already satisfied: tensorflow-io-gcs-filesystem>=0.23.1 in c:\\users\\gjaischool1\\anaconda3\\envs\\kcelec\\lib\\site-packages (from tensorflow-intel==2.11.0->tensorflow==2.11) (0.31.0)\n",
      "Requirement already satisfied: wheel<1.0,>=0.23.0 in c:\\users\\gjaischool1\\anaconda3\\envs\\kcelec\\lib\\site-packages (from astunparse>=1.6.0->tensorflow-intel==2.11.0->tensorflow==2.11) (0.41.2)\n",
      "Requirement already satisfied: google-auth<3,>=1.6.3 in c:\\users\\gjaischool1\\anaconda3\\envs\\kcelec\\lib\\site-packages (from tensorboard<2.12,>=2.11->tensorflow-intel==2.11.0->tensorflow==2.11) (2.23.3)\n",
      "Requirement already satisfied: google-auth-oauthlib<0.5,>=0.4.1 in c:\\users\\gjaischool1\\anaconda3\\envs\\kcelec\\lib\\site-packages (from tensorboard<2.12,>=2.11->tensorflow-intel==2.11.0->tensorflow==2.11) (0.4.6)\n",
      "Requirement already satisfied: markdown>=2.6.8 in c:\\users\\gjaischool1\\anaconda3\\envs\\kcelec\\lib\\site-packages (from tensorboard<2.12,>=2.11->tensorflow-intel==2.11.0->tensorflow==2.11) (3.5)\n",
      "Requirement already satisfied: requests<3,>=2.21.0 in c:\\users\\gjaischool1\\anaconda3\\envs\\kcelec\\lib\\site-packages (from tensorboard<2.12,>=2.11->tensorflow-intel==2.11.0->tensorflow==2.11) (2.31.0)\n",
      "Requirement already satisfied: tensorboard-data-server<0.7.0,>=0.6.0 in c:\\users\\gjaischool1\\anaconda3\\envs\\kcelec\\lib\\site-packages (from tensorboard<2.12,>=2.11->tensorflow-intel==2.11.0->tensorflow==2.11) (0.6.1)\n",
      "Requirement already satisfied: tensorboard-plugin-wit>=1.6.0 in c:\\users\\gjaischool1\\anaconda3\\envs\\kcelec\\lib\\site-packages (from tensorboard<2.12,>=2.11->tensorflow-intel==2.11.0->tensorflow==2.11) (1.8.1)\n",
      "Requirement already satisfied: werkzeug>=1.0.1 in c:\\users\\gjaischool1\\anaconda3\\envs\\kcelec\\lib\\site-packages (from tensorboard<2.12,>=2.11->tensorflow-intel==2.11.0->tensorflow==2.11) (3.0.1)\n",
      "Requirement already satisfied: cachetools<6.0,>=2.0.0 in c:\\users\\gjaischool1\\anaconda3\\envs\\kcelec\\lib\\site-packages (from google-auth<3,>=1.6.3->tensorboard<2.12,>=2.11->tensorflow-intel==2.11.0->tensorflow==2.11) (5.3.2)\n",
      "Requirement already satisfied: pyasn1-modules>=0.2.1 in c:\\users\\gjaischool1\\anaconda3\\envs\\kcelec\\lib\\site-packages (from google-auth<3,>=1.6.3->tensorboard<2.12,>=2.11->tensorflow-intel==2.11.0->tensorflow==2.11) (0.3.0)\n",
      "Requirement already satisfied: rsa<5,>=3.1.4 in c:\\users\\gjaischool1\\anaconda3\\envs\\kcelec\\lib\\site-packages (from google-auth<3,>=1.6.3->tensorboard<2.12,>=2.11->tensorflow-intel==2.11.0->tensorflow==2.11) (4.9)\n",
      "Requirement already satisfied: requests-oauthlib>=0.7.0 in c:\\users\\gjaischool1\\anaconda3\\envs\\kcelec\\lib\\site-packages (from google-auth-oauthlib<0.5,>=0.4.1->tensorboard<2.12,>=2.11->tensorflow-intel==2.11.0->tensorflow==2.11) (1.3.1)\n",
      "Requirement already satisfied: importlib-metadata>=4.4 in c:\\users\\gjaischool1\\anaconda3\\envs\\kcelec\\lib\\site-packages (from markdown>=2.6.8->tensorboard<2.12,>=2.11->tensorflow-intel==2.11.0->tensorflow==2.11) (6.8.0)\n",
      "Requirement already satisfied: charset-normalizer<4,>=2 in c:\\users\\gjaischool1\\anaconda3\\envs\\kcelec\\lib\\site-packages (from requests<3,>=2.21.0->tensorboard<2.12,>=2.11->tensorflow-intel==2.11.0->tensorflow==2.11) (3.3.1)\n",
      "Requirement already satisfied: idna<4,>=2.5 in c:\\users\\gjaischool1\\anaconda3\\envs\\kcelec\\lib\\site-packages (from requests<3,>=2.21.0->tensorboard<2.12,>=2.11->tensorflow-intel==2.11.0->tensorflow==2.11) (3.4)\n",
      "Requirement already satisfied: urllib3<3,>=1.21.1 in c:\\users\\gjaischool1\\anaconda3\\envs\\kcelec\\lib\\site-packages (from requests<3,>=2.21.0->tensorboard<2.12,>=2.11->tensorflow-intel==2.11.0->tensorflow==2.11) (2.0.7)\n",
      "Requirement already satisfied: certifi>=2017.4.17 in c:\\users\\gjaischool1\\anaconda3\\envs\\kcelec\\lib\\site-packages (from requests<3,>=2.21.0->tensorboard<2.12,>=2.11->tensorflow-intel==2.11.0->tensorflow==2.11) (2023.7.22)\n",
      "Requirement already satisfied: MarkupSafe>=2.1.1 in c:\\users\\gjaischool1\\anaconda3\\envs\\kcelec\\lib\\site-packages (from werkzeug>=1.0.1->tensorboard<2.12,>=2.11->tensorflow-intel==2.11.0->tensorflow==2.11) (2.1.3)\n",
      "Requirement already satisfied: zipp>=0.5 in c:\\users\\gjaischool1\\anaconda3\\envs\\kcelec\\lib\\site-packages (from importlib-metadata>=4.4->markdown>=2.6.8->tensorboard<2.12,>=2.11->tensorflow-intel==2.11.0->tensorflow==2.11) (3.17.0)\n",
      "Requirement already satisfied: pyasn1<0.6.0,>=0.4.6 in c:\\users\\gjaischool1\\anaconda3\\envs\\kcelec\\lib\\site-packages (from pyasn1-modules>=0.2.1->google-auth<3,>=1.6.3->tensorboard<2.12,>=2.11->tensorflow-intel==2.11.0->tensorflow==2.11) (0.5.0)\n",
      "Requirement already satisfied: oauthlib>=3.0.0 in c:\\users\\gjaischool1\\anaconda3\\envs\\kcelec\\lib\\site-packages (from requests-oauthlib>=0.7.0->google-auth-oauthlib<0.5,>=0.4.1->tensorboard<2.12,>=2.11->tensorflow-intel==2.11.0->tensorflow==2.11) (3.2.2)\n"
     ]
    }
   ],
   "source": [
    "!pip install --user tensorflow==2.11"
   ]
  },
  {
   "cell_type": "code",
   "execution_count": 2,
   "metadata": {},
   "outputs": [
    {
     "name": "stderr",
     "output_type": "stream",
     "text": [
      "c:\\Users\\gjaischool1\\anaconda3\\envs\\kcelec\\lib\\site-packages\\tqdm\\auto.py:21: TqdmWarning: IProgress not found. Please update jupyter and ipywidgets. See https://ipywidgets.readthedocs.io/en/stable/user_install.html\n",
      "  from .autonotebook import tqdm as notebook_tqdm\n"
     ]
    }
   ],
   "source": [
    "import torch\n",
    "from transformers import T5ForConditionalGeneration, T5Tokenizer"
   ]
  },
  {
   "cell_type": "code",
   "execution_count": 3,
   "metadata": {},
   "outputs": [
    {
     "name": "stdout",
     "output_type": "stream",
     "text": [
      "Requirement already satisfied: sentencepiece in c:\\users\\gjaischool1\\anaconda3\\envs\\kcelec\\lib\\site-packages (0.1.99)\n"
     ]
    }
   ],
   "source": [
    "!pip install sentencepiece"
   ]
  },
  {
   "cell_type": "code",
   "execution_count": 4,
   "metadata": {},
   "outputs": [],
   "source": [
    "model = T5ForConditionalGeneration.from_pretrained(\"j5ng/et5-formal-convertor\")\n",
    "tokenizer = T5Tokenizer.from_pretrained(\"j5ng/et5-formal-convertor\")"
   ]
  },
  {
   "cell_type": "code",
   "execution_count": 5,
   "metadata": {},
   "outputs": [],
   "source": [
    "device = \"cuda:0\" if torch.cuda.is_available() else \"cpu\""
   ]
  },
  {
   "cell_type": "code",
   "execution_count": 6,
   "metadata": {},
   "outputs": [],
   "source": [
    "model = model.to(device)"
   ]
  },
  {
   "cell_type": "code",
   "execution_count": 11,
   "metadata": {},
   "outputs": [],
   "source": [
    "input_text = \"죽고 싶냐?\"\n",
    "input_encoding = tokenizer(\"존댓말로 바꿔주세요: \" + input_text, return_tensors=\"pt\")"
   ]
  },
  {
   "cell_type": "code",
   "execution_count": 12,
   "metadata": {},
   "outputs": [],
   "source": [
    "\n",
    "input_ids = input_encoding.input_ids.to(device)\n",
    "attention_mask = input_encoding.attention_mask.to(device)"
   ]
  },
  {
   "cell_type": "code",
   "execution_count": 13,
   "metadata": {},
   "outputs": [],
   "source": [
    "output_encoding = model.generate(\n",
    "    input_ids=input_ids,\n",
    "    attention_mask=attention_mask,\n",
    "    max_length=128,\n",
    "    num_beams=5,\n",
    "    early_stopping=True,\n",
    ")\n",
    "output_text = tokenizer.decode(output_encoding[0], skip_special_tokens=True)"
   ]
  },
  {
   "cell_type": "code",
   "execution_count": 14,
   "metadata": {},
   "outputs": [
    {
     "name": "stdout",
     "output_type": "stream",
     "text": [
      "죽고 싶으신가요?.\n"
     ]
    }
   ],
   "source": [
    "print(output_text)"
   ]
  },
  {
   "cell_type": "code",
   "execution_count": null,
   "metadata": {},
   "outputs": [],
   "source": [
    "# 코드 설명\n",
    "import torch\n",
    "from transformers import T5ForConditionalGeneration, T5Tokenizer\n",
    "\n",
    "# T5 모델 로드\n",
    "model = T5ForConditionalGeneration.from_pretrained(\"j5ng/et5-formal-convertor\")\n",
    "tokenizer = T5Tokenizer.from_pretrained(\"j5ng/et5-formal-convertor\")\n",
    "\n",
    "device = \"cuda:0\" if torch.cuda.is_available() else \"cpu\"\n",
    "# device = \"mps:0\" if torch.cuda.is_available() else \"cpu\" # for mac m1\n",
    "\n",
    "model = model.to(device) \n",
    "\n",
    "# 예시 입력 문장\n",
    "input_text = \"나 진짜 화났어 지금\"\n",
    "\n",
    "# 입력 문장 인코딩\n",
    "input_encoding = tokenizer(\"존댓말로 바꿔주세요: \" + input_text, return_tensors=\"pt\")\n",
    "\n",
    "input_ids = input_encoding.input_ids.to(device)\n",
    "attention_mask = input_encoding.attention_mask.to(device)\n",
    "\n",
    "# T5 모델 출력 생성\n",
    "output_encoding = model.generate(\n",
    "    input_ids=input_ids,\n",
    "    attention_mask=attention_mask,\n",
    "    max_length=128,\n",
    "    num_beams=5,\n",
    "    early_stopping=True,\n",
    ")\n",
    "\n",
    "# 출력 문장 디코딩\n",
    "output_text = tokenizer.decode(output_encoding[0], skip_special_tokens=True)\n",
    "\n",
    "# 결과 출력\n",
    "print(output_text) # 저 진짜 화났습니다 지금."
   ]
  },
  {
   "cell_type": "code",
   "execution_count": null,
   "metadata": {},
   "outputs": [],
   "source": []
  },
  {
   "cell_type": "code",
   "execution_count": null,
   "metadata": {},
   "outputs": [],
   "source": []
  }
 ],
 "metadata": {
  "kernelspec": {
   "display_name": "Python 3",
   "language": "python",
   "name": "python3"
  },
  "language_info": {
   "codemirror_mode": {
    "name": "ipython",
    "version": 3
   },
   "file_extension": ".py",
   "mimetype": "text/x-python",
   "name": "python",
   "nbconvert_exporter": "python",
   "pygments_lexer": "ipython3",
   "version": "3.8.18"
  }
 },
 "nbformat": 4,
 "nbformat_minor": 2
}
